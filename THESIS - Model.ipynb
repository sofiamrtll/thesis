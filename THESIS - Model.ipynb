{
 "cells": [
  {
   "cell_type": "markdown",
   "id": "637bc311",
   "metadata": {},
   "source": [
    "# THESIS - Model "
   ]
  },
  {
   "cell_type": "markdown",
   "id": "b4a92bfc",
   "metadata": {},
   "source": [
    "# Imports "
   ]
  },
  {
   "cell_type": "code",
   "execution_count": 35,
   "id": "05792d3b",
   "metadata": {},
   "outputs": [],
   "source": [
    "#imports\n",
    "\n",
    "from numpy import array\n",
    "from numpy import argmax\n",
    "from sklearn.preprocessing import LabelEncoder\n",
    "from sklearn.preprocessing import OneHotEncoder\n",
    "\n",
    "import shlex, subprocess\n",
    "import os , sys\n",
    "\n",
    "import tensorflow as tf\n",
    "from tensorflow import keras\n",
    "from tensorflow.keras import layers\n",
    "import numpy as np\n",
    "from Bio import SeqIO\n",
    "import time"
   ]
  },
  {
   "cell_type": "markdown",
   "id": "7006f771",
   "metadata": {},
   "source": [
    "# 1. Preparation of the dataset \n",
    "- One hot encoding the sequences "
   ]
  },
  {
   "cell_type": "code",
   "execution_count": 2,
   "id": "3f7f329b",
   "metadata": {},
   "outputs": [],
   "source": [
    "#NO\n",
    "#One-hot encoding \n",
    "\n",
    "#for every fasta sequence, encode and maybe add to a list (?) --> now trying to add everything to an array --> eventually in a matrix\n",
    "def onehotencode(seq) : #needs to be changed, cannot be that there are sequences with shape (400,3)\n",
    "    values = list(seq)\n",
    "    values = np.array(values)\n",
    "    \n",
    "    label_encoder = LabelEncoder()\n",
    "    integer_encoded = label_encoder.fit_transform(values)\n",
    "    \n",
    "    onehot_encoder = OneHotEncoder(sparse_output=False)\n",
    "    integer_encoded = integer_encoded.reshape(len(integer_encoded), 1)\n",
    "    onehot_encoded = onehot_encoder.fit_transform(integer_encoded)\n",
    "    \n",
    "    if np.shape(onehot_encoded) == (400,3): #this is a problem, I'm just adding a column at the end but how can I know if that zeros column is in the right place? \n",
    "        col = np.zeros([400,1])\n",
    "        onehot_encoded = np.column_stack((onehot_encoded,col))\n",
    "        \n",
    "    return onehot_encoded"
   ]
  },
  {
   "cell_type": "code",
   "execution_count": null,
   "id": "ebc41821",
   "metadata": {},
   "outputs": [],
   "source": [
    "#NO\n",
    "#this is a generator, it generates different sequences and labels but not an object containing all of them, the storing is to be done outside of the function \n",
    "base2int = {'A': 0, 'C': 1, 'G': 2, 'T': 3}\n",
    "\n",
    "\n",
    "def load_fasta(fasta): #the file here is closed -- I might merge the interesting part of this code with mine \n",
    "    \n",
    "    with open(fasta) as f:\n",
    "        for line in f:\n",
    "            if line[0] != '>':\n",
    "                raise ValueError(f'Expected FASTA header, got \\'{line.strip()[:10]}\\'')\n",
    "\n",
    "\n",
    "            label = int(line.strip()[1])\n",
    "\n",
    "\n",
    "            sequence = f.readline().strip()\n",
    "            # Encode sequence bases as integers, i.e. A as 0, C as 1, etc.\n",
    "            sequence_int = [base2int.get(base, 9999) for base in sequence]\n",
    "            # One-hot encode sequence integers, i.e. 0 (A) as [1,0,0,0], 1 (C) as [0,1,0,0], etc.\n",
    "            sequence_onehot = tf.one_hot(sequence_int, depth=4)\n",
    "  \n",
    "            yield sequence_onehot, label\n"
   ]
  },
  {
   "cell_type": "code",
   "execution_count": 36,
   "id": "5a078fd3",
   "metadata": {},
   "outputs": [],
   "source": [
    "#this should work now \n",
    "def fasta_to_onehotencode(seq) : \n",
    "    #values = list(seq)\n",
    "    #values = np.array(values)\n",
    "    base2int = {'A': 0, 'C': 1, 'G': 2, 'T': 3}\n",
    "    # label = int(line.strip()[1])\n",
    "    \n",
    "    \n",
    "    sequence = seq #f.readline().strip()\n",
    "    # Encode sequence bases as integers, i.e. A as 0, C as 1, etc.\n",
    "    sequence_int = [base2int.get(base, 9999) for base in sequence]\n",
    "    \n",
    "    sequence_onehot = tf.one_hot(sequence_int, depth=4)\n",
    "    \n",
    "        \n",
    "    return sequence_onehot"
   ]
  },
  {
   "cell_type": "code",
   "execution_count": 37,
   "id": "1f4360b2",
   "metadata": {},
   "outputs": [],
   "source": [
    "def fastatoarray(fasta_sequences) :\n",
    "    seq_array = np.zeros((1,400,4)) \n",
    "    for fasta in fasta_sequences:\n",
    "        name, sequence = fasta.id, str(fasta.seq)\n",
    "        new_sequence = fasta_to_onehotencode(sequence) #onehotencode(sequence)\n",
    "        new_sequence = np.expand_dims(new_sequence, axis =0)\n",
    "        seq_array = np.vstack((seq_array,new_sequence))\n",
    "    seq_array = np.delete(seq_array, 0, 0) #to remove the first array of zeros \n",
    "    return seq_array                    "
   ]
  },
  {
   "cell_type": "code",
   "execution_count": 38,
   "id": "f658b42c",
   "metadata": {},
   "outputs": [],
   "source": [
    "_start_time = time.time()\n",
    "#change a bit this function or cite \n",
    "def tic():\n",
    "    global _start_time \n",
    "    _start_time = time.time()\n",
    "\n",
    "def tac():\n",
    "    t_sec = round(time.time() - _start_time)\n",
    "    (t_min, t_sec) = divmod(t_sec,60)\n",
    "    (t_hour,t_min) = divmod(t_min,60) \n",
    "    print('Time passed: {}hour:{}min:{}sec'.format(t_hour,t_min,t_sec))"
   ]
  },
  {
   "cell_type": "code",
   "execution_count": 40,
   "id": "1d9b3e57",
   "metadata": {},
   "outputs": [
    {
     "name": "stdout",
     "output_type": "stream",
     "text": [
      "Time passed: 0hour:0min:12sec\n"
     ]
    }
   ],
   "source": [
    "#dataset upload, keeping the first four folders for training and testing and the last one for validation --> try with matrices not list\n",
    "\n",
    "#/lustre/groups/crna01/workspace/sofia/gencode/processed/ENCODE-Sofia/AARS_K562/fold-0/\n",
    "from Bio import SeqIO\n",
    "path = '/lustre/groups/crna01/workspace/sofia/gencode/processed/ENCODE-Sofia/'\n",
    "directory1 = os.listdir(path)\n",
    "\n",
    "\n",
    "tic()\n",
    "\n",
    "for folder in directory1:\n",
    "\n",
    "    if folder == 'AARS_K562': #to be removed later \n",
    "        directory2 = os.listdir(path + '/' + folder)\n",
    "        \n",
    "        seq_list_positive = np.zeros((1,400,4)) \n",
    "        seq_list_negative = np.zeros((1,400,4)) \n",
    "        seq_list_positive_test = np.zeros((1,400,4)) \n",
    "        seq_list_negative_test = np.zeros((1,400,4)) \n",
    "        \n",
    "        for folder2 in directory2 :\n",
    "            directory3 = os.listdir(path+ '/' + folder + '/' + folder2)\n",
    "            \n",
    "            if folder2 != \"fold-4\": #to be split into training and validation\n",
    "            \n",
    "                seq_list_positive_file = np.zeros((1,400,4)) \n",
    "                seq_list_negative_file = np.zeros((1,400,4)) \n",
    "\n",
    "                for file in directory3 :\n",
    "\n",
    "                    if \"fasta\" in file :\n",
    "                        fasta_sequences = SeqIO.parse(open(path+ '/' + folder + '/' + folder2+ '/' + file),'fasta')\n",
    "                        seq_array = fastatoarray(fasta_sequences)\n",
    "                        \n",
    "                        if \"positive\" in file : \n",
    "                            seq_list_positive_file = np.vstack((seq_list_positive_file, seq_array))\n",
    "\n",
    "\n",
    "                        if \"negative-1\" in file: # 2 neg: 1 pos with 'negative' --> 1 neg : 1 pos 'negative-1'\n",
    "                            seq_list_negative_file = np.vstack((seq_list_negative_file, seq_array))\n",
    "                            \n",
    "                seq_list_negative_file = np.delete(seq_list_negative_file, 0, 0)\n",
    "                seq_list_positive_file = np.delete(seq_list_positive_file, 0, 0)\n",
    "\n",
    "                seq_list_positive = np.vstack((seq_list_positive, seq_list_positive_file))\n",
    "                seq_list_negative = np.vstack((seq_list_negative, seq_list_negative_file))\n",
    "\n",
    "  \n",
    "                \n",
    "            if folder2 == \"fold-4\": #for testing\n",
    "                     \n",
    "                    seq_list_positive_test_file = np.zeros((1,400,4)) \n",
    "                    seq_list_negative_test_file = np.zeros((1,400,4)) \n",
    "\n",
    "                    for file in directory3 :\n",
    "\n",
    "                        if \"fasta\" in file :\n",
    "                            fasta_sequences = SeqIO.parse(open(path+ '/' + folder + '/' + folder2+ '/' + file),'fasta')\n",
    "                            seq_array = fastatoarray(fasta_sequences)\n",
    "\n",
    "                            if \"positive\" in file : \n",
    "                                seq_list_positive_test_file = np.vstack((seq_list_positive_test_file, seq_array))\n",
    " \n",
    "\n",
    "                            if \"negative-1\" in file: \n",
    "                                seq_list_negative_test_file = np.vstack((seq_list_negative_test_file, seq_array))\n",
    " \n",
    "                    seq_list_negative_test_file = np.delete(seq_list_negative_test_file, 0, 0)\n",
    "                    seq_list_positive_test_file = np.delete(seq_list_positive_test_file, 0, 0)\n",
    "\n",
    "                    seq_list_positive_test = np.vstack((seq_list_positive_test, seq_list_positive_test_file))\n",
    "                    seq_list_negative_test = np.vstack((seq_list_negative_test, seq_list_negative_test_file))\n",
    "    \n",
    "                    seq_list_negative_test = np.delete(seq_list_negative_test, 0, 0)\n",
    "                    seq_list_positive_test = np.delete(seq_list_positive_test, 0, 0)  \n",
    "\n",
    "        \n",
    "                  \n",
    "        seq_list_negative = np.delete(seq_list_negative, 0, 0)\n",
    "        seq_list_positive = np.delete(seq_list_positive, 0, 0)\n",
    "\n",
    "        \n",
    "\n",
    "\n",
    "            \n",
    "tac()\n"
   ]
  },
  {
   "cell_type": "markdown",
   "id": "bd3ae695",
   "metadata": {},
   "source": [
    "- Preparation of the labels "
   ]
  },
  {
   "cell_type": "code",
   "execution_count": 41,
   "id": "44aa0c01",
   "metadata": {},
   "outputs": [
    {
     "name": "stdout",
     "output_type": "stream",
     "text": [
      "Shape of labels: \n",
      "-positive :  (2667, 1) \n",
      "-negative :  (2667, 1) \n",
      "-positive validation :  (720, 1) \n",
      "-negative validation :  (720, 1)\n"
     ]
    }
   ],
   "source": [
    "#preparation of the labels for the positive and negative dataset and validation set\n",
    "\n",
    "labels_positive = np.ones((np.shape(seq_list_positive)[0], 1))\n",
    "\n",
    "labels_negative = np.zeros((np.shape(seq_list_negative)[0], 1))\n",
    " \n",
    "labels_positive_test = np.ones((np.shape(seq_list_positive_test)[0], 1))\n",
    "\n",
    "labels_negative_test = np.zeros((np.shape(seq_list_negative_test)[0], 1))\n",
    "print('Shape of labels: \\n-positive : ',np.shape(labels_negative),'\\n-negative : ', np.shape(labels_negative),'\\n-positive validation : ',np.shape(labels_positive_test),'\\n-negative validation : ',np.shape(labels_negative_test))"
   ]
  },
  {
   "cell_type": "code",
   "execution_count": 42,
   "id": "894c8257",
   "metadata": {},
   "outputs": [],
   "source": [
    "#merging the positive and negative datasets \n",
    "x = np.vstack((seq_list_positive, seq_list_negative))\n",
    "\n",
    "x_test = np.vstack((seq_list_positive_test, seq_list_negative_test))\n",
    "\n",
    "y = np.vstack((labels_positive, labels_negative))\n",
    "\n",
    "y_test = np.vstack((labels_positive_test, labels_negative_test))\n"
   ]
  },
  {
   "cell_type": "markdown",
   "id": "91508dd8",
   "metadata": {},
   "source": [
    "- Splitting of the dataset : test, train and validation sets "
   ]
  },
  {
   "cell_type": "code",
   "execution_count": 43,
   "id": "15fac183",
   "metadata": {},
   "outputs": [
    {
     "name": "stdout",
     "output_type": "stream",
     "text": [
      "Shape of datasets: \n",
      "-training set :  (3573, 400, 4) \n",
      "-validation set :  (1761, 400, 4) \n",
      "-testing set :  (1440, 400, 4)\n"
     ]
    }
   ],
   "source": [
    "#creation of the validation set \n",
    "import numpy as np\n",
    "from sklearn.model_selection import train_test_split\n",
    "\n",
    "#parameters \n",
    "test_size1 = 0.33\n",
    "\n",
    "#test set\n",
    "\n",
    "x_train, x_val, y_train, y_val = train_test_split(x, y, test_size=test_size1, shuffle= True)\n",
    "\n",
    "y_train = y_train.astype(\"float32\")#actually useful?\n",
    "y_val =y_val.astype(\"float32\")\n",
    "y_test = y_test.astype(\"float32\")\n",
    "\n",
    "x_train = x_train.astype(\"float32\")\n",
    "x_val = x_val.astype(\"float32\")\n",
    "x_test =x_test.astype(\"float32\")\n",
    "\n",
    "\n",
    "\n",
    "print('Shape of datasets: \\n-training set : ',np.shape(x_train),'\\n-validation set : ',np.shape(x_val),'\\n-testing set : ', np.shape(x_test))"
   ]
  },
  {
   "cell_type": "code",
   "execution_count": null,
   "id": "62b5069b",
   "metadata": {},
   "outputs": [],
   "source": [
    "# Prepare the training dataset. --> I HAVE AVOIDED THIS STEP OTHERWISE THE MODEL DOES NOT RUN \n",
    "#parameters\n",
    "batch_size = 32 #--> how much should be my batch size? \n",
    "buffer_size = len(x_train) + 100 #For perfect shuffling, a buffer size greater than or equal to the full size of the dataset is required.\n",
    "buffer_size_test= len(x_test) + 100\n",
    "\n",
    "# Prepare the training dataset.\n",
    "train_dataset = tf.data.Dataset.from_tensor_slices((x_train, y_train))\n",
    "train_dataset = train_dataset.shuffle(buffer_size=buffer_size).batch(batch_size) \n",
    "\n",
    "# Prepare the testing dataset.\n",
    "test_dataset = tf.data.Dataset.from_tensor_slices((x_test, y_test))\n",
    "test_dataset = train_dataset.shuffle(buffer_size=buffer_size_test).batch(batch_size)\n",
    "\n",
    "# Prepare the validation dataset.\n",
    "val_dataset = tf.data.Dataset.from_tensor_slices((x_val, y_val))\n",
    "val_dataset = val_dataset.batch(batch_size)"
   ]
  },
  {
   "cell_type": "code",
   "execution_count": 44,
   "id": "66d4aee6",
   "metadata": {},
   "outputs": [
    {
     "data": {
      "image/png": "[encoded data removed]",
      "text/plain": [
       "<Figure size 640x480 with 1 Axes>"
      ]
     },
     "metadata": {},
     "output_type": "display_data"
    },
    {
     "data": {
      "image/png": "[encoded data removed]",
      "text/plain": [
       "<Figure size 640x480 with 1 Axes>"
      ]
     },
     "metadata": {},
     "output_type": "display_data"
    },
    {
     "data": {
      "image/png": "[encoded data removed]",
      "text/plain": [
       "<Figure size 640x480 with 1 Axes>"
      ]
     },
     "metadata": {},
     "output_type": "display_data"
    }
   ],
   "source": [
    "#checking class ditribution in the whole dataset and training set\n",
    "import matplotlib.pyplot as plt\n",
    "\n",
    "plt.hist(y)\n",
    "plt.xticks(range(2))\n",
    "plt.title('Label Frequency')\n",
    "plt.show()\n",
    "\n",
    "plt.hist(y_train)\n",
    "plt.xticks(range(2))\n",
    "plt.title('Label Frequency training set')\n",
    "plt.show()\n",
    "\n",
    "plt.hist(y_val)\n",
    "plt.xticks(range(2))\n",
    "plt.title('Label Frequency validation set')\n",
    "plt.show()"
   ]
  },
  {
   "cell_type": "markdown",
   "id": "89762bc1",
   "metadata": {},
   "source": [
    "# 2. Model  "
   ]
  },
  {
   "cell_type": "markdown",
   "id": "0abc4e6e",
   "metadata": {},
   "source": [
    "# 2.1 .compile() \n",
    "- Create the baseline model "
   ]
  },
  {
   "cell_type": "code",
   "execution_count": 45,
   "id": "1a92b9c5",
   "metadata": {},
   "outputs": [],
   "source": [
    "#first is .compile() --> to create the baseline model : no dataset\n",
    "def create_baseline():\n",
    "    from tensorflow.keras.optimizers.legacy import Adam\n",
    "   \n",
    "    #the first layer should be a convolutional layer\n",
    "    #conv-maxpooling-dropout-conv-maxpooling-dropout-flatten-(dense-dropout)-dense --> this is the pysster architecture \n",
    "    #how long should the kernel be? \n",
    "    #the parameters are now the default ones from pysster\n",
    "    \n",
    "    #parameters \n",
    "    input_shape = (400, 4)\n",
    "    #batch_size = 1 --> when batching the dataset, the model gives a graph error \n",
    "    filters = 30\n",
    "    kernel_size = 25\n",
    "    pool_size = 2\n",
    "    strides = 2\n",
    "    #activation ? \n",
    "    #kernel_initializer ? \n",
    "    loss='binary_crossentropy'\n",
    "    optimizer='adam' \n",
    "    metrics=['accuracy']\n",
    "    \n",
    "    # create model\n",
    "        \n",
    "    model = keras.Sequential()\n",
    "    \n",
    "    model.add(keras.layers.InputLayer(input_shape= input_shape))#, batch_size=batch_size))\n",
    "    #model.add(keras.layers.Dropout(0.3)) -- seems better without this step\n",
    "    \n",
    "    model.add(keras.layers.Conv1D(filters=filters,kernel_size=kernel_size,#kernel_size is kernel length right? \n",
    "              kernel_initializer='random_normal', #to be changed once I have the actual input data -- from constant 1 ato random normal\n",
    "             #glorot_uniform(seed=12)\n",
    "              activation='relu'))#,input_shape=input_shape[1:])) #--> idk what to add\n",
    "             #or without data? )\n",
    "    model.add(keras.layers.MaxPooling1D(pool_size=pool_size, strides=strides, padding='valid'))#valid or same? padding or not \n",
    "    model.add(keras.layers.Dropout(0.3))\n",
    "\n",
    "    model.add(keras.layers.Conv1D(filters=filters,kernel_size=kernel_size,\n",
    "              kernel_initializer= 'random_normal', \n",
    "             #glorot_uniform(seed=12)\n",
    "              activation='relu',input_shape=input_shape ))#--> idk what to add\n",
    "\n",
    "    model.add(keras.layers.MaxPooling1D(pool_size=pool_size, strides=strides, padding='valid'))\n",
    "    model.add(keras.layers.Dropout(0.3))\n",
    "\n",
    "    model.add(keras.layers.Flatten())#without parameters\n",
    "\n",
    "    model.add(keras.layers.Dense(1024, activation='relu'))#is it always relu? also sigmoid is an option \n",
    "    model.add(keras.layers.Dropout(0.6))\n",
    "    \n",
    "    model.add(keras.layers.Dense(128, activation='relu'))#is it always relu? also sigmoid is an option \n",
    "    model.add(keras.layers.Dropout(0.6))\n",
    "\n",
    "    model.add(keras.layers.Dense(1, activation='sigmoid'))#what should be the output shape? 1? \n",
    "\n",
    "    \n",
    "    # Compile model\n",
    "    model.compile(loss='binary_crossentropy', optimizer='adam', metrics=['accuracy']) # for binary classification\n",
    "    \n",
    "    #model.compile( optimizer=keras.optimizers.legacy.Adam(learning_rate=1e-4),# Optimizer\n",
    "                    # Loss function to minimize\n",
    "                    #loss=keras.losses.BinaryCrossentropy(),\n",
    "                    # List of metrics to monitor\n",
    "                    #metrics=[keras.metrics.BinaryAccuracy()],)\n",
    "        #model.compile(loss='categorical_crossentropy', optimizer='adam', metrics=['accuracy'])  # for multi class\n",
    "    return model\n"
   ]
  },
  {
   "cell_type": "code",
   "execution_count": 46,
   "id": "a3cddd1f",
   "metadata": {},
   "outputs": [
    {
     "name": "stdout",
     "output_type": "stream",
     "text": [
      "[<keras.layers.convolutional.conv1d.Conv1D object at 0x7f72b04f0220>, <keras.layers.pooling.max_pooling1d.MaxPooling1D object at 0x7f7294498940>, <keras.layers.regularization.dropout.Dropout object at 0x7f7294499210>, <keras.layers.convolutional.conv1d.Conv1D object at 0x7f72b04f1600>, <keras.layers.pooling.max_pooling1d.MaxPooling1D object at 0x7f72b04f2ec0>, <keras.layers.regularization.dropout.Dropout object at 0x7f72b04f3970>, <keras.layers.reshaping.flatten.Flatten object at 0x7f72b0341300>, <keras.layers.core.dense.Dense object at 0x7f72b04f36d0>, <keras.layers.regularization.dropout.Dropout object at 0x7f72b0341600>, <keras.layers.core.dense.Dense object at 0x7f72b0342c80>, <keras.layers.regularization.dropout.Dropout object at 0x7f72b0342f50>, <keras.layers.core.dense.Dense object at 0x7f72b0342e30>]\n",
      "Model: \"sequential_27\"\n",
      "_________________________________________________________________\n",
      " Layer (type)                Output Shape              Param #   \n",
      "=================================================================\n",
      " conv1d_54 (Conv1D)          (None, 376, 30)           3030      \n",
      "                                                                 \n",
      " max_pooling1d_54 (MaxPoolin  (None, 188, 30)          0         \n",
      " g1D)                                                            \n",
      "                                                                 \n",
      " dropout_85 (Dropout)        (None, 188, 30)           0         \n",
      "                                                                 \n",
      " conv1d_55 (Conv1D)          (None, 164, 30)           22530     \n",
      "                                                                 \n",
      " max_pooling1d_55 (MaxPoolin  (None, 82, 30)           0         \n",
      " g1D)                                                            \n",
      "                                                                 \n",
      " dropout_86 (Dropout)        (None, 82, 30)            0         \n",
      "                                                                 \n",
      " flatten_27 (Flatten)        (None, 2460)              0         \n",
      "                                                                 \n",
      " dense_57 (Dense)            (None, 1024)              2520064   \n",
      "                                                                 \n",
      " dropout_87 (Dropout)        (None, 1024)              0         \n",
      "                                                                 \n",
      " dense_58 (Dense)            (None, 128)               131200    \n",
      "                                                                 \n",
      " dropout_88 (Dropout)        (None, 128)               0         \n",
      "                                                                 \n",
      " dense_59 (Dense)            (None, 1)                 129       \n",
      "                                                                 \n",
      "=================================================================\n",
      "Total params: 2,676,953\n",
      "Trainable params: 2,676,953\n",
      "Non-trainable params: 0\n",
      "_________________________________________________________________\n",
      "None\n"
     ]
    }
   ],
   "source": [
    "model = create_baseline()\n",
    "\n",
    "print(model.layers)\n",
    "\n",
    "print(model.summary()) "
   ]
  },
  {
   "cell_type": "code",
   "execution_count": 15,
   "id": "20818404",
   "metadata": {},
   "outputs": [],
   "source": [
    "from sklearn.model_selection import StratifiedKFold\n",
    "from scikeras.wrappers import KerasClassifier\n",
    "from sklearn.model_selection import cross_val_score\n",
    "\n",
    "#showing the mean and standard deviation of the estimated accuracy of the model on unseen data."
   ]
  },
  {
   "cell_type": "code",
   "execution_count": 34,
   "id": "598f4eb5",
   "metadata": {},
   "outputs": [
    {
     "name": "stdout",
     "output_type": "stream",
     "text": [
      "Baseline: 76.35% (1.57%)\n"
     ]
    }
   ],
   "source": [
    "estimator = KerasClassifier(model=create_baseline, epochs=100, batch_size=5, verbose=0)\n",
    "kfold = StratifiedKFold(n_splits=10, shuffle=True)\n",
    "results = cross_val_score(estimator, x_train, y_train, cv=kfold) #change to x_val and y_val\n",
    "print(\"Baseline: %.2f%% (%.2f%%)\" % (results.mean()*100, results.std()*100))"
   ]
  },
  {
   "cell_type": "markdown",
   "id": "401d43ea",
   "metadata": {},
   "source": [
    "# 2.2 .fit() \n",
    "- Training the model "
   ]
  },
  {
   "cell_type": "code",
   "execution_count": 22,
   "id": "454b591d",
   "metadata": {},
   "outputs": [
    {
     "name": "stdout",
     "output_type": "stream",
     "text": [
      "The tensorboard extension is already loaded. To reload it, use:\n",
      "  %reload_ext tensorboard\n"
     ]
    }
   ],
   "source": [
    "%load_ext tensorboard\n",
    "%rm -rf ./logs/"
   ]
  },
  {
   "cell_type": "code",
   "execution_count": 23,
   "id": "a09bf344",
   "metadata": {},
   "outputs": [
    {
     "data": {
      "text/plain": [
       "Reusing TensorBoard on port 6006 (pid 118890), started 0:52:08 ago. (Use '!kill 118890' to kill it.)"
      ]
     },
     "metadata": {},
     "output_type": "display_data"
    },
    {
     "data": {
      "text/html": [
       "\n",
       "      <iframe id=\"tensorboard-frame-e4ec664981489543\" width=\"100%\" height=\"800\" frameborder=\"0\">\n",
       "      </iframe>\n",
       "      <script>\n",
       "        (function() {\n",
       "          const frame = document.getElementById(\"tensorboard-frame-e4ec664981489543\");\n",
       "          const url = new URL(\"/\", window.location);\n",
       "          const port = 6006;\n",
       "          if (port) {\n",
       "            url.port = port;\n",
       "          }\n",
       "          frame.src = url;\n",
       "        })();\n",
       "      </script>\n",
       "    "
      ],
      "text/plain": [
       "<IPython.core.display.HTML object>"
      ]
     },
     "metadata": {},
     "output_type": "display_data"
    }
   ],
   "source": [
    "%tensorboard --logdir logs/fit"
   ]
  },
  {
   "cell_type": "code",
   "execution_count": 47,
   "id": "65d21c45",
   "metadata": {},
   "outputs": [
    {
     "name": "stdout",
     "output_type": "stream",
     "text": [
      "Fit model on training data\n",
      "Epoch 1/20\n",
      "112/112 [==============================] - 6s 21ms/step - loss: 0.6344 - accuracy: 0.6518 - val_loss: 0.5989 - val_accuracy: 0.7371\n",
      "Epoch 2/20\n",
      "112/112 [==============================] - 2s 16ms/step - loss: 0.5562 - accuracy: 0.7344 - val_loss: 0.4995 - val_accuracy: 0.7564\n",
      "Epoch 3/20\n",
      "112/112 [==============================] - 2s 16ms/step - loss: 0.5340 - accuracy: 0.7448 - val_loss: 0.5163 - val_accuracy: 0.7592\n",
      "Epoch 4/20\n",
      "112/112 [==============================] - 2s 16ms/step - loss: 0.5196 - accuracy: 0.7627 - val_loss: 0.5137 - val_accuracy: 0.7581\n",
      "Epoch 5/20\n",
      "112/112 [==============================] - 2s 16ms/step - loss: 0.4986 - accuracy: 0.7783 - val_loss: 0.5301 - val_accuracy: 0.7496\n",
      "Epoch 6/20\n",
      "112/112 [==============================] - 2s 17ms/step - loss: 0.4858 - accuracy: 0.7811 - val_loss: 0.4757 - val_accuracy: 0.7973\n",
      "Epoch 7/20\n",
      "112/112 [==============================] - 2s 16ms/step - loss: 0.4539 - accuracy: 0.7940 - val_loss: 0.4919 - val_accuracy: 0.8012\n",
      "Epoch 8/20\n",
      "112/112 [==============================] - 2s 16ms/step - loss: 0.4360 - accuracy: 0.8108 - val_loss: 0.4722 - val_accuracy: 0.7905\n",
      "Epoch 9/20\n",
      "112/112 [==============================] - 2s 16ms/step - loss: 0.4014 - accuracy: 0.8234 - val_loss: 0.4524 - val_accuracy: 0.8024\n",
      "Epoch 10/20\n",
      "112/112 [==============================] - 2s 16ms/step - loss: 0.4011 - accuracy: 0.8265 - val_loss: 0.4705 - val_accuracy: 0.7888\n",
      "Epoch 11/20\n",
      "112/112 [==============================] - 2s 16ms/step - loss: 0.3545 - accuracy: 0.8444 - val_loss: 0.4634 - val_accuracy: 0.7905\n",
      "Epoch 12/20\n",
      "112/112 [==============================] - 2s 16ms/step - loss: 0.3143 - accuracy: 0.8724 - val_loss: 0.4580 - val_accuracy: 0.7808\n",
      "Epoch 13/20\n",
      "112/112 [==============================] - 2s 16ms/step - loss: 0.3146 - accuracy: 0.8701 - val_loss: 0.5033 - val_accuracy: 0.7723\n",
      "Epoch 14/20\n",
      "112/112 [==============================] - 2s 16ms/step - loss: 0.2767 - accuracy: 0.8827 - val_loss: 0.5047 - val_accuracy: 0.7876\n",
      "Epoch 15/20\n",
      "112/112 [==============================] - 2s 16ms/step - loss: 0.2647 - accuracy: 0.8861 - val_loss: 0.4711 - val_accuracy: 0.8047\n",
      "Epoch 16/20\n",
      "112/112 [==============================] - 2s 16ms/step - loss: 0.2538 - accuracy: 0.8956 - val_loss: 0.4736 - val_accuracy: 0.7944\n",
      "Epoch 17/20\n",
      "112/112 [==============================] - 2s 16ms/step - loss: 0.2509 - accuracy: 0.8962 - val_loss: 0.4749 - val_accuracy: 0.7882\n",
      "Epoch 18/20\n",
      "112/112 [==============================] - 2s 16ms/step - loss: 0.2126 - accuracy: 0.9146 - val_loss: 0.5058 - val_accuracy: 0.7740\n",
      "Epoch 19/20\n",
      "112/112 [==============================] - 2s 16ms/step - loss: 0.1948 - accuracy: 0.9253 - val_loss: 0.5336 - val_accuracy: 0.7802\n",
      "Epoch 20/20\n",
      "112/112 [==============================] - 2s 16ms/step - loss: 0.1898 - accuracy: 0.9236 - val_loss: 0.5383 - val_accuracy: 0.7780\n"
     ]
    }
   ],
   "source": [
    "#second is to use .fit() --> to train the model : use x_train, y_train --> either .fit() or training loop from scratch (see below)\n",
    "print(\"Fit model on training data\")\n",
    "\n",
    "model = create_baseline()\n",
    "\n",
    "import datetime\n",
    "#%tensorboard --logdir logs/fit\n",
    "#parameters \n",
    "#batch_size=32\n",
    "epochs= 20\n",
    "\n",
    "log_dir = \"logs/fit/\" + datetime.datetime.now().strftime(\"%Y%m%d-%H%M%S\")\n",
    "tensorboard_callback = tf.keras.callbacks.TensorBoard(log_dir=log_dir, histogram_freq=1)\n",
    "\n",
    "history = model.fit(\n",
    "    x_train,\n",
    "    y_train,\n",
    "    #batch_size=batch_size, --> the tf.dataset already batched the dataset \n",
    "    epochs=epochs,\n",
    "    # We pass some validation for\n",
    "    # monitoring validation loss and metrics\n",
    "    # at the end of each epoch\n",
    "    validation_data=(x_val,y_val),\n",
    "    callbacks=[tensorboard_callback]\n",
    ")"
   ]
  },
  {
   "cell_type": "code",
   "execution_count": 49,
   "id": "4d76c2e7",
   "metadata": {},
   "outputs": [
    {
     "name": "stdout",
     "output_type": "stream",
     "text": [
      "Fit model on training data\n",
      "Epoch 1/20\n",
      "112/112 [==============================] - 5s 14ms/step - loss: 0.6239 - accuracy: 0.6521\n",
      "Epoch 2/20\n",
      "112/112 [==============================] - 2s 13ms/step - loss: 0.5645 - accuracy: 0.7196\n",
      "Epoch 3/20\n",
      "112/112 [==============================] - 2s 13ms/step - loss: 0.5397 - accuracy: 0.7380\n",
      "Epoch 4/20\n",
      "112/112 [==============================] - 1s 13ms/step - loss: 0.5110 - accuracy: 0.7551\n",
      "Epoch 5/20\n",
      "112/112 [==============================] - 1s 13ms/step - loss: 0.4925 - accuracy: 0.7688\n",
      "Epoch 6/20\n",
      "112/112 [==============================] - 1s 13ms/step - loss: 0.4768 - accuracy: 0.7789\n",
      "Epoch 7/20\n",
      "112/112 [==============================] - 2s 13ms/step - loss: 0.4563 - accuracy: 0.7865\n",
      "Epoch 8/20\n",
      "112/112 [==============================] - 2s 13ms/step - loss: 0.4235 - accuracy: 0.8041\n",
      "Epoch 9/20\n",
      "112/112 [==============================] - 1s 13ms/step - loss: 0.3794 - accuracy: 0.8307\n",
      "Epoch 10/20\n",
      "112/112 [==============================] - 2s 13ms/step - loss: 0.3620 - accuracy: 0.8388\n",
      "Epoch 11/20\n",
      "112/112 [==============================] - 1s 13ms/step - loss: 0.3282 - accuracy: 0.8648\n",
      "Epoch 12/20\n",
      "112/112 [==============================] - 1s 13ms/step - loss: 0.3114 - accuracy: 0.8721\n",
      "Epoch 13/20\n",
      "112/112 [==============================] - 2s 13ms/step - loss: 0.2963 - accuracy: 0.8735\n",
      "Epoch 14/20\n",
      "112/112 [==============================] - 1s 13ms/step - loss: 0.2759 - accuracy: 0.8813\n",
      "Epoch 15/20\n",
      "112/112 [==============================] - 1s 13ms/step - loss: 0.2358 - accuracy: 0.9057\n",
      "Epoch 16/20\n",
      "112/112 [==============================] - 1s 13ms/step - loss: 0.2260 - accuracy: 0.9082\n",
      "Epoch 17/20\n",
      "112/112 [==============================] - 1s 13ms/step - loss: 0.2167 - accuracy: 0.9065\n",
      "Epoch 18/20\n",
      "112/112 [==============================] - 1s 13ms/step - loss: 0.2044 - accuracy: 0.9166\n",
      "Epoch 19/20\n",
      "112/112 [==============================] - 2s 13ms/step - loss: 0.1934 - accuracy: 0.9233\n",
      "Epoch 20/20\n",
      "112/112 [==============================] - 2s 13ms/step - loss: 0.1835 - accuracy: 0.9300\n"
     ]
    }
   ],
   "source": [
    "#second is to use .fit() --> to train the model : use x_train, y_train --> either .fit() or training loop from scratch (see below)\n",
    "print(\"Fit model on training data\")\n",
    "#%tensorboard --logdir logs/fit\n",
    "\n",
    "model = create_baseline()\n",
    "\n",
    "#parameters \n",
    "#batch_size=32\n",
    "epochs= 20\n",
    "\n",
    "\n",
    "history = model.fit(\n",
    "    x_train,\n",
    "    y_train,\n",
    "    #batch_size=batch_size, --> the tf.dataset already batched the dataset \n",
    "    epochs=epochs\n",
    ")"
   ]
  },
  {
   "cell_type": "code",
   "execution_count": 25,
   "id": "6ef6898a",
   "metadata": {},
   "outputs": [
    {
     "data": {
      "text/plain": [
       "Reusing TensorBoard on port 6006 (pid 118890), started 0:53:20 ago. (Use '!kill 118890' to kill it.)"
      ]
     },
     "metadata": {},
     "output_type": "display_data"
    },
    {
     "data": {
      "text/html": [
       "\n",
       "      <iframe id=\"tensorboard-frame-c5673c9be2f3fa62\" width=\"100%\" height=\"800\" frameborder=\"0\">\n",
       "      </iframe>\n",
       "      <script>\n",
       "        (function() {\n",
       "          const frame = document.getElementById(\"tensorboard-frame-c5673c9be2f3fa62\");\n",
       "          const url = new URL(\"/\", window.location);\n",
       "          const port = 6006;\n",
       "          if (port) {\n",
       "            url.port = port;\n",
       "          }\n",
       "          frame.src = url;\n",
       "        })();\n",
       "      </script>\n",
       "    "
      ],
      "text/plain": [
       "<IPython.core.display.HTML object>"
      ]
     },
     "metadata": {},
     "output_type": "display_data"
    }
   ],
   "source": [
    "%tensorboard --logdir logs/fit"
   ]
  },
  {
   "cell_type": "code",
   "execution_count": 26,
   "id": "c77bdd0d",
   "metadata": {},
   "outputs": [
    {
     "name": "stdout",
     "output_type": "stream",
     "text": [
      "\n",
      "Start of epoch 0\n"
     ]
    },
    {
     "ename": "NameError",
     "evalue": "name 'train_dataset' is not defined",
     "output_type": "error",
     "traceback": [
      "\u001b[0;31m---------------------------------------------------------------------------\u001b[0m",
      "\u001b[0;31mNameError\u001b[0m                                 Traceback (most recent call last)",
      "Cell \u001b[0;32mIn[26], line 24\u001b[0m\n\u001b[1;32m     21\u001b[0m start_time \u001b[38;5;241m=\u001b[39m time\u001b[38;5;241m.\u001b[39mtime()\n\u001b[1;32m     23\u001b[0m \u001b[38;5;66;03m# Iterate over the batches of the dataset.\u001b[39;00m\n\u001b[0;32m---> 24\u001b[0m \u001b[38;5;28;01mfor\u001b[39;00m step, (x_batch_train, y_batch_train) \u001b[38;5;129;01min\u001b[39;00m \u001b[38;5;28menumerate\u001b[39m(\u001b[43mtrain_dataset\u001b[49m): \u001b[38;5;66;03m#55 steps\u001b[39;00m\n\u001b[1;32m     25\u001b[0m     \u001b[38;5;66;03m#print(step)\u001b[39;00m\n\u001b[1;32m     26\u001b[0m     \u001b[38;5;66;03m# Open a GradientTape to record the operations run\u001b[39;00m\n\u001b[1;32m     27\u001b[0m     \u001b[38;5;66;03m# during the forward pass, which enables auto-differentiation.\u001b[39;00m\n\u001b[1;32m     28\u001b[0m     \u001b[38;5;28;01mwith\u001b[39;00m tf\u001b[38;5;241m.\u001b[39mGradientTape() \u001b[38;5;28;01mas\u001b[39;00m tape:\n\u001b[1;32m     29\u001b[0m \n\u001b[1;32m     30\u001b[0m         \u001b[38;5;66;03m# Run the forward pass of the layer.\u001b[39;00m\n\u001b[1;32m     31\u001b[0m         \u001b[38;5;66;03m# The operations that the layer applies\u001b[39;00m\n\u001b[1;32m     32\u001b[0m         \u001b[38;5;66;03m# to its inputs are going to be recorded\u001b[39;00m\n\u001b[1;32m     33\u001b[0m         \u001b[38;5;66;03m# on the GradientTape.\u001b[39;00m\n\u001b[1;32m     34\u001b[0m         logits \u001b[38;5;241m=\u001b[39m model(x_batch_train, training\u001b[38;5;241m=\u001b[39m\u001b[38;5;28;01mTrue\u001b[39;00m)  \n",
      "\u001b[0;31mNameError\u001b[0m: name 'train_dataset' is not defined"
     ]
    }
   ],
   "source": [
    "#first attempt of a training loop from scratch --> added the evaluation loop here --> WORKS WITH TF.DATASETS\n",
    "\n",
    "#parameters\n",
    "#input_shape = (3388, 401, 4)\n",
    "input_shape = (400, 4)\n",
    "epochs = 5 #for the test \n",
    "#optimizer = keras.optimizers.SGD(learning_rate=1e-3)#or adam ? --> check  \n",
    "optimizer = keras.optimizers.Adam(learning_rate=1e-3)\n",
    "loss_fn = keras.losses.BinaryCrossentropy(from_logits=False)#parameter is recommended as true \n",
    "# Prepare the metrics.\n",
    "train_acc_metric = keras.metrics.BinaryAccuracy()\n",
    "val_acc_metric = keras.metrics.BinaryAccuracy()\n",
    "\n",
    "\n",
    "model = create_baseline()\n",
    "\n",
    "import time\n",
    "\n",
    "for epoch in range(epochs):\n",
    "    print(\"\\nStart of epoch %d\" % (epoch,))\n",
    "    start_time = time.time()\n",
    "    \n",
    "    # Iterate over the batches of the dataset.\n",
    "    for step, (x_batch_train, y_batch_train) in enumerate(train_dataset): #55 steps\n",
    "        #print(step)\n",
    "        # Open a GradientTape to record the operations run\n",
    "        # during the forward pass, which enables auto-differentiation.\n",
    "        with tf.GradientTape() as tape:\n",
    "\n",
    "            # Run the forward pass of the layer.\n",
    "            # The operations that the layer applies\n",
    "            # to its inputs are going to be recorded\n",
    "            # on the GradientTape.\n",
    "            logits = model(x_batch_train, training=True)  \n",
    "            #print(\"Number of weights after calling the model:\", len(model.weights))\n",
    "\n",
    "            # Compute the loss value for this minibatch.\n",
    "            loss_value = loss_fn(y_batch_train, logits)\n",
    "    \n",
    "            \n",
    "        # Use the gradient tape to automatically retrieve\n",
    "        # the gradients of the trainable variables with respect to the loss.\n",
    "        grads = tape.gradient(loss_value, model.trainable_weights)\n",
    "    \n",
    "\n",
    "        # Run one step of gradient descent by updating\n",
    "        # the value of the variables to minimize the loss.\n",
    "        optimizer.apply_gradients(zip(grads, model.trainable_weights)) #I think it doesn't work because there's just one class now . \n",
    "\n",
    "        # Log every 200 batches.\n",
    "        if (step % 50) == 0:\n",
    "            print(\n",
    "                \"Training loss (for one batch) at step %d: %.4f\"\n",
    "                % (step, float(loss_value))\n",
    "            )\n",
    "            print(\"Seen so far: %s samples\" % ((step + 1) * batch_size))\n",
    "    # Display metrics at the end of each epoch.\n",
    "    train_acc = train_acc_metric.result()\n",
    "    print(\"Training acc over epoch: %.4f\" % (float(train_acc),))\n",
    "\n",
    "    # Reset training metrics at the end of each epoch\n",
    "    train_acc_metric.reset_states()\n",
    "\n",
    "    # Run a validation loop at the end of each epoch.\n",
    "    for x_batch_val, y_batch_val in val_dataset:\n",
    "        val_logits = model(x_batch_val, training=False)\n",
    "\n",
    "        # Update val metrics\n",
    "        val_acc_metric.update_state(y_batch_val, val_logits)\n",
    "    val_acc = val_acc_metric.result()\n",
    "    val_acc_metric.reset_states()\n",
    "    print(\"Validation acc: %.4f\" % (float(val_acc),))\n",
    "    print(\"Time taken: %.2fs\" % (time.time() - start_time))\n",
    "    "
   ]
  },
  {
   "cell_type": "code",
   "execution_count": null,
   "id": "e9231490",
   "metadata": {},
   "outputs": [],
   "source": [
    "from sklearn.metrics import confusion_matrix\n",
    "\n",
    "y_pred_class = y_pred_pos > threshold\n",
    "cm = confusion_matrix(y_true, y_pred_class)\n",
    "tn, fp, fn, tp = cm.ravel()"
   ]
  }
 ],
 "metadata": {
  "kernelspec": {
   "display_name": "Python (my-thesis-env)",
   "language": "python",
   "name": "myenv"
  },
  "language_info": {
   "codemirror_mode": {
    "name": "ipython",
    "version": 3
   },
   "file_extension": ".py",
   "mimetype": "text/x-python",
   "name": "python",
   "nbconvert_exporter": "python",
   "pygments_lexer": "ipython3",
   "version": "3.10.8"
  }
 },
 "nbformat": 4,
 "nbformat_minor": 5
}
