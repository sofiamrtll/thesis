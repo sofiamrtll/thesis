{
 "cells": [
  {
   "cell_type": "markdown",
   "id": "637bc311",
   "metadata": {},
   "source": [
    "# THESIS - Model "
   ]
  },
  {
   "cell_type": "markdown",
   "id": "b4a92bfc",
   "metadata": {},
   "source": [
    "# Imports "
   ]
  },
  {
   "cell_type": "code",
   "execution_count": 1,
   "id": "05792d3b",
   "metadata": {},
   "outputs": [
    {
     "name": "stderr",
     "output_type": "stream",
     "text": [
      "2023-02-11 15:21:17.161901: I tensorflow/core/platform/cpu_feature_guard.cc:193] This TensorFlow binary is optimized with oneAPI Deep Neural Network Library (oneDNN) to use the following CPU instructions in performance-critical operations:  SSE4.1 SSE4.2 AVX AVX2 AVX512F FMA\n",
      "To enable them in other operations, rebuild TensorFlow with the appropriate compiler flags.\n"
     ]
    }
   ],
   "source": [
    "#imports\n",
    "\n",
    "from numpy import array\n",
    "from numpy import argmax\n",
    "from sklearn.preprocessing import LabelEncoder\n",
    "from sklearn.preprocessing import OneHotEncoder\n",
    "\n",
    "import shlex, subprocess\n",
    "import os , sys\n",
    "\n",
    "import tensorflow as tf\n",
    "from tensorflow import keras\n",
    "from tensorflow.keras import layers\n",
    "import numpy as np\n",
    "from Bio import SeqIO\n",
    "import time"
   ]
  },
  {
   "cell_type": "markdown",
   "id": "7006f771",
   "metadata": {},
   "source": [
    "# 1. Preparation of the dataset \n",
    "- One hot encoding the sequences "
   ]
  },
  {
   "cell_type": "code",
   "execution_count": 2,
   "id": "5a078fd3",
   "metadata": {},
   "outputs": [],
   "source": [
    "#this should work now \n",
    "def fasta_to_onehotencode(seq) : \n",
    "    #values = list(seq)\n",
    "    #values = np.array(values)\n",
    "    base2int = {'A': 0, 'C': 1, 'G': 2, 'T': 3}\n",
    "    # label = int(line.strip()[1])\n",
    "    \n",
    "    \n",
    "    sequence = seq #f.readline().strip()\n",
    "    # Encode sequence bases as integers, i.e. A as 0, C as 1, etc.\n",
    "    sequence_int = [base2int.get(base, 9999) for base in sequence]\n",
    "    \n",
    "    sequence_onehot = tf.one_hot(sequence_int, depth=4)\n",
    "    \n",
    "        \n",
    "    return sequence_onehot"
   ]
  },
  {
   "cell_type": "code",
   "execution_count": 3,
   "id": "1f4360b2",
   "metadata": {},
   "outputs": [],
   "source": [
    "def fastatoarray(fasta_sequences) :\n",
    "    seq_array = np.zeros((1,400,4)) \n",
    "    for fasta in fasta_sequences:\n",
    "        name, sequence = fasta.id, str(fasta.seq)\n",
    "        new_sequence = fasta_to_onehotencode(sequence) #onehotencode(sequence)\n",
    "        new_sequence = np.expand_dims(new_sequence, axis =0)\n",
    "        seq_array = np.vstack((seq_array,new_sequence))\n",
    "    seq_array = np.delete(seq_array, 0, 0) #to remove the first array of zeros \n",
    "    return seq_array                    "
   ]
  },
  {
   "cell_type": "code",
   "execution_count": 4,
   "id": "f658b42c",
   "metadata": {},
   "outputs": [],
   "source": [
    "_start_time = time.time()\n",
    "#change a bit this function or cite \n",
    "def tic():\n",
    "    global _start_time \n",
    "    _start_time = time.time()\n",
    "\n",
    "def tac():\n",
    "    t_sec = round(time.time() - _start_time)\n",
    "    (t_min, t_sec) = divmod(t_sec,60)\n",
    "    (t_hour,t_min) = divmod(t_min,60) \n",
    "    print('Time passed: {}hour:{}min:{}sec'.format(t_hour,t_min,t_sec))"
   ]
  },
  {
   "cell_type": "code",
   "execution_count": 122,
   "id": "1d9b3e57",
   "metadata": {},
   "outputs": [
    {
     "name": "stdout",
     "output_type": "stream",
     "text": [
      "Time passed: 0hour:0min:12sec\n"
     ]
    }
   ],
   "source": [
    "#dataset upload, keeping the first four folders for training and testing and the last one for validation --> try with matrices not list\n",
    "\n",
    "#/lustre/groups/crna01/workspace/sofia/gencode/processed/ENCODE-Sofia/AARS_K562/fold-0/\n",
    "from Bio import SeqIO\n",
    "path = '/lustre/groups/crna01/workspace/sofia/gencode/processed/ENCODE-Sofia/'\n",
    "directory1 = os.listdir(path)\n",
    "\n",
    "\n",
    "tic()\n",
    "\n",
    "for folder in directory1:\n",
    "\n",
    "    if folder == 'AARS_K562': #to be removed later \n",
    "        current_folder = folder\n",
    "        directory2 = os.listdir(path + '/' + folder)\n",
    "        \n",
    "        seq_list_positive = np.zeros((1,400,4)) \n",
    "        seq_list_negative = np.zeros((1,400,4)) \n",
    "        seq_list_positive_test = np.zeros((1,400,4)) \n",
    "        seq_list_negative_test = np.zeros((1,400,4)) \n",
    "        \n",
    "        for folder2 in directory2 :\n",
    "            directory3 = os.listdir(path+ '/' + folder + '/' + folder2)\n",
    "            \n",
    "            if folder2 != \"fold-4\": #to be split into training and validation\n",
    "            \n",
    "                seq_list_positive_file = np.zeros((1,400,4)) \n",
    "                seq_list_negative_file = np.zeros((1,400,4)) \n",
    "\n",
    "                for file in directory3 :\n",
    "\n",
    "                    if \"fasta\" in file :\n",
    "                        fasta_sequences = SeqIO.parse(open(path+ '/' + folder + '/' + folder2+ '/' + file),'fasta')\n",
    "                        seq_array = fastatoarray(fasta_sequences)\n",
    "                        \n",
    "                        if \"positive\" in file : \n",
    "                            seq_list_positive_file = np.vstack((seq_list_positive_file, seq_array))\n",
    "\n",
    "\n",
    "                        if \"negative-1\" in file: # 2 neg: 1 pos with 'negative' --> 1 neg : 1 pos 'negative-1'\n",
    "                            seq_list_negative_file = np.vstack((seq_list_negative_file, seq_array))\n",
    "                            \n",
    "                seq_list_negative_file = np.delete(seq_list_negative_file, 0, 0)\n",
    "                seq_list_positive_file = np.delete(seq_list_positive_file, 0, 0)\n",
    "\n",
    "                seq_list_positive = np.vstack((seq_list_positive, seq_list_positive_file))\n",
    "                seq_list_negative = np.vstack((seq_list_negative, seq_list_negative_file))\n",
    "\n",
    "  \n",
    "                \n",
    "            if folder2 == \"fold-4\": #for testing\n",
    "                     \n",
    "                    seq_list_positive_test_file = np.zeros((1,400,4)) \n",
    "                    seq_list_negative_test_file = np.zeros((1,400,4)) \n",
    "\n",
    "                    for file in directory3 :\n",
    "\n",
    "                        if \"fasta\" in file :\n",
    "                            fasta_sequences = SeqIO.parse(open(path+ '/' + folder + '/' + folder2+ '/' + file),'fasta')\n",
    "                            seq_array = fastatoarray(fasta_sequences)\n",
    "\n",
    "                            if \"positive\" in file : \n",
    "                                seq_list_positive_test_file = np.vstack((seq_list_positive_test_file, seq_array))\n",
    " \n",
    "\n",
    "                            if \"negative-1\" in file: \n",
    "                                seq_list_negative_test_file = np.vstack((seq_list_negative_test_file, seq_array))\n",
    " \n",
    "                    seq_list_negative_test_file = np.delete(seq_list_negative_test_file, 0, 0)\n",
    "                    seq_list_positive_test_file = np.delete(seq_list_positive_test_file, 0, 0)\n",
    "\n",
    "                    seq_list_positive_test = np.vstack((seq_list_positive_test, seq_list_positive_test_file))\n",
    "                    seq_list_negative_test = np.vstack((seq_list_negative_test, seq_list_negative_test_file))\n",
    "    \n",
    "                    seq_list_negative_test = np.delete(seq_list_negative_test, 0, 0)\n",
    "                    seq_list_positive_test = np.delete(seq_list_positive_test, 0, 0)  \n",
    "\n",
    "        \n",
    "                  \n",
    "        seq_list_negative = np.delete(seq_list_negative, 0, 0)\n",
    "        seq_list_positive = np.delete(seq_list_positive, 0, 0)\n",
    "\n",
    "        \n",
    "\n",
    "\n",
    "            \n",
    "tac()\n"
   ]
  },
  {
   "cell_type": "markdown",
   "id": "bd3ae695",
   "metadata": {},
   "source": [
    "- Preparation of the labels "
   ]
  },
  {
   "cell_type": "code",
   "execution_count": 6,
   "id": "44aa0c01",
   "metadata": {},
   "outputs": [
    {
     "name": "stdout",
     "output_type": "stream",
     "text": [
      "Shape of labels: \n",
      "-positive :  (2667, 1) \n",
      "-negative :  (2667, 1) \n",
      "-positive validation :  (720, 1) \n",
      "-negative validation :  (720, 1)\n"
     ]
    }
   ],
   "source": [
    "#preparation of the labels for the positive and negative dataset and validation set\n",
    "\n",
    "labels_positive = np.ones((np.shape(seq_list_positive)[0], 1))\n",
    "\n",
    "labels_negative = np.zeros((np.shape(seq_list_negative)[0], 1))\n",
    " \n",
    "labels_positive_test = np.ones((np.shape(seq_list_positive_test)[0], 1))\n",
    "\n",
    "labels_negative_test = np.zeros((np.shape(seq_list_negative_test)[0], 1))\n",
    "print('Shape of labels: \\n-positive : ',np.shape(labels_negative),'\\n-negative : ', np.shape(labels_negative),'\\n-positive validation : ',np.shape(labels_positive_test),'\\n-negative validation : ',np.shape(labels_negative_test))"
   ]
  },
  {
   "cell_type": "code",
   "execution_count": 7,
   "id": "894c8257",
   "metadata": {},
   "outputs": [],
   "source": [
    "#merging the positive and negative datasets \n",
    "x = np.vstack((seq_list_positive, seq_list_negative))\n",
    "\n",
    "x_test = np.vstack((seq_list_positive_test, seq_list_negative_test))\n",
    "\n",
    "y = np.vstack((labels_positive, labels_negative))\n",
    "\n",
    "y_test = np.vstack((labels_positive_test, labels_negative_test))\n"
   ]
  },
  {
   "cell_type": "markdown",
   "id": "91508dd8",
   "metadata": {},
   "source": [
    "- Splitting of the dataset : test, train and validation sets "
   ]
  },
  {
   "cell_type": "code",
   "execution_count": 8,
   "id": "15fac183",
   "metadata": {},
   "outputs": [
    {
     "name": "stdout",
     "output_type": "stream",
     "text": [
      "Shape of datasets: \n",
      "-training set :  (4267, 400, 4) \n",
      "-validation set :  (1067, 400, 4) \n",
      "-testing set :  (1440, 400, 4)\n"
     ]
    }
   ],
   "source": [
    "#creation of the validation set \n",
    "import numpy as np\n",
    "from sklearn.model_selection import train_test_split\n",
    "\n",
    "#parameters \n",
    "test_size = 0.2\n",
    "\n",
    "#test set\n",
    "\n",
    "x_train, x_val, y_train, y_val = train_test_split(x, y, test_size=test_size, shuffle= True)\n",
    "\n",
    "y_train = y_train.astype(\"float32\")#actually useful?\n",
    "y_val =y_val.astype(\"float32\")\n",
    "y_test = y_test.astype(\"float32\")\n",
    "\n",
    "x_train = x_train.astype(\"float32\")\n",
    "x_val = x_val.astype(\"float32\")\n",
    "x_test =x_test.astype(\"float32\")\n",
    "\n",
    "\n",
    "\n",
    "print('Shape of datasets: \\n-training set : ',np.shape(x_train),'\\n-validation set : ',np.shape(x_val),'\\n-testing set : ', np.shape(x_test))"
   ]
  },
  {
   "cell_type": "code",
   "execution_count": null,
   "id": "62b5069b",
   "metadata": {},
   "outputs": [],
   "source": [
    "# Prepare the training dataset. --> I HAVE AVOIDED THIS STEP OTHERWISE THE MODEL DOES NOT RUN \n",
    "#parameters\n",
    "batch_size = 32 #--> how much should be my batch size? \n",
    "buffer_size = len(x_train) + 100 #For perfect shuffling, a buffer size greater than or equal to the full size of the dataset is required.\n",
    "buffer_size_test= len(x_test) + 100\n",
    "\n",
    "# Prepare the training dataset.\n",
    "train_dataset = tf.data.Dataset.from_tensor_slices((x_train, y_train))\n",
    "train_dataset = train_dataset.shuffle(buffer_size=buffer_size).batch(batch_size) \n",
    "\n",
    "# Prepare the testing dataset.\n",
    "test_dataset = tf.data.Dataset.from_tensor_slices((x_test, y_test))\n",
    "test_dataset = train_dataset.shuffle(buffer_size=buffer_size_test).batch(batch_size)\n",
    "\n",
    "# Prepare the validation dataset.\n",
    "val_dataset = tf.data.Dataset.from_tensor_slices((x_val, y_val))\n",
    "val_dataset = val_dataset.batch(batch_size)"
   ]
  },
  {
   "cell_type": "code",
   "execution_count": 9,
   "id": "66d4aee6",
   "metadata": {},
   "outputs": [
    {
     "data": {
      "image/png": "[encoded data removed]",
      "text/plain": [
       "<Figure size 640x480 with 1 Axes>"
      ]
     },
     "metadata": {},
     "output_type": "display_data"
    },
    {
     "data": {
      "image/png": "[encoded data removed]",
      "text/plain": [
       "<Figure size 640x480 with 1 Axes>"
      ]
     },
     "metadata": {},
     "output_type": "display_data"
    },
    {
     "data": {
      "image/png": "[encoded data removed]",
      "text/plain": [
       "<Figure size 640x480 with 1 Axes>"
      ]
     },
     "metadata": {},
     "output_type": "display_data"
    }
   ],
   "source": [
    "#checking class ditribution in the whole dataset and training set\n",
    "import matplotlib.pyplot as plt\n",
    "\n",
    "plt.hist(y)\n",
    "plt.xticks(range(2))\n",
    "plt.title('Label Frequency')\n",
    "plt.show()\n",
    "\n",
    "plt.hist(y_train)\n",
    "plt.xticks(range(2))\n",
    "plt.title('Label Frequency training set')\n",
    "plt.show()\n",
    "\n",
    "plt.hist(y_val)\n",
    "plt.xticks(range(2))\n",
    "plt.title('Label Frequency validation set')\n",
    "plt.show()"
   ]
  },
  {
   "cell_type": "markdown",
   "id": "89762bc1",
   "metadata": {},
   "source": [
    "# 2. Model  "
   ]
  },
  {
   "cell_type": "markdown",
   "id": "0abc4e6e",
   "metadata": {},
   "source": [
    "# 2.1 .compile() \n",
    "- Create the baseline model "
   ]
  },
  {
   "cell_type": "code",
   "execution_count": 14,
   "id": "1a92b9c5",
   "metadata": {},
   "outputs": [],
   "source": [
    "#first is .compile() --> to create the baseline model : no dataset\n",
    "def create_baseline():\n",
    "    from tensorflow.keras.optimizers.legacy import Adam\n",
    "   \n",
    "    #the first layer should be a convolutional layer\n",
    "    #conv-maxpooling-dropout-conv-maxpooling-dropout-flatten-(dense-dropout)-dense --> this is the pysster architecture \n",
    "    #how long should the kernel be? \n",
    "    #the parameters are now the default ones from pysster\n",
    "    \n",
    "    #parameters \n",
    "    input_shape = (400, 4)\n",
    "    #batch_size = 32 # --> when batching the dataset, the model gives a graph error \n",
    "    filters = 30\n",
    "    kernel_size = 25\n",
    "    pool_size = 2\n",
    "    strides = 2\n",
    "    #activation ? \n",
    "    #kernel_initializer ? \n",
    "    loss='binary_crossentropy'\n",
    "    optimizer='adam' \n",
    "    metrics=['accuracy']\n",
    "    \n",
    "    # create model\n",
    "        \n",
    "    model = keras.Sequential()\n",
    "    \n",
    "    model.add(keras.layers.InputLayer(input_shape= input_shape))#, batch_size=batch_size))\n",
    "    #model.add(keras.layers.Dropout(0.3)) -- seems better without this step\n",
    "    \n",
    "    model.add(keras.layers.Conv1D(filters=filters,kernel_size=kernel_size,#kernel_size is kernel length right? \n",
    "              kernel_initializer='random_normal', #to be changed once I have the actual input data -- from constant 1 ato random normal\n",
    "             #glorot_uniform(seed=12)\n",
    "              activation='relu'))#,input_shape=input_shape[1:])) #--> idk what to add\n",
    "             #or without data? )\n",
    "    model.add(keras.layers.MaxPooling1D(pool_size=pool_size, strides=strides, padding='valid'))#valid or same? padding or not \n",
    "    model.add(keras.layers.Dropout(0.3))\n",
    "\n",
    "    model.add(keras.layers.Conv1D(filters=filters,kernel_size=kernel_size,\n",
    "              kernel_initializer= 'random_normal', \n",
    "             #glorot_uniform(seed=12)\n",
    "              activation='relu',input_shape=input_shape ))#--> idk what to add\n",
    "\n",
    "    model.add(keras.layers.MaxPooling1D(pool_size=pool_size, strides=strides, padding='valid'))\n",
    "    model.add(keras.layers.Dropout(0.3))\n",
    "\n",
    "    model.add(keras.layers.Flatten())#without parameters\n",
    "\n",
    "    model.add(keras.layers.Dense(1024, activation='relu'))#is it always relu? also sigmoid is an option \n",
    "    model.add(keras.layers.Dropout(0.6))\n",
    "    \n",
    "    model.add(keras.layers.Dense(128, activation='relu'))#is it always relu? also sigmoid is an option \n",
    "    model.add(keras.layers.Dropout(0.6))\n",
    "\n",
    "    model.add(keras.layers.Dense(1, activation='sigmoid'))#what should be the output shape? 1? \n",
    "\n",
    "    \n",
    "    # Compile model\n",
    "    model.compile(loss='binary_crossentropy', optimizer='adam', metrics=['accuracy']) # for binary classification\n",
    "    \n",
    "    #model.compile( optimizer=keras.optimizers.legacy.Adam(learning_rate=1e-4),# Optimizer\n",
    "                    # Loss function to minimize\n",
    "                    #loss=keras.losses.BinaryCrossentropy(),\n",
    "                    # List of metrics to monitor\n",
    "                    #metrics=[keras.metrics.BinaryAccuracy()],)\n",
    "        #model.compile(loss='categorical_crossentropy', optimizer='adam', metrics=['accuracy'])  # for multi class\n",
    "    return model\n"
   ]
  },
  {
   "cell_type": "code",
   "execution_count": null,
   "id": "600122d1",
   "metadata": {},
   "outputs": [],
   "source": []
  },
  {
   "cell_type": "code",
   "execution_count": null,
   "id": "a214bf09",
   "metadata": {},
   "outputs": [],
   "source": []
  },
  {
   "cell_type": "code",
   "execution_count": 113,
   "id": "7ed43e4f",
   "metadata": {},
   "outputs": [],
   "source": [
    "#tuning of the model architecture \n",
    "def build_model(hp):\n",
    "    \n",
    "    \n",
    "    from tensorflow.keras.optimizers.legacy import Adam\n",
    "   \n",
    "    #the first layer should be a convolutional layer\n",
    "    #conv-maxpooling-dropout-conv-maxpooling-dropout-flatten-(dense-dropout)-dense --> this is the pysster architecture \n",
    "    #how long should the kernel be? \n",
    "    #the parameters are now the default ones from pysster\n",
    "    \n",
    "    #parameters \n",
    "    input_shape = (400, 4)\n",
    "    #batch_size = 32 # --> when batching the dataset, the model gives a graph error \n",
    "    filters = 30\n",
    "    kernel_size = 25\n",
    "    pool_size = 2\n",
    "    strides = 2\n",
    "    #activation ? \n",
    "    #kernel_initializer ? \n",
    "    loss='binary_crossentropy'\n",
    "    optimizer='adam' \n",
    "    metrics=['accuracy']\n",
    "    \n",
    "    # create model\n",
    "        \n",
    "    model = keras.Sequential()\n",
    "    \n",
    "    model.add(keras.layers.InputLayer(input_shape= input_shape))#, batch_size=batch_size))\n",
    "    #model.add(keras.layers.Dropout(0.3)) -- seems better without this step\n",
    "    \n",
    "    model.add(keras.layers.Conv1D(filters=filters,kernel_size=kernel_size,#kernel_size is kernel length right? \n",
    "              kernel_initializer='random_normal', #to be changed once I have the actual input data -- from constant 1 ato random normal\n",
    "             #glorot_uniform(seed=12)\n",
    "              activation='relu'))#,input_shape=input_shape[1:])) #--> idk what to add\n",
    "             #or without data? )\n",
    "    model.add(keras.layers.MaxPooling1D(pool_size=pool_size, strides=strides, padding='valid'))#valid or same? padding or not \n",
    "    model.add(keras.layers.Dropout(0.3))\n",
    "\n",
    "    model.add(keras.layers.Conv1D(filters=filters,kernel_size=kernel_size,\n",
    "              kernel_initializer= 'random_normal', \n",
    "             #glorot_uniform(seed=12)\n",
    "              activation='relu',input_shape=input_shape ))#--> idk what to add\n",
    "\n",
    "    model.add(keras.layers.MaxPooling1D(pool_size=pool_size, strides=strides, padding='valid'))\n",
    "    model.add(keras.layers.Dropout(0.3))\n",
    "\n",
    "    model.add(keras.layers.Flatten())#without parameters\n",
    "    \n",
    "    for i in range(hp.Int(\"num_layers\", 1, 3)):\n",
    "        model.add(\n",
    "        layers.Dense(\n",
    "            # Tune number of units separately.\n",
    "            units=hp.Int(f\"units_{i}\", min_value=32, max_value=1024, step=32),\n",
    "            activation = 'relu'\n",
    "            #activation=hp.Choice(\"activation\", [\"relu\", \"tanh\"]),\n",
    "            )\n",
    "        )\n",
    "    if hp.Boolean(\"dropout\"):\n",
    "        model.add(layers.Dropout(rate=0.25))\n",
    "    model.add(layers.Dense(10, activation=\"relu\"))\n",
    "    learning_rate = hp.Float(\"lr\", min_value=1e-4, max_value=1e-2, sampling=\"log\")\n",
    "    \n",
    "    \n",
    "\n",
    "    #model.add(keras.layers.Dense(1024, activation='relu'))#is it always relu? also sigmoid is an option\n",
    "    '''model.add(\n",
    "        layers.Dense(\n",
    "            # Define the hyperparameter.\n",
    "            units=hp.Int(\"units\", min_value=128, max_value=2400, step=32),\n",
    "            activation=\"relu\",\n",
    "        )\n",
    "    )\n",
    "    model.add(keras.layers.Dropout(0.6))\n",
    "    \n",
    "    #model.add(keras.layers.Dense(128, activation='relu'))#is it always relu? also sigmoid is an option \n",
    "    model.add(\n",
    "        layers.Dense(\n",
    "            # Define the hyperparameter.\n",
    "            units=hp.Int(\"units\", min_value=32, max_value=128, step=32),\n",
    "            activation=\"relu\",\n",
    "        )\n",
    "    )'''\n",
    "    model.add(keras.layers.Dropout(0.6))\n",
    "\n",
    "    model.add(keras.layers.Dense(1, activation='sigmoid'))#what should be the output shape? 1? \n",
    "\n",
    "    \n",
    "    # Compile model\n",
    "    model.compile(loss='binary_crossentropy', optimizer=keras.optimizers.Adam(learning_rate=learning_rate), metrics=['accuracy']) # for binary classification\n",
    "    \n",
    "    #model.compile( optimizer=keras.optimizers.legacy.Adam(learning_rate=1e-4),# Optimizer\n",
    "                    # Loss function to minimize\n",
    "                    #loss=keras.losses.BinaryCrossentropy(),\n",
    "                    # List of metrics to monitor\n",
    "                    #metrics=[keras.metrics.BinaryAccuracy()],)\n",
    "        #model.compile(loss='categorical_crossentropy', optimizer='adam', metrics=['accuracy'])  # for multi class\n",
    "    return model\n",
    "    \n",
    "    "
   ]
  },
  {
   "cell_type": "code",
   "execution_count": 114,
   "id": "e0c86323",
   "metadata": {},
   "outputs": [
    {
     "name": "stdout",
     "output_type": "stream",
     "text": [
      "Model: \"sequential_2\"\n",
      "_________________________________________________________________\n",
      " Layer (type)                Output Shape              Param #   \n",
      "=================================================================\n",
      " conv1d_4 (Conv1D)           (None, 376, 30)           3030      \n",
      "                                                                 \n",
      " max_pooling1d_4 (MaxPooling  (None, 188, 30)          0         \n",
      " 1D)                                                             \n",
      "                                                                 \n",
      " dropout_7 (Dropout)         (None, 188, 30)           0         \n",
      "                                                                 \n",
      " conv1d_5 (Conv1D)           (None, 164, 30)           22530     \n",
      "                                                                 \n",
      " max_pooling1d_5 (MaxPooling  (None, 82, 30)           0         \n",
      " 1D)                                                             \n",
      "                                                                 \n",
      " dropout_8 (Dropout)         (None, 82, 30)            0         \n",
      "                                                                 \n",
      " flatten_2 (Flatten)         (None, 2460)              0         \n",
      "                                                                 \n",
      " dense_7 (Dense)             (None, 32)                78752     \n",
      "                                                                 \n",
      " dense_8 (Dense)             (None, 10)                330       \n",
      "                                                                 \n",
      " dropout_9 (Dropout)         (None, 10)                0         \n",
      "                                                                 \n",
      " dense_9 (Dense)             (None, 1)                 11        \n",
      "                                                                 \n",
      "=================================================================\n",
      "Total params: 104,653\n",
      "Trainable params: 104,653\n",
      "Non-trainable params: 0\n",
      "_________________________________________________________________\n",
      "None\n"
     ]
    }
   ],
   "source": [
    "import keras_tuner\n",
    "\n",
    "model1 = build_model(keras_tuner.HyperParameters())\n",
    "\n",
    "print(model1.summary())"
   ]
  },
  {
   "cell_type": "code",
   "execution_count": 115,
   "id": "987e93f0",
   "metadata": {},
   "outputs": [],
   "source": [
    "tuner = keras_tuner.RandomSearch(\n",
    "    hypermodel=build_model,\n",
    "    objective=\"accuracy\", #val_loss , val_accuracy .... \n",
    "    max_trials=5,\n",
    "    executions_per_trial=3,\n",
    "    overwrite=True,\n",
    "    directory=\"my_dir\",\n",
    "    project_name=\"helloworld\",\n",
    ")"
   ]
  },
  {
   "cell_type": "code",
   "execution_count": 116,
   "id": "8cd16ffa",
   "metadata": {},
   "outputs": [
    {
     "name": "stdout",
     "output_type": "stream",
     "text": [
      "Search space summary\n",
      "Default search space size: 4\n",
      "num_layers (Int)\n",
      "{'default': None, 'conditions': [], 'min_value': 1, 'max_value': 3, 'step': 1, 'sampling': 'linear'}\n",
      "units_0 (Int)\n",
      "{'default': None, 'conditions': [], 'min_value': 32, 'max_value': 1024, 'step': 32, 'sampling': 'linear'}\n",
      "dropout (Boolean)\n",
      "{'default': False, 'conditions': []}\n",
      "lr (Float)\n",
      "{'default': 0.0001, 'conditions': [], 'min_value': 0.0001, 'max_value': 0.01, 'step': None, 'sampling': 'log'}\n"
     ]
    }
   ],
   "source": [
    "tuner.search_space_summary()\n"
   ]
  },
  {
   "cell_type": "code",
   "execution_count": 117,
   "id": "bb94e267",
   "metadata": {},
   "outputs": [
    {
     "name": "stdout",
     "output_type": "stream",
     "text": [
      "Trial 5 Complete [00h 00m 26s]\n",
      "accuracy: 0.6414342522621155\n",
      "\n",
      "Best accuracy So Far: 0.7426763574282328\n",
      "Total elapsed time: 00h 02m 16s\n",
      "INFO:tensorflow:Oracle triggered exit\n"
     ]
    }
   ],
   "source": [
    "tuner.search(x_train, y_train, epochs=5, validation_data=(x_val, y_val))"
   ]
  },
  {
   "cell_type": "code",
   "execution_count": 118,
   "id": "ff8a893a",
   "metadata": {},
   "outputs": [
    {
     "name": "stdout",
     "output_type": "stream",
     "text": [
      "WARNING:tensorflow:Detecting that an object or model or tf.train.Checkpoint is being deleted with unrestored values. See the following logs for the specific values in question. To silence these warnings, use `status.expect_partial()`. See https://www.tensorflow.org/api_docs/python/tf/train/Checkpoint#restorefor details about the status object returned by the restore function.\n",
      "WARNING:tensorflow:Value in checkpoint could not be found in the restored object: (root).optimizer._variables.1\n",
      "WARNING:tensorflow:Value in checkpoint could not be found in the restored object: (root).optimizer._variables.2\n",
      "WARNING:tensorflow:Value in checkpoint could not be found in the restored object: (root).optimizer._variables.3\n",
      "WARNING:tensorflow:Value in checkpoint could not be found in the restored object: (root).optimizer._variables.4\n",
      "WARNING:tensorflow:Value in checkpoint could not be found in the restored object: (root).optimizer._variables.5\n",
      "WARNING:tensorflow:Value in checkpoint could not be found in the restored object: (root).optimizer._variables.6\n",
      "WARNING:tensorflow:Value in checkpoint could not be found in the restored object: (root).optimizer._variables.7\n",
      "WARNING:tensorflow:Value in checkpoint could not be found in the restored object: (root).optimizer._variables.8\n",
      "WARNING:tensorflow:Value in checkpoint could not be found in the restored object: (root).optimizer._variables.9\n",
      "WARNING:tensorflow:Value in checkpoint could not be found in the restored object: (root).optimizer._variables.10\n",
      "WARNING:tensorflow:Value in checkpoint could not be found in the restored object: (root).optimizer._variables.11\n",
      "WARNING:tensorflow:Value in checkpoint could not be found in the restored object: (root).optimizer._variables.12\n",
      "WARNING:tensorflow:Value in checkpoint could not be found in the restored object: (root).optimizer._variables.13\n",
      "WARNING:tensorflow:Value in checkpoint could not be found in the restored object: (root).optimizer._variables.14\n",
      "WARNING:tensorflow:Value in checkpoint could not be found in the restored object: (root).optimizer._variables.15\n",
      "WARNING:tensorflow:Value in checkpoint could not be found in the restored object: (root).optimizer._variables.16\n",
      "WARNING:tensorflow:Value in checkpoint could not be found in the restored object: (root).optimizer._variables.17\n",
      "WARNING:tensorflow:Value in checkpoint could not be found in the restored object: (root).optimizer._variables.18\n",
      "WARNING:tensorflow:Value in checkpoint could not be found in the restored object: (root).optimizer._variables.19\n",
      "WARNING:tensorflow:Value in checkpoint could not be found in the restored object: (root).optimizer._variables.20\n",
      "WARNING:tensorflow:Detecting that an object or model or tf.train.Checkpoint is being deleted with unrestored values. See the following logs for the specific values in question. To silence these warnings, use `status.expect_partial()`. See https://www.tensorflow.org/api_docs/python/tf/train/Checkpoint#restorefor details about the status object returned by the restore function.\n",
      "WARNING:tensorflow:Value in checkpoint could not be found in the restored object: (root).optimizer._variables.1\n",
      "WARNING:tensorflow:Value in checkpoint could not be found in the restored object: (root).optimizer._variables.2\n",
      "WARNING:tensorflow:Value in checkpoint could not be found in the restored object: (root).optimizer._variables.3\n",
      "WARNING:tensorflow:Value in checkpoint could not be found in the restored object: (root).optimizer._variables.4\n",
      "WARNING:tensorflow:Value in checkpoint could not be found in the restored object: (root).optimizer._variables.5\n",
      "WARNING:tensorflow:Value in checkpoint could not be found in the restored object: (root).optimizer._variables.6\n",
      "WARNING:tensorflow:Value in checkpoint could not be found in the restored object: (root).optimizer._variables.7\n",
      "WARNING:tensorflow:Value in checkpoint could not be found in the restored object: (root).optimizer._variables.8\n",
      "WARNING:tensorflow:Value in checkpoint could not be found in the restored object: (root).optimizer._variables.9\n",
      "WARNING:tensorflow:Value in checkpoint could not be found in the restored object: (root).optimizer._variables.10\n",
      "WARNING:tensorflow:Value in checkpoint could not be found in the restored object: (root).optimizer._variables.11\n",
      "WARNING:tensorflow:Value in checkpoint could not be found in the restored object: (root).optimizer._variables.12\n",
      "WARNING:tensorflow:Value in checkpoint could not be found in the restored object: (root).optimizer._variables.13\n",
      "WARNING:tensorflow:Value in checkpoint could not be found in the restored object: (root).optimizer._variables.14\n",
      "WARNING:tensorflow:Value in checkpoint could not be found in the restored object: (root).optimizer._variables.15\n",
      "WARNING:tensorflow:Value in checkpoint could not be found in the restored object: (root).optimizer._variables.16\n",
      "WARNING:tensorflow:Value in checkpoint could not be found in the restored object: (root).optimizer._variables.17\n",
      "WARNING:tensorflow:Value in checkpoint could not be found in the restored object: (root).optimizer._variables.18\n",
      "WARNING:tensorflow:Value in checkpoint could not be found in the restored object: (root).optimizer._variables.19\n",
      "WARNING:tensorflow:Value in checkpoint could not be found in the restored object: (root).optimizer._variables.20\n",
      "WARNING:tensorflow:Value in checkpoint could not be found in the restored object: (root).optimizer._variables.21\n",
      "WARNING:tensorflow:Value in checkpoint could not be found in the restored object: (root).optimizer._variables.22\n",
      "WARNING:tensorflow:Value in checkpoint could not be found in the restored object: (root).optimizer._variables.23\n",
      "WARNING:tensorflow:Value in checkpoint could not be found in the restored object: (root).optimizer._variables.24\n",
      "WARNING:tensorflow:Detecting that an object or model or tf.train.Checkpoint is being deleted with unrestored values. See the following logs for the specific values in question. To silence these warnings, use `status.expect_partial()`. See https://www.tensorflow.org/api_docs/python/tf/train/Checkpoint#restorefor details about the status object returned by the restore function.\n",
      "WARNING:tensorflow:Value in checkpoint could not be found in the restored object: (root).optimizer._variables.1\n",
      "WARNING:tensorflow:Value in checkpoint could not be found in the restored object: (root).optimizer._variables.2\n",
      "WARNING:tensorflow:Value in checkpoint could not be found in the restored object: (root).optimizer._variables.3\n",
      "WARNING:tensorflow:Value in checkpoint could not be found in the restored object: (root).optimizer._variables.4\n",
      "WARNING:tensorflow:Value in checkpoint could not be found in the restored object: (root).optimizer._variables.5\n",
      "WARNING:tensorflow:Value in checkpoint could not be found in the restored object: (root).optimizer._variables.6\n",
      "WARNING:tensorflow:Value in checkpoint could not be found in the restored object: (root).optimizer._variables.7\n",
      "WARNING:tensorflow:Value in checkpoint could not be found in the restored object: (root).optimizer._variables.8\n",
      "WARNING:tensorflow:Value in checkpoint could not be found in the restored object: (root).optimizer._variables.9\n",
      "WARNING:tensorflow:Value in checkpoint could not be found in the restored object: (root).optimizer._variables.10\n",
      "WARNING:tensorflow:Value in checkpoint could not be found in the restored object: (root).optimizer._variables.11\n",
      "WARNING:tensorflow:Value in checkpoint could not be found in the restored object: (root).optimizer._variables.12\n",
      "WARNING:tensorflow:Value in checkpoint could not be found in the restored object: (root).optimizer._variables.13\n",
      "WARNING:tensorflow:Value in checkpoint could not be found in the restored object: (root).optimizer._variables.14\n",
      "WARNING:tensorflow:Value in checkpoint could not be found in the restored object: (root).optimizer._variables.15\n",
      "WARNING:tensorflow:Value in checkpoint could not be found in the restored object: (root).optimizer._variables.16\n",
      "WARNING:tensorflow:Value in checkpoint could not be found in the restored object: (root).optimizer._variables.17\n",
      "WARNING:tensorflow:Value in checkpoint could not be found in the restored object: (root).optimizer._variables.18\n",
      "WARNING:tensorflow:Value in checkpoint could not be found in the restored object: (root).optimizer._variables.19\n",
      "WARNING:tensorflow:Value in checkpoint could not be found in the restored object: (root).optimizer._variables.20\n",
      "WARNING:tensorflow:Value in checkpoint could not be found in the restored object: (root).optimizer._variables.21\n",
      "WARNING:tensorflow:Value in checkpoint could not be found in the restored object: (root).optimizer._variables.22\n",
      "WARNING:tensorflow:Value in checkpoint could not be found in the restored object: (root).optimizer._variables.23\n",
      "WARNING:tensorflow:Value in checkpoint could not be found in the restored object: (root).optimizer._variables.24\n",
      "Model: \"sequential\"\n",
      "_________________________________________________________________\n",
      " Layer (type)                Output Shape              Param #   \n",
      "=================================================================\n",
      " conv1d (Conv1D)             (None, 376, 30)           3030      \n",
      "                                                                 \n",
      " max_pooling1d (MaxPooling1D  (None, 188, 30)          0         \n",
      " )                                                               \n",
      "                                                                 \n",
      " dropout (Dropout)           (None, 188, 30)           0         \n",
      "                                                                 \n",
      " conv1d_1 (Conv1D)           (None, 164, 30)           22530     \n",
      "                                                                 \n",
      " max_pooling1d_1 (MaxPooling  (None, 82, 30)           0         \n",
      " 1D)                                                             \n",
      "                                                                 \n",
      " dropout_1 (Dropout)         (None, 82, 30)            0         \n",
      "                                                                 \n",
      " flatten (Flatten)           (None, 2460)              0         \n",
      "                                                                 \n",
      " dense (Dense)               (None, 896)               2205056   \n",
      "                                                                 \n",
      " dense_1 (Dense)             (None, 32)                28704     \n",
      "                                                                 \n",
      " dense_2 (Dense)             (None, 32)                1056      \n",
      "                                                                 \n",
      " dropout_2 (Dropout)         (None, 32)                0         \n",
      "                                                                 \n",
      " dense_3 (Dense)             (None, 10)                330       \n",
      "                                                                 \n",
      " dropout_3 (Dropout)         (None, 10)                0         \n",
      "                                                                 \n",
      " dense_4 (Dense)             (None, 1)                 11        \n",
      "                                                                 \n",
      "=================================================================\n",
      "Total params: 2,260,717\n",
      "Trainable params: 2,260,717\n",
      "Non-trainable params: 0\n",
      "_________________________________________________________________\n"
     ]
    }
   ],
   "source": [
    "# Get the top 2 models.\n",
    "models = tuner.get_best_models(num_models=4)\n",
    "best_model = models[0]\n",
    "# Build the model.\n",
    "# Needed for `Sequential` without specified `input_shape`.\n",
    "best_model.build(input_shape=(None, 400, 4))\n",
    "best_model.summary()"
   ]
  },
  {
   "cell_type": "code",
   "execution_count": 119,
   "id": "2c5a10ea",
   "metadata": {},
   "outputs": [
    {
     "name": "stdout",
     "output_type": "stream",
     "text": [
      "Results summary\n",
      "Results in my_dir/helloworld\n",
      "Showing 10 best trials\n",
      "<keras_tuner.engine.objective.Objective object at 0x7fdfadf977f0>\n",
      "Trial summary\n",
      "Hyperparameters:\n",
      "num_layers: 3\n",
      "units_0: 896\n",
      "dropout: True\n",
      "lr: 0.0004893954054196937\n",
      "units_1: 32\n",
      "units_2: 32\n",
      "Score: 0.7426763574282328\n",
      "Trial summary\n",
      "Hyperparameters:\n",
      "num_layers: 3\n",
      "units_0: 192\n",
      "dropout: True\n",
      "lr: 0.0016380235981496075\n",
      "units_1: 800\n",
      "units_2: 192\n",
      "Score: 0.7310366233189901\n",
      "Trial summary\n",
      "Hyperparameters:\n",
      "num_layers: 1\n",
      "units_0: 960\n",
      "dropout: False\n",
      "lr: 0.00035910093218825\n",
      "units_1: 32\n",
      "units_2: 64\n",
      "Score: 0.6654948790868124\n",
      "Trial summary\n",
      "Hyperparameters:\n",
      "num_layers: 1\n",
      "units_0: 384\n",
      "dropout: False\n",
      "lr: 0.00024335509762462415\n",
      "units_1: 224\n",
      "units_2: 160\n",
      "Score: 0.6505741675694784\n",
      "Trial summary\n",
      "Hyperparameters:\n",
      "num_layers: 2\n",
      "units_0: 448\n",
      "dropout: False\n",
      "lr: 0.000501777635589437\n",
      "units_1: 96\n",
      "units_2: 928\n",
      "Score: 0.6414342522621155\n"
     ]
    }
   ],
   "source": [
    "tuner.results_summary()"
   ]
  },
  {
   "cell_type": "code",
   "execution_count": 120,
   "id": "4c905718",
   "metadata": {},
   "outputs": [
    {
     "name": "stdout",
     "output_type": "stream",
     "text": [
      "Epoch 1/10\n",
      "167/167 [==============================] - 3s 13ms/step - loss: 0.6472 - accuracy: 0.6067\n",
      "Epoch 2/10\n",
      "167/167 [==============================] - 2s 12ms/step - loss: 0.5869 - accuracy: 0.6775\n",
      "Epoch 3/10\n",
      "167/167 [==============================] - 2s 12ms/step - loss: 0.5748 - accuracy: 0.6910\n",
      "Epoch 4/10\n",
      "167/167 [==============================] - 2s 12ms/step - loss: 0.5512 - accuracy: 0.7372\n",
      "Epoch 5/10\n",
      "167/167 [==============================] - 2s 12ms/step - loss: 0.5430 - accuracy: 0.7492\n",
      "Epoch 6/10\n",
      "167/167 [==============================] - 2s 13ms/step - loss: 0.5328 - accuracy: 0.7572\n",
      "Epoch 7/10\n",
      "167/167 [==============================] - 2s 12ms/step - loss: 0.5100 - accuracy: 0.7778\n",
      "Epoch 8/10\n",
      "167/167 [==============================] - 2s 13ms/step - loss: 0.4907 - accuracy: 0.7898\n",
      "Epoch 9/10\n",
      "167/167 [==============================] - 2s 12ms/step - loss: 0.4778 - accuracy: 0.7992\n",
      "Epoch 10/10\n",
      "167/167 [==============================] - 2s 12ms/step - loss: 0.4595 - accuracy: 0.8065\n"
     ]
    },
    {
     "data": {
      "text/plain": [
       "<keras.callbacks.History at 0x7fdfad8152a0>"
      ]
     },
     "execution_count": 120,
     "metadata": {},
     "output_type": "execute_result"
    }
   ],
   "source": [
    "best_hps = tuner.get_best_hyperparameters(5)\n",
    "# Build the model with the best hp.\n",
    "model1 = build_model(best_hps[0])\n",
    "# Fit with the entire dataset.\n",
    "x_all = np.concatenate((x_train, x_val))\n",
    "y_all = np.concatenate((y_train, y_val))\n",
    "model1.fit(x=x_all, y=y_all, epochs=10)"
   ]
  },
  {
   "cell_type": "code",
   "execution_count": 132,
   "id": "c0355c6d",
   "metadata": {},
   "outputs": [
    {
     "name": "stderr",
     "output_type": "stream",
     "text": [
      "WARNING:absl:Found untraced functions such as _jit_compiled_convolution_op, _jit_compiled_convolution_op, _update_step_xla while saving (showing 3 of 3). These functions will not be directly callable after loading.\n"
     ]
    },
    {
     "name": "stdout",
     "output_type": "stream",
     "text": [
      "INFO:tensorflow:Assets written to: best_models/best_model_AARS_K562/assets\n"
     ]
    },
    {
     "name": "stderr",
     "output_type": "stream",
     "text": [
      "INFO:tensorflow:Assets written to: best_models/best_model_AARS_K562/assets\n"
     ]
    }
   ],
   "source": [
    "model1.save('best_models/best_model_%s' % current_folder)"
   ]
  },
  {
   "cell_type": "code",
   "execution_count": 131,
   "id": "17591bdb",
   "metadata": {},
   "outputs": [
    {
     "name": "stdout",
     "output_type": "stream",
     "text": [
      "best_models/best_model_AARS_K562\n"
     ]
    }
   ],
   "source": [
    "print('best_models/best_model_%s' % current_folder)"
   ]
  },
  {
   "cell_type": "code",
   "execution_count": null,
   "id": "1bd68e90",
   "metadata": {},
   "outputs": [],
   "source": []
  },
  {
   "cell_type": "code",
   "execution_count": 15,
   "id": "a3cddd1f",
   "metadata": {},
   "outputs": [
    {
     "name": "stdout",
     "output_type": "stream",
     "text": [
      "[<keras.layers.convolutional.conv1d.Conv1D object at 0x7fdfd06b3be0>, <keras.layers.pooling.max_pooling1d.MaxPooling1D object at 0x7fdfd06b3b80>, <keras.layers.regularization.dropout.Dropout object at 0x7fdfd06b1cc0>, <keras.layers.convolutional.conv1d.Conv1D object at 0x7fdfd06b3190>, <keras.layers.pooling.max_pooling1d.MaxPooling1D object at 0x7fdfd07041c0>, <keras.layers.regularization.dropout.Dropout object at 0x7fe06695d150>, <keras.layers.reshaping.flatten.Flatten object at 0x7fe0141091e0>, <keras.layers.core.dense.Dense object at 0x7fdfd0704ac0>, <keras.layers.regularization.dropout.Dropout object at 0x7fdfd0706140>, <keras.layers.core.dense.Dense object at 0x7fdfd0706b00>, <keras.layers.regularization.dropout.Dropout object at 0x7fdfd0707430>, <keras.layers.core.dense.Dense object at 0x7fdfd0704d30>]\n",
      "Model: \"sequential_3\"\n",
      "_________________________________________________________________\n",
      " Layer (type)                Output Shape              Param #   \n",
      "=================================================================\n",
      " conv1d_6 (Conv1D)           (None, 376, 30)           3030      \n",
      "                                                                 \n",
      " max_pooling1d_6 (MaxPooling  (None, 188, 30)          0         \n",
      " 1D)                                                             \n",
      "                                                                 \n",
      " dropout_12 (Dropout)        (None, 188, 30)           0         \n",
      "                                                                 \n",
      " conv1d_7 (Conv1D)           (None, 164, 30)           22530     \n",
      "                                                                 \n",
      " max_pooling1d_7 (MaxPooling  (None, 82, 30)           0         \n",
      " 1D)                                                             \n",
      "                                                                 \n",
      " dropout_13 (Dropout)        (None, 82, 30)            0         \n",
      "                                                                 \n",
      " flatten_3 (Flatten)         (None, 2460)              0         \n",
      "                                                                 \n",
      " dense_9 (Dense)             (None, 1024)              2520064   \n",
      "                                                                 \n",
      " dropout_14 (Dropout)        (None, 1024)              0         \n",
      "                                                                 \n",
      " dense_10 (Dense)            (None, 128)               131200    \n",
      "                                                                 \n",
      " dropout_15 (Dropout)        (None, 128)               0         \n",
      "                                                                 \n",
      " dense_11 (Dense)            (None, 1)                 129       \n",
      "                                                                 \n",
      "=================================================================\n",
      "Total params: 2,676,953\n",
      "Trainable params: 2,676,953\n",
      "Non-trainable params: 0\n",
      "_________________________________________________________________\n",
      "None\n"
     ]
    }
   ],
   "source": [
    "model = create_baseline()\n",
    "\n",
    "print(model.layers)\n",
    "\n",
    "print(model.summary()) "
   ]
  },
  {
   "cell_type": "code",
   "execution_count": 15,
   "id": "20818404",
   "metadata": {},
   "outputs": [],
   "source": [
    "from sklearn.model_selection import StratifiedKFold\n",
    "from scikeras.wrappers import KerasClassifier\n",
    "from sklearn.model_selection import cross_val_score\n",
    "\n",
    "#showing the mean and standard deviation of the estimated accuracy of the model on unseen data."
   ]
  },
  {
   "cell_type": "code",
   "execution_count": 34,
   "id": "598f4eb5",
   "metadata": {},
   "outputs": [
    {
     "name": "stdout",
     "output_type": "stream",
     "text": [
      "Baseline: 76.35% (1.57%)\n"
     ]
    }
   ],
   "source": [
    "estimator = KerasClassifier(model=create_baseline, epochs=100, batch_size=5, verbose=0)\n",
    "kfold = StratifiedKFold(n_splits=10, shuffle=True)\n",
    "results = cross_val_score(estimator, x_train, y_train, cv=kfold) #change to x_val and y_val\n",
    "print(\"Baseline: %.2f%% (%.2f%%)\" % (results.mean()*100, results.std()*100))"
   ]
  },
  {
   "cell_type": "markdown",
   "id": "401d43ea",
   "metadata": {},
   "source": [
    "# 2.2 .fit() \n",
    "- Training the model "
   ]
  },
  {
   "cell_type": "code",
   "execution_count": 22,
   "id": "454b591d",
   "metadata": {},
   "outputs": [
    {
     "name": "stdout",
     "output_type": "stream",
     "text": [
      "The tensorboard extension is already loaded. To reload it, use:\n",
      "  %reload_ext tensorboard\n"
     ]
    }
   ],
   "source": [
    "%load_ext tensorboard\n",
    "%rm -rf ./logs/"
   ]
  },
  {
   "cell_type": "code",
   "execution_count": 23,
   "id": "a09bf344",
   "metadata": {},
   "outputs": [
    {
     "data": {
      "text/plain": [
       "Reusing TensorBoard on port 6006 (pid 118890), started 0:52:08 ago. (Use '!kill 118890' to kill it.)"
      ]
     },
     "metadata": {},
     "output_type": "display_data"
    },
    {
     "data": {
      "text/html": [
       "\n",
       "      <iframe id=\"tensorboard-frame-e4ec664981489543\" width=\"100%\" height=\"800\" frameborder=\"0\">\n",
       "      </iframe>\n",
       "      <script>\n",
       "        (function() {\n",
       "          const frame = document.getElementById(\"tensorboard-frame-e4ec664981489543\");\n",
       "          const url = new URL(\"/\", window.location);\n",
       "          const port = 6006;\n",
       "          if (port) {\n",
       "            url.port = port;\n",
       "          }\n",
       "          frame.src = url;\n",
       "        })();\n",
       "      </script>\n",
       "    "
      ],
      "text/plain": [
       "<IPython.core.display.HTML object>"
      ]
     },
     "metadata": {},
     "output_type": "display_data"
    }
   ],
   "source": [
    "%tensorboard --logdir logs/fit"
   ]
  },
  {
   "cell_type": "code",
   "execution_count": 16,
   "id": "65d21c45",
   "metadata": {},
   "outputs": [
    {
     "name": "stdout",
     "output_type": "stream",
     "text": [
      "Fit model on training data\n",
      "Epoch 1/40\n",
      "134/134 [==============================] - 4s 21ms/step - loss: 0.6305 - accuracy: 0.6435 - val_loss: 0.5477 - val_accuracy: 0.7291\n",
      "Epoch 2/40\n",
      "134/134 [==============================] - 2s 16ms/step - loss: 0.5477 - accuracy: 0.7338 - val_loss: 0.5565 - val_accuracy: 0.7245\n",
      "Epoch 3/40\n",
      "134/134 [==============================] - 2s 15ms/step - loss: 0.5252 - accuracy: 0.7483 - val_loss: 0.5346 - val_accuracy: 0.7545\n",
      "Epoch 4/40\n",
      "134/134 [==============================] - 2s 15ms/step - loss: 0.5031 - accuracy: 0.7607 - val_loss: 0.4870 - val_accuracy: 0.7835\n",
      "Epoch 5/40\n",
      "134/134 [==============================] - 2s 16ms/step - loss: 0.4877 - accuracy: 0.7785 - val_loss: 0.4730 - val_accuracy: 0.8004\n",
      "Epoch 6/40\n",
      "134/134 [==============================] - 2s 15ms/step - loss: 0.4628 - accuracy: 0.7898 - val_loss: 0.4836 - val_accuracy: 0.7882\n",
      "Epoch 7/40\n",
      "134/134 [==============================] - 2s 16ms/step - loss: 0.4403 - accuracy: 0.7966 - val_loss: 0.4681 - val_accuracy: 0.7891\n",
      "Epoch 8/40\n",
      "134/134 [==============================] - 2s 15ms/step - loss: 0.4072 - accuracy: 0.8184 - val_loss: 0.4590 - val_accuracy: 0.8013\n",
      "Epoch 9/40\n",
      "134/134 [==============================] - 2s 15ms/step - loss: 0.3807 - accuracy: 0.8306 - val_loss: 0.4428 - val_accuracy: 0.8144\n",
      "Epoch 10/40\n",
      "134/134 [==============================] - 2s 16ms/step - loss: 0.3614 - accuracy: 0.8488 - val_loss: 0.4780 - val_accuracy: 0.7779\n",
      "Epoch 11/40\n",
      "134/134 [==============================] - 2s 16ms/step - loss: 0.3370 - accuracy: 0.8584 - val_loss: 0.4499 - val_accuracy: 0.7985\n",
      "Epoch 12/40\n",
      "134/134 [==============================] - 2s 15ms/step - loss: 0.3060 - accuracy: 0.8711 - val_loss: 0.4356 - val_accuracy: 0.8032\n",
      "Epoch 13/40\n",
      "134/134 [==============================] - 2s 15ms/step - loss: 0.2888 - accuracy: 0.8734 - val_loss: 0.4755 - val_accuracy: 0.7957\n",
      "Epoch 14/40\n",
      "134/134 [==============================] - 2s 15ms/step - loss: 0.2698 - accuracy: 0.8828 - val_loss: 0.4524 - val_accuracy: 0.7901\n",
      "Epoch 15/40\n",
      "134/134 [==============================] - 2s 15ms/step - loss: 0.2458 - accuracy: 0.8952 - val_loss: 0.4807 - val_accuracy: 0.8032\n",
      "Epoch 16/40\n",
      "134/134 [==============================] - 2s 15ms/step - loss: 0.2329 - accuracy: 0.9025 - val_loss: 0.4984 - val_accuracy: 0.7854\n",
      "Epoch 17/40\n",
      "134/134 [==============================] - 2s 16ms/step - loss: 0.2366 - accuracy: 0.9046 - val_loss: 0.4742 - val_accuracy: 0.8013\n"
     ]
    }
   ],
   "source": [
    "#second is to use .fit() --> to train the model : use x_train, y_train --> either .fit() or training loop from scratch (see below)\n",
    "print(\"Fit model on training data\")\n",
    "\n",
    "model = create_baseline()\n",
    "\n",
    "import datetime\n",
    "#%tensorboard --logdir logs/fit\n",
    "#parameters \n",
    "#batch_size=32\n",
    "epochs= 40\n",
    "\n",
    "log_dir = \"logs/fit/\" + datetime.datetime.now().strftime(\"%Y%m%d-%H%M%S\")\n",
    "tensorboard_callback = tf.keras.callbacks.TensorBoard(log_dir=log_dir, histogram_freq=1)\n",
    "\n",
    "my_callbacks = [\n",
    "    tf.keras.callbacks.EarlyStopping(patience=5),\n",
    "    tf.keras.callbacks.ModelCheckpoint(filepath='model.{epoch:02d}-{val_loss:.2f}.h5'),\n",
    "    tf.keras.callbacks.TensorBoard(log_dir='./logs'),\n",
    "]\n",
    "\n",
    "\n",
    "history = model.fit(\n",
    "    x_train,\n",
    "    y_train,\n",
    "    #batch_size=batch_size, # --> the tf.dataset already batched the dataset \n",
    "    epochs=epochs,\n",
    "    # We pass some validation for\n",
    "    # monitoring validation loss and metrics\n",
    "    # at the end of each epoch\n",
    "    validation_data=(x_val,y_val),\n",
    "    callbacks=my_callbacks\n",
    ")"
   ]
  },
  {
   "cell_type": "code",
   "execution_count": 14,
   "id": "4d76c2e7",
   "metadata": {},
   "outputs": [
    {
     "name": "stdout",
     "output_type": "stream",
     "text": [
      "Fit model on training data\n",
      "Epoch 1/20\n",
      "134/134 [==============================] - 3s 14ms/step - loss: 0.6202 - accuracy: 0.6508\n",
      "Epoch 2/20\n",
      "134/134 [==============================] - 2s 14ms/step - loss: 0.5504 - accuracy: 0.7324\n",
      "Epoch 3/20\n",
      "134/134 [==============================] - 2s 14ms/step - loss: 0.5203 - accuracy: 0.7528\n",
      "Epoch 4/20\n",
      "134/134 [==============================] - 2s 14ms/step - loss: 0.5061 - accuracy: 0.7663\n",
      "Epoch 5/20\n",
      "134/134 [==============================] - 2s 14ms/step - loss: 0.4772 - accuracy: 0.7813\n",
      "Epoch 6/20\n",
      "134/134 [==============================] - 2s 14ms/step - loss: 0.4515 - accuracy: 0.7954\n",
      "Epoch 7/20\n",
      "134/134 [==============================] - 2s 14ms/step - loss: 0.4237 - accuracy: 0.8092\n",
      "Epoch 8/20\n",
      "134/134 [==============================] - 2s 14ms/step - loss: 0.4064 - accuracy: 0.8163\n",
      "Epoch 9/20\n",
      "134/134 [==============================] - 2s 14ms/step - loss: 0.3805 - accuracy: 0.8399\n",
      "Epoch 10/20\n",
      "134/134 [==============================] - 2s 14ms/step - loss: 0.3749 - accuracy: 0.8355\n",
      "Epoch 11/20\n",
      "134/134 [==============================] - 2s 14ms/step - loss: 0.3396 - accuracy: 0.8577\n",
      "Epoch 12/20\n",
      "134/134 [==============================] - 2s 14ms/step - loss: 0.3168 - accuracy: 0.8659\n",
      "Epoch 13/20\n",
      "134/134 [==============================] - 2s 14ms/step - loss: 0.2970 - accuracy: 0.8760\n",
      "Epoch 14/20\n",
      "134/134 [==============================] - 2s 14ms/step - loss: 0.2810 - accuracy: 0.8816\n",
      "Epoch 15/20\n",
      "134/134 [==============================] - 2s 14ms/step - loss: 0.2509 - accuracy: 0.9018\n",
      "Epoch 16/20\n",
      "134/134 [==============================] - 2s 14ms/step - loss: 0.2422 - accuracy: 0.9002\n",
      "Epoch 17/20\n",
      "134/134 [==============================] - 2s 14ms/step - loss: 0.2249 - accuracy: 0.9074\n",
      "Epoch 18/20\n",
      "134/134 [==============================] - 2s 14ms/step - loss: 0.2163 - accuracy: 0.9126\n",
      "Epoch 19/20\n",
      "134/134 [==============================] - 2s 14ms/step - loss: 0.1999 - accuracy: 0.9213\n",
      "Epoch 20/20\n",
      "134/134 [==============================] - 2s 14ms/step - loss: 0.1961 - accuracy: 0.9217\n"
     ]
    }
   ],
   "source": [
    "#second is to use .fit() --> to train the model : use x_train, y_train --> either .fit() or training loop from scratch (see below)\n",
    "print(\"Fit model on training data\")\n",
    "#%tensorboard --logdir logs/fit\n",
    "\n",
    "model = create_baseline()\n",
    "\n",
    "#parameters \n",
    "#batch_size=32\n",
    "epochs= 20\n",
    "\n",
    "\n",
    "history = model.fit(\n",
    "    x_train,\n",
    "    y_train,\n",
    "    #batch_size=batch_size, --> the tf.dataset already batched the dataset \n",
    "    epochs=epochs\n",
    ")"
   ]
  },
  {
   "cell_type": "code",
   "execution_count": 25,
   "id": "6ef6898a",
   "metadata": {},
   "outputs": [
    {
     "data": {
      "text/plain": [
       "Reusing TensorBoard on port 6006 (pid 118890), started 0:53:20 ago. (Use '!kill 118890' to kill it.)"
      ]
     },
     "metadata": {},
     "output_type": "display_data"
    },
    {
     "data": {
      "text/html": [
       "\n",
       "      <iframe id=\"tensorboard-frame-c5673c9be2f3fa62\" width=\"100%\" height=\"800\" frameborder=\"0\">\n",
       "      </iframe>\n",
       "      <script>\n",
       "        (function() {\n",
       "          const frame = document.getElementById(\"tensorboard-frame-c5673c9be2f3fa62\");\n",
       "          const url = new URL(\"/\", window.location);\n",
       "          const port = 6006;\n",
       "          if (port) {\n",
       "            url.port = port;\n",
       "          }\n",
       "          frame.src = url;\n",
       "        })();\n",
       "      </script>\n",
       "    "
      ],
      "text/plain": [
       "<IPython.core.display.HTML object>"
      ]
     },
     "metadata": {},
     "output_type": "display_data"
    }
   ],
   "source": [
    "%tensorboard --logdir logs/fit"
   ]
  },
  {
   "cell_type": "code",
   "execution_count": 20,
   "id": "c77bdd0d",
   "metadata": {},
   "outputs": [
    {
     "name": "stdout",
     "output_type": "stream",
     "text": [
      "\n",
      "Start of epoch 0\n"
     ]
    },
    {
     "name": "stderr",
     "output_type": "stream",
     "text": [
      "/home/icb/sofia.martello/miniconda3/envs/my-thesis-env/lib/python3.10/site-packages/keras/backend.py:5676: UserWarning: \"`binary_crossentropy` received `from_logits=True`, but the `output` argument was produced by a Sigmoid activation and thus does not represent logits. Was this intended?\n",
      "  output, from_logits = _get_logits(\n"
     ]
    },
    {
     "name": "stdout",
     "output_type": "stream",
     "text": [
      "tf.Tensor(0.0, shape=(), dtype=float32)\n",
      "Training acc over epoch: 0.0000\n",
      "Validation acc: 0.5061\n",
      "Time taken: 0.89s\n",
      "\n",
      "Start of epoch 1\n",
      "tf.Tensor(0.0, shape=(), dtype=float32)\n",
      "Training acc over epoch: 0.0000\n",
      "Validation acc: 0.5061\n",
      "Time taken: 0.83s\n",
      "\n",
      "Start of epoch 2\n",
      "tf.Tensor(0.0, shape=(), dtype=float32)\n",
      "Training acc over epoch: 0.0000\n",
      "Validation acc: 0.5342\n",
      "Time taken: 0.82s\n",
      "\n",
      "Start of epoch 3\n",
      "tf.Tensor(0.0, shape=(), dtype=float32)\n",
      "Training acc over epoch: 0.0000\n",
      "Validation acc: 0.4939\n",
      "Time taken: 0.80s\n",
      "\n",
      "Start of epoch 4\n",
      "tf.Tensor(0.0, shape=(), dtype=float32)\n",
      "Training acc over epoch: 0.0000\n",
      "Validation acc: 0.4939\n",
      "Time taken: 0.82s\n",
      "\n",
      "Start of epoch 5\n",
      "tf.Tensor(0.0, shape=(), dtype=float32)\n",
      "Training acc over epoch: 0.0000\n",
      "Validation acc: 0.4939\n",
      "Time taken: 0.81s\n",
      "\n",
      "Start of epoch 6\n",
      "tf.Tensor(0.0, shape=(), dtype=float32)\n",
      "Training acc over epoch: 0.0000\n",
      "Validation acc: 0.4939\n",
      "Time taken: 0.81s\n",
      "\n",
      "Start of epoch 7\n",
      "tf.Tensor(0.0, shape=(), dtype=float32)\n",
      "Training acc over epoch: 0.0000\n",
      "Validation acc: 0.4939\n",
      "Time taken: 0.79s\n",
      "\n",
      "Start of epoch 8\n",
      "tf.Tensor(0.0, shape=(), dtype=float32)\n",
      "Training acc over epoch: 0.0000\n",
      "Validation acc: 0.4939\n",
      "Time taken: 0.80s\n",
      "\n",
      "Start of epoch 9\n",
      "tf.Tensor(0.0, shape=(), dtype=float32)\n",
      "Training acc over epoch: 0.0000\n",
      "Validation acc: 0.4939\n",
      "Time taken: 0.79s\n",
      "\n",
      "Start of epoch 10\n",
      "tf.Tensor(0.0, shape=(), dtype=float32)\n",
      "Training acc over epoch: 0.0000\n",
      "Validation acc: 0.4939\n",
      "Time taken: 0.81s\n",
      "\n",
      "Start of epoch 11\n",
      "tf.Tensor(0.0, shape=(), dtype=float32)\n",
      "Training acc over epoch: 0.0000\n",
      "Validation acc: 0.4939\n",
      "Time taken: 0.80s\n",
      "\n",
      "Start of epoch 12\n",
      "tf.Tensor(0.0, shape=(), dtype=float32)\n",
      "Training acc over epoch: 0.0000\n",
      "Validation acc: 0.4939\n",
      "Time taken: 0.80s\n",
      "\n",
      "Start of epoch 13\n",
      "tf.Tensor(0.0, shape=(), dtype=float32)\n",
      "Training acc over epoch: 0.0000\n",
      "Validation acc: 0.4939\n",
      "Time taken: 0.81s\n",
      "\n",
      "Start of epoch 14\n",
      "tf.Tensor(0.0, shape=(), dtype=float32)\n",
      "Training acc over epoch: 0.0000\n",
      "Validation acc: 0.4939\n",
      "Time taken: 0.84s\n",
      "\n",
      "Start of epoch 15\n",
      "tf.Tensor(0.0, shape=(), dtype=float32)\n",
      "Training acc over epoch: 0.0000\n",
      "Validation acc: 0.4939\n",
      "Time taken: 0.79s\n",
      "\n",
      "Start of epoch 16\n",
      "tf.Tensor(0.0, shape=(), dtype=float32)\n",
      "Training acc over epoch: 0.0000\n",
      "Validation acc: 0.4939\n",
      "Time taken: 0.79s\n",
      "\n",
      "Start of epoch 17\n",
      "tf.Tensor(0.0, shape=(), dtype=float32)\n",
      "Training acc over epoch: 0.0000\n",
      "Validation acc: 0.4939\n",
      "Time taken: 0.80s\n",
      "\n",
      "Start of epoch 18\n",
      "tf.Tensor(0.0, shape=(), dtype=float32)\n",
      "Training acc over epoch: 0.0000\n",
      "Validation acc: 0.5661\n",
      "Time taken: 0.80s\n",
      "\n",
      "Start of epoch 19\n",
      "tf.Tensor(0.0, shape=(), dtype=float32)\n",
      "Training acc over epoch: 0.0000\n",
      "Validation acc: 0.6129\n",
      "Time taken: 0.80s\n"
     ]
    }
   ],
   "source": [
    "#first attempt of a training loop from scratch --> added the evaluation loop here --> WORKS WITH TF.DATASETS\n",
    "\n",
    "model = create_baseline()\n",
    "\n",
    "\n",
    "#parameters\n",
    "#input_shape = (3388, 401, 4)\n",
    "input_shape = (400, 4)\n",
    "epochs = 20 #for the test \n",
    "#optimizer = keras.optimizers.SGD(learning_rate=1e-3)#or adam ? --> check  \n",
    "optimizer = keras.optimizers.Adam(learning_rate=1e-3)\n",
    "loss_fn = keras.losses.BinaryCrossentropy(from_logits=False)#parameter is recommended as true but creates an error\n",
    "# Prepare the metrics.\n",
    "train_acc_metric = keras.metrics.BinaryAccuracy()\n",
    "val_acc_metric = keras.metrics.BinaryAccuracy()\n",
    "\n",
    "\n",
    "model = create_baseline()\n",
    "\n",
    "import time\n",
    "\n",
    "for epoch in range(epochs):\n",
    "    print(\"\\nStart of epoch %d\" % (epoch,))\n",
    "    start_time = time.time()\n",
    "    \n",
    "    # Iterate over the batches of the dataset.\n",
    "    #for step, (x_batch_train, y_batch_train) in enumerate(train_dataset): #55 steps\n",
    "        #print(step)\n",
    "        # Open a GradientTape to record the operations run\n",
    "        # during the forward pass, which enables auto-differentiation.\n",
    "    with tf.GradientTape() as tape:\n",
    "\n",
    "            # Run the forward pass of the layer.\n",
    "            # The operations that the layer applies\n",
    "            # to its inputs are going to be recorded\n",
    "            # on the GradientTape.\n",
    "        logits = model(x_train, training=True)  \n",
    "            #print(\"Number of weights after calling the model:\", len(model.weights))\n",
    "\n",
    "            # Compute the loss value for this minibatch.\n",
    "        loss_value = loss_fn(y_train, logits)\n",
    "    \n",
    "            \n",
    "        # Use the gradient tape to automatically retrieve\n",
    "        # the gradients of the trainable variables with respect to the loss.\n",
    "    grads = tape.gradient(loss_value, model.trainable_weights)\n",
    "    \n",
    "\n",
    "        # Run one step of gradient descent by updating\n",
    "        # the value of the variables to minimize the loss.\n",
    "    optimizer.apply_gradients(zip(grads, model.trainable_weights)) #I think it doesn't work because there's just one class now . \n",
    "\n",
    "        # Log every 200 batches.\n",
    "        #if (step % 50) == 0:\n",
    "         #   print(\n",
    "          #      \"Training loss (for one batch) at step %d: %.4f\"\n",
    "            #    % (step, float(loss_value))\n",
    "            #)\n",
    "            #print(\"Seen so far: %s samples\" % ((step + 1) * batch_size))\n",
    "    # Display metrics at the end of each epoch.\n",
    "    train_acc = train_acc_metric.result()\n",
    "    print(train_acc)\n",
    "    print(\"Training acc over epoch: %.4f\" % (float(train_acc),))\n",
    "\n",
    "    # Reset training metrics at the end of each epoch\n",
    "    train_acc_metric.reset_states()\n",
    "\n",
    "    # Run a validation loop at the end of each epoch.\n",
    "   # for x_batch_val, y_batch_val in val_dataset:\n",
    "    val_logits = model(x_val, training=False)\n",
    "\n",
    "        # Update val metrics\n",
    "    val_acc_metric.update_state(y_val, val_logits)\n",
    "    \n",
    "    val_acc = val_acc_metric.result()\n",
    "    val_acc_metric.reset_states()\n",
    "    print(\"Validation acc: %.4f\" % (float(val_acc),))\n",
    "    print(\"Time taken: %.2fs\" % (time.time() - start_time))\n",
    "    "
   ]
  },
  {
   "cell_type": "code",
   "execution_count": 26,
   "id": "d02d78aa",
   "metadata": {},
   "outputs": [
    {
     "name": "stdout",
     "output_type": "stream",
     "text": [
      "\n",
      "Start of epoch 0\n"
     ]
    },
    {
     "ename": "NameError",
     "evalue": "name 'train_dataset' is not defined",
     "output_type": "error",
     "traceback": [
      "\u001b[0;31m---------------------------------------------------------------------------\u001b[0m",
      "\u001b[0;31mNameError\u001b[0m                                 Traceback (most recent call last)",
      "Cell \u001b[0;32mIn[26], line 24\u001b[0m\n\u001b[1;32m     21\u001b[0m start_time \u001b[38;5;241m=\u001b[39m time\u001b[38;5;241m.\u001b[39mtime()\n\u001b[1;32m     23\u001b[0m \u001b[38;5;66;03m# Iterate over the batches of the dataset.\u001b[39;00m\n\u001b[0;32m---> 24\u001b[0m \u001b[38;5;28;01mfor\u001b[39;00m step, (x_batch_train, y_batch_train) \u001b[38;5;129;01min\u001b[39;00m \u001b[38;5;28menumerate\u001b[39m(\u001b[43mtrain_dataset\u001b[49m): \u001b[38;5;66;03m#55 steps\u001b[39;00m\n\u001b[1;32m     25\u001b[0m     \u001b[38;5;66;03m#print(step)\u001b[39;00m\n\u001b[1;32m     26\u001b[0m     \u001b[38;5;66;03m# Open a GradientTape to record the operations run\u001b[39;00m\n\u001b[1;32m     27\u001b[0m     \u001b[38;5;66;03m# during the forward pass, which enables auto-differentiation.\u001b[39;00m\n\u001b[1;32m     28\u001b[0m     \u001b[38;5;28;01mwith\u001b[39;00m tf\u001b[38;5;241m.\u001b[39mGradientTape() \u001b[38;5;28;01mas\u001b[39;00m tape:\n\u001b[1;32m     29\u001b[0m \n\u001b[1;32m     30\u001b[0m         \u001b[38;5;66;03m# Run the forward pass of the layer.\u001b[39;00m\n\u001b[1;32m     31\u001b[0m         \u001b[38;5;66;03m# The operations that the layer applies\u001b[39;00m\n\u001b[1;32m     32\u001b[0m         \u001b[38;5;66;03m# to its inputs are going to be recorded\u001b[39;00m\n\u001b[1;32m     33\u001b[0m         \u001b[38;5;66;03m# on the GradientTape.\u001b[39;00m\n\u001b[1;32m     34\u001b[0m         logits \u001b[38;5;241m=\u001b[39m model(x_batch_train, training\u001b[38;5;241m=\u001b[39m\u001b[38;5;28;01mTrue\u001b[39;00m)  \n",
      "\u001b[0;31mNameError\u001b[0m: name 'train_dataset' is not defined"
     ]
    }
   ],
   "source": [
    "#first attempt of a training loop from scratch --> added the evaluation loop here --> WORKS WITH TF.DATASETS\n",
    "\n",
    "#parameters\n",
    "#input_shape = (3388, 401, 4)\n",
    "input_shape = (400, 4)\n",
    "epochs = 5 #for the test \n",
    "#optimizer = keras.optimizers.SGD(learning_rate=1e-3)#or adam ? --> check  \n",
    "optimizer = keras.optimizers.Adam(learning_rate=1e-3)\n",
    "loss_fn = keras.losses.BinaryCrossentropy(from_logits=False)#parameter is recommended as true \n",
    "# Prepare the metrics.\n",
    "train_acc_metric = keras.metrics.BinaryAccuracy()\n",
    "val_acc_metric = keras.metrics.BinaryAccuracy()\n",
    "\n",
    "\n",
    "model = create_baseline()\n",
    "\n",
    "import time\n",
    "\n",
    "for epoch in range(epochs):\n",
    "    print(\"\\nStart of epoch %d\" % (epoch,))\n",
    "    start_time = time.time()\n",
    "    \n",
    "    # Iterate over the batches of the dataset.\n",
    "    for step, (x_batch_train, y_batch_train) in enumerate(train_dataset): #55 steps\n",
    "        #print(step)\n",
    "        # Open a GradientTape to record the operations run\n",
    "        # during the forward pass, which enables auto-differentiation.\n",
    "        with tf.GradientTape() as tape:\n",
    "\n",
    "            # Run the forward pass of the layer.\n",
    "            # The operations that the layer applies\n",
    "            # to its inputs are going to be recorded\n",
    "            # on the GradientTape.\n",
    "            logits = model(x_batch_train, training=True)  \n",
    "            #print(\"Number of weights after calling the model:\", len(model.weights))\n",
    "\n",
    "            # Compute the loss value for this minibatch.\n",
    "            loss_value = loss_fn(y_batch_train, logits)\n",
    "    \n",
    "            \n",
    "        # Use the gradient tape to automatically retrieve\n",
    "        # the gradients of the trainable variables with respect to the loss.\n",
    "        grads = tape.gradient(loss_value, model.trainable_weights)\n",
    "    \n",
    "\n",
    "        # Run one step of gradient descent by updating\n",
    "        # the value of the variables to minimize the loss.\n",
    "        optimizer.apply_gradients(zip(grads, model.trainable_weights)) #I think it doesn't work because there's just one class now . \n",
    "\n",
    "        # Log every 200 batches.\n",
    "        if (step % 50) == 0:\n",
    "            print(\n",
    "                \"Training loss (for one batch) at step %d: %.4f\"\n",
    "                % (step, float(loss_value))\n",
    "            )\n",
    "            print(\"Seen so far: %s samples\" % ((step + 1) * batch_size))\n",
    "    # Display metrics at the end of each epoch.\n",
    "    train_acc = train_acc_metric.result()\n",
    "    print(\"Training acc over epoch: %.4f\" % (float(train_acc),))\n",
    "\n",
    "    # Reset training metrics at the end of each epoch\n",
    "    train_acc_metric.reset_states()\n",
    "\n",
    "    # Run a validation loop at the end of each epoch.\n",
    "    for x_batch_val, y_batch_val in val_dataset:\n",
    "        val_logits = model(x_batch_val, training=False)\n",
    "\n",
    "        # Update val metrics\n",
    "        val_acc_metric.update_state(y_batch_val, val_logits)\n",
    "    val_acc = val_acc_metric.result()\n",
    "    val_acc_metric.reset_states()\n",
    "    print(\"Validation acc: %.4f\" % (float(val_acc),))\n",
    "    print(\"Time taken: %.2fs\" % (time.time() - start_time))\n",
    "    "
   ]
  },
  {
   "cell_type": "code",
   "execution_count": null,
   "id": "e9231490",
   "metadata": {},
   "outputs": [],
   "source": [
    "from sklearn.metrics import confusion_matrix\n",
    "\n",
    "y_pred_class = y_pred_pos > threshold\n",
    "cm = confusion_matrix(y_true, y_pred_class)\n",
    "tn, fp, fn, tp = cm.ravel()"
   ]
  }
 ],
 "metadata": {
  "kernelspec": {
   "display_name": "Python (my-thesis-env)",
   "language": "python",
   "name": "myenv"
  },
  "language_info": {
   "codemirror_mode": {
    "name": "ipython",
    "version": 3
   },
   "file_extension": ".py",
   "mimetype": "text/x-python",
   "name": "python",
   "nbconvert_exporter": "python",
   "pygments_lexer": "ipython3",
   "version": "3.10.8"
  }
 },
 "nbformat": 4,
 "nbformat_minor": 5
}
