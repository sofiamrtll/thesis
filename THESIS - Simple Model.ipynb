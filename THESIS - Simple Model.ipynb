{
 "cells": [
  {
   "cell_type": "code",
   "execution_count": 1,
   "id": "1526ebce",
   "metadata": {},
   "outputs": [
    {
     "name": "stderr",
     "output_type": "stream",
     "text": [
      "2023-01-23 17:34:42.829568: I tensorflow/core/platform/cpu_feature_guard.cc:193] This TensorFlow binary is optimized with oneAPI Deep Neural Network Library (oneDNN) to use the following CPU instructions in performance-critical operations:  SSE4.1 SSE4.2 AVX AVX2 AVX512F FMA\n",
      "To enable them in other operations, rebuild TensorFlow with the appropriate compiler flags.\n"
     ]
    }
   ],
   "source": [
    "import tensorflow as tf\n",
    "import keras "
   ]
  },
  {
   "cell_type": "code",
   "execution_count": 9,
   "id": "9304d78a",
   "metadata": {},
   "outputs": [
    {
     "name": "stdout",
     "output_type": "stream",
     "text": [
      "Number of weights after calling the model: 8\n"
     ]
    }
   ],
   "source": [
    "#the first layer should be a convolutional layer\n",
    "#conv-maxpooling-dropout-conv-maxpooling-dropout-flatten-dense-dropout-dense --> this is the pysster architecture \n",
    "#how long should the kernel be? \n",
    "#\n",
    "input_shape = (4, 10, 128)#testing\n",
    "x = tf.random.normal(input_shape)\n",
    "\n",
    "model = keras.Sequential()\n",
    "model.add(keras.layers.Conv1D(filters=32,kernel_size=3,\n",
    "          kernel_initializer=tf.keras.initializers.constant(1), \n",
    "         #glorot_uniform(seed=12)\n",
    "          activation='relu',input_shape=input_shape[1:])) #--> idk what to add\n",
    "         #or without data? )\n",
    "model.add(keras.layers.MaxPooling1D(pool_size=2, strides=1, padding='valid'))#valid or same? padding or not \n",
    "model.add(keras.layers.Dropout(0.1))\n",
    "\n",
    "model.add(keras.layers.Conv1D(filters=32,kernel_size=3,\n",
    "          kernel_initializer=tf.keras.initializers.constant(1), \n",
    "         #glorot_uniform(seed=12)\n",
    "          activation='relu',input_shape=input_shape[1:] ))#--> idk what to add\n",
    "        \n",
    "model.add(keras.layers.MaxPooling1D(pool_size=2, strides=1, padding='valid'))\n",
    "model.add(keras.layers.Dropout(0.1))\n",
    "\n",
    "model.add(keras.layers.Flatten())#without parameters\n",
    "\n",
    "model.add(keras.layers.Dense(4, activation='relu'))#is it always relu? also sigmoid is an option \n",
    "model.add(keras.layers.Dropout(0.1))\n",
    "\n",
    "model.add(keras.layers.Dense(1, activation='sigmoid'))#what should be the output shape? 1? \n",
    "\n",
    "y = model(x)        \n",
    "print(\"Number of weights after calling the model:\", len(model.weights))\n",
    "          \n",
    "#feature extractor??"
   ]
  },
  {
   "cell_type": "code",
   "execution_count": 11,
   "id": "98c7125d",
   "metadata": {},
   "outputs": [
    {
     "data": {
      "text/plain": [
       "[<keras.layers.convolutional.conv1d.Conv1D at 0x7fedb8311540>,\n",
       " <keras.layers.pooling.max_pooling1d.MaxPooling1D at 0x7feeb06671c0>,\n",
       " <keras.layers.regularization.dropout.Dropout at 0x7fedbc570d60>,\n",
       " <keras.layers.convolutional.conv1d.Conv1D at 0x7feeb0665840>,\n",
       " <keras.layers.pooling.max_pooling1d.MaxPooling1D at 0x7feeb06659c0>,\n",
       " <keras.layers.regularization.dropout.Dropout at 0x7feeb0667be0>,\n",
       " <keras.layers.reshaping.flatten.Flatten at 0x7feeb06670d0>,\n",
       " <keras.layers.core.dense.Dense at 0x7fedb84d61d0>,\n",
       " <keras.layers.regularization.dropout.Dropout at 0x7fedb84d7df0>,\n",
       " <keras.layers.core.dense.Dense at 0x7fedb84d59f0>]"
      ]
     },
     "execution_count": 11,
     "metadata": {},
     "output_type": "execute_result"
    }
   ],
   "source": [
    "model.layers"
   ]
  },
  {
   "cell_type": "code",
   "execution_count": 10,
   "id": "0db2fb56",
   "metadata": {},
   "outputs": [
    {
     "name": "stdout",
     "output_type": "stream",
     "text": [
      "Model: \"sequential_3\"\n",
      "_________________________________________________________________\n",
      " Layer (type)                Output Shape              Param #   \n",
      "=================================================================\n",
      " conv1d_3 (Conv1D)           (None, 8, 32)             12320     \n",
      "                                                                 \n",
      " max_pooling1d_3 (MaxPooling  (None, 7, 32)            0         \n",
      " 1D)                                                             \n",
      "                                                                 \n",
      " dropout_4 (Dropout)         (None, 7, 32)             0         \n",
      "                                                                 \n",
      " conv1d_4 (Conv1D)           (None, 5, 32)             3104      \n",
      "                                                                 \n",
      " max_pooling1d_4 (MaxPooling  (None, 4, 32)            0         \n",
      " 1D)                                                             \n",
      "                                                                 \n",
      " dropout_5 (Dropout)         (None, 4, 32)             0         \n",
      "                                                                 \n",
      " flatten_1 (Flatten)         (None, 128)               0         \n",
      "                                                                 \n",
      " dense_2 (Dense)             (None, 4)                 516       \n",
      "                                                                 \n",
      " dropout_6 (Dropout)         (None, 4)                 0         \n",
      "                                                                 \n",
      " dense_3 (Dense)             (None, 1)                 5         \n",
      "                                                                 \n",
      "=================================================================\n",
      "Total params: 15,945\n",
      "Trainable params: 15,945\n",
      "Non-trainable params: 0\n",
      "_________________________________________________________________\n"
     ]
    }
   ],
   "source": [
    "model.summary()"
   ]
  },
  {
   "cell_type": "code",
   "execution_count": null,
   "id": "c1a05f8b",
   "metadata": {},
   "outputs": [],
   "source": [
    "model.compile(loss='binary_crossentropy',\n",
    "optimizer=RMSprop(lr=0.001), \n",
    "metrics='accuracy')"
   ]
  },
  {
   "cell_type": "code",
   "execution_count": null,
   "id": "ab1ac8a2",
   "metadata": {},
   "outputs": [],
   "source": [
    "history = model.fit(train_generator,\n",
    "steps_per_epoch=8,\n",
    "epochs=15,\n",
    "verbose=1,\n",
    "validation_data = validation_generator,\n",
    "validation_steps=8)"
   ]
  },
  {
   "cell_type": "code",
   "execution_count": null,
   "id": "c07aa851",
   "metadata": {},
   "outputs": [],
   "source": []
  },
  {
   "cell_type": "code",
   "execution_count": null,
   "id": "d06b0740",
   "metadata": {},
   "outputs": [],
   "source": []
  },
  {
   "cell_type": "code",
   "execution_count": null,
   "id": "b2ba79be",
   "metadata": {},
   "outputs": [],
   "source": []
  }
 ],
 "metadata": {
  "kernelspec": {
   "display_name": "Python (my-thesis-env)",
   "language": "python",
   "name": "myenv"
  },
  "language_info": {
   "codemirror_mode": {
    "name": "ipython",
    "version": 3
   },
   "file_extension": ".py",
   "mimetype": "text/x-python",
   "name": "python",
   "nbconvert_exporter": "python",
   "pygments_lexer": "ipython3",
   "version": "3.10.8"
  }
 },
 "nbformat": 4,
 "nbformat_minor": 5
}
