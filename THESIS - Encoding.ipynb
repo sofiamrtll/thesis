{
 "cells": [
  {
   "cell_type": "code",
   "execution_count": 2,
   "id": "8af309cc",
   "metadata": {},
   "outputs": [],
   "source": [
    "import shlex, subprocess\n",
    "import os , sys\n",
    "import pandas as pd"
   ]
  },
  {
   "cell_type": "code",
   "execution_count": 3,
   "id": "a0611540",
   "metadata": {},
   "outputs": [],
   "source": [
    "#should I add the copying of the genome file in my folder?"
   ]
  },
  {
   "cell_type": "code",
   "execution_count": 4,
   "id": "6a9c803d",
   "metadata": {},
   "outputs": [
    {
     "data": {
      "text/plain": [
       "CompletedProcess(args=\"mysql --user=genome --host=genome-mysql.cse.ucsc.edu -A -e 'select chrom, size from hg38.chromInfo' > /lustre/groups/crna01/workspace/sofia/gencode/hg38.genome\", returncode=0)"
      ]
     },
     "execution_count": 4,
     "metadata": {},
     "output_type": "execute_result"
    }
   ],
   "source": [
    "#creation of the file containing the length of the human chromosomes\n",
    "subprocess.run(f\"mysql --user=genome --host=genome-mysql.cse.ucsc.edu -A -e \\\n",
    "'select chrom, size from hg38.chromInfo' > /lustre/groups/crna01/workspace/sofia/gencode/hg38.genome\", shell = True)"
   ]
  },
  {
   "cell_type": "markdown",
   "id": "44d84ce9",
   "metadata": {},
   "source": [
    "#creation of the file containing the length of the human chromosomes\n",
    "subprocess.run(f\"mysql --user=genome --host=genome-mysql.cse.ucsc.edu -A -e \\\n",
    "'select chrom, size from hg19.chromInfo' > /lustre/groups/crna01/workspace/sofia/gencode/hg19.genome\", shell= True)"
   ]
  },
  {
   "cell_type": "code",
   "execution_count": 5,
   "id": "18642232",
   "metadata": {},
   "outputs": [],
   "source": [
    "#sloping the whole directory to a common  length of 400 nucleotides\n",
    "path = 'processed/'\n",
    "directory1 = os.listdir(path)\n",
    "#plot_ds = pd.DataFrame([])\n",
    "\n",
    "#tic()\n",
    "\n",
    "for folder in directory1:\n",
    "    #print(folder)\n",
    "    directory2 = os.listdir(path + '/' + folder)\n",
    "    \n",
    "    for file in directory2 :\n",
    "        if 'peaks.crosslink.anno.filt.bed' in file :\n",
    "            subprocess.run(f\"slopBed -i {path}/{folder}/peaks.crosslink.anno.filt.bed -g /lustre/groups/crna01/workspace/sofia/gencode/hg38.genome -b 200 > {path}/{folder}/peaks.crosslink.anno.filt.slop.bed\", shell= True)\n",
    "#tac()\n"
   ]
  },
  {
   "cell_type": "code",
   "execution_count": 6,
   "id": "94e95cce",
   "metadata": {},
   "outputs": [],
   "source": [
    "#converting all of the eCLIP sequences to fasta \n",
    "path = 'processed/'\n",
    "directory1 = os.listdir(path)\n",
    "#plot_ds = pd.DataFrame([])\n",
    "\n",
    "#tic()\n",
    "\n",
    "for folder in directory1:\n",
    "    #print(folder)\n",
    "    directory2 = os.listdir(path + '/' + folder)\n",
    "    \n",
    "    for file in directory2 :\n",
    "        if 'peaks.crosslink.anno.filt.bed' in file :\n",
    "            subprocess.run(f\"bedtools getfasta -fi /lustre/groups/crna01/workspace/sofia/gencode/GRCh38.primary_assembly.genome.fa -bed {path}/{folder}/peaks.crosslink.anno.filt.slop.bed -fo > {path}/{folder}/peaks.crosslink.anno.filt.slop.fa.out\", shell= True)\n",
    "\n",
    "#tac()\n"
   ]
  },
  {
   "cell_type": "code",
   "execution_count": 2,
   "id": "03fbc315",
   "metadata": {},
   "outputs": [],
   "source": [
    "import Bio"
   ]
  },
  {
   "cell_type": "code",
   "execution_count": null,
   "id": "091f760e",
   "metadata": {},
   "outputs": [],
   "source": []
  },
  {
   "cell_type": "code",
   "execution_count": null,
   "id": "85eb15e5",
   "metadata": {},
   "outputs": [],
   "source": []
  }
 ],
 "metadata": {
  "kernelspec": {
   "display_name": "Python 3 (ipykernel)",
   "language": "python",
   "name": "python3"
  },
  "language_info": {
   "codemirror_mode": {
    "name": "ipython",
    "version": 3
   },
   "file_extension": ".py",
   "mimetype": "text/x-python",
   "name": "python",
   "nbconvert_exporter": "python",
   "pygments_lexer": "ipython3",
   "version": "3.10.8"
  }
 },
 "nbformat": 4,
 "nbformat_minor": 5
}
