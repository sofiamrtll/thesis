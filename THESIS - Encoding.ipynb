{
 "cells": [
  {
   "cell_type": "markdown",
   "id": "d1960e93-8dcf-48b6-a572-2db677cef852",
   "metadata": {},
   "source": [
    "# ENCODING "
   ]
  },
  {
   "cell_type": "markdown",
   "id": "7c8e1683-d2fd-48ee-8508-38d2dd653b7c",
   "metadata": {},
   "source": [
    "# Imports"
   ]
  },
  {
   "cell_type": "code",
   "execution_count": 1,
   "id": "84a67d1b-9eb7-4420-aff0-99b2bdb6d9ba",
   "metadata": {
    "tags": []
   },
   "outputs": [],
   "source": [
    "#%load_ext autoreload\n",
    "#%autoreload 2\n",
    "import os, sys\n",
    "\n",
    "import sys\n",
    "sys.path.append('/home/ubuntu/')\n",
    "os.chdir('/home/ubuntu/')"
   ]
  },
  {
   "cell_type": "code",
   "execution_count": 2,
   "id": "d30714fe-f09c-4e4e-bc6c-edf0d40961aa",
   "metadata": {
    "tags": []
   },
   "outputs": [],
   "source": [
    "import importlib\n",
    "import src\n",
    "importlib.reload(src)\n",
    "import src\n",
    "import src.encoding as enc\n",
    "import shlex, subprocess\n",
    "import pandas as pd\n",
    "from pybedtools import BedTool\n",
    "import numpy as np\n",
    "import seaborn as sns \n",
    "import matplotlib.pyplot as plt\n"
   ]
  },
  {
   "cell_type": "code",
   "execution_count": 3,
   "id": "bfa40b7a-39be-41bc-876a-bb97fc539469",
   "metadata": {
    "tags": []
   },
   "outputs": [],
   "source": [
    "datapath= \"/mnt/data/\"\n",
    "resultspath = \"/home/ubuntu/results/\""
   ]
  },
  {
   "cell_type": "code",
   "execution_count": 68,
   "id": "a0611540",
   "metadata": {
    "tags": []
   },
   "outputs": [],
   "source": [
    "#should I add the copying of the genome file in my folder to the jupyter notebook?"
   ]
  },
  {
   "cell_type": "code",
   "execution_count": 69,
   "id": "6a9c803d",
   "metadata": {
    "tags": []
   },
   "outputs": [
    {
     "data": {
      "text/plain": [
       "CompletedProcess(args=\"mysql --user=genome --host=genome-mysql.cse.ucsc.edu -A -e                         'select chrom, size from hg38.chromInfo'                         > /mnt/data/hg38.genome\", returncode=0)"
      ]
     },
     "execution_count": 69,
     "metadata": {},
     "output_type": "execute_result"
    }
   ],
   "source": [
    "#creation of the file containing the length of the human chromosomes\n",
    "subprocess.run(f\"mysql --user=genome --host=genome-mysql.cse.ucsc.edu -A -e \\\n",
    "                        'select chrom, size from hg38.chromInfo' \\\n",
    "                        > {datapath}hg38.genome\", shell = True)"
   ]
  },
  {
   "cell_type": "markdown",
   "id": "f20b1a83-ee2d-4dde-8ce7-b448a4343dc1",
   "metadata": {},
   "source": [
    "# Sloping"
   ]
  },
  {
   "cell_type": "code",
   "execution_count": 5,
   "id": "18642232",
   "metadata": {
    "tags": []
   },
   "outputs": [],
   "source": [
    "#ORIGINAL ENCODE\n",
    "#sloping the whole directory to a common  length of 400 nucleotides\n",
    "#original ENCODE\n",
    "path = f'{datapath}ENCODE/processed/'\n",
    "directory1 = os.listdir(path)\n",
    "\n",
    "\n",
    "for folder in directory1:\n",
    "    #print(folder)\n",
    "    directory2 = os.listdir(f\"{path}{folder}\")\n",
    "    \n",
    "    for file in directory2 :\n",
    "        if 'peaks.crosslink.anno.filt.bed' in file :\n",
    "            subprocess.run(f\"slopBed -i {path}/{folder}/peaks.crosslink.anno.filt.bed \\\n",
    "                                    -g {datapath}hg38.genome -b 200 \\\n",
    "                                    > {path}/{folder}/peaks.crosslink.anno.filt.slop.bed\", shell= True)\n",
    "\n"
   ]
  },
  {
   "cell_type": "code",
   "execution_count": null,
   "id": "954c2179-1a23-408f-bca5-82f6f8f64eaa",
   "metadata": {},
   "outputs": [],
   "source": []
  },
  {
   "cell_type": "code",
   "execution_count": null,
   "id": "5a1bf3c1-2443-4bdd-8877-fd633c9e2d6a",
   "metadata": {},
   "outputs": [],
   "source": []
  },
  {
   "cell_type": "markdown",
   "id": "ca666b3a-cb6a-45ce-9426-7379351d4b32",
   "metadata": {},
   "source": [
    "# Conversion to FASTA"
   ]
  },
  {
   "cell_type": "code",
   "execution_count": 6,
   "id": "94e95cce",
   "metadata": {
    "tags": []
   },
   "outputs": [],
   "source": [
    "#ORIGINAL ENCODE\n",
    "#converting all of the eCLIP sequences to fasta \n",
    "#original ENCODE\n",
    "path = f'{datapath}ENCODE/processed/'\n",
    "directory1 = os.listdir(path)\n",
    "\n",
    "for folder in directory1:\n",
    "    directory2 = os.listdir(f\"{path}{folder}\")\n",
    "    \n",
    "    for file in directory2 :\n",
    "        \n",
    "        if 'peaks.crosslink.anno.filt.bed' in file :\n",
    "            subprocess.run(f\"bedtools getfasta -fi {datapath}GRCh38.primary_assembly.genome.fa \\\n",
    "                                    -bed {path}/{folder}/peaks.crosslink.anno.filt.slop.bed -fo \\\n",
    "                                    > {path}/{folder}/peaks.crosslink.anno.filt.slop.fa.out\", shell= True)\n",
    "\n"
   ]
  },
  {
   "cell_type": "code",
   "execution_count": 14,
   "id": "7a9821aa",
   "metadata": {
    "tags": []
   },
   "outputs": [],
   "source": [
    "#NEW NEGATIVES\n",
    "# converting negatives into fasta\n",
    "#New negative dataset\n",
    "\n",
    "path = f'{datapath}negatives/'\n",
    "directory1 = os.listdir(path)\n",
    "\n",
    "for folder in directory1:\n",
    "    directory2 = os.listdir(f\"{path}{folder}\")\n",
    "    \n",
    "    for file in directory2 :\n",
    "        subprocess.run(f\"bedtools getfasta -fi {datapath}GRCh38.primary_assembly.genome.fa \\\n",
    "                                        -bed {path}{folder}/{file} -fo \\\n",
    "                                        > {path}{folder}/{file}.fa\", shell= True)\n"
   ]
  },
  {
   "cell_type": "markdown",
   "id": "5ecb526e-0df9-4fb7-858f-ab47289cc250",
   "metadata": {},
   "source": [
    "# Removal of files (if necessary) \n"
   ]
  },
  {
   "cell_type": "code",
   "execution_count": 18,
   "id": "756046e0",
   "metadata": {
    "tags": []
   },
   "outputs": [],
   "source": [
    "#removal of previous files \n",
    "#modified dataset\n",
    "\n",
    "path = f'{datapath}processed/ENCODE-Sofia/'\n",
    "directory1 = os.listdir(path)\n",
    "\n",
    "\n",
    "for folder in directory1:\n",
    "    current_folder = folder\n",
    "    directory2 = os.listdir(f\"{path}{folder}\")\n",
    "\n",
    "    for folder2 in directory2 :\n",
    "        directory3 = os.listdir(f\"{path}{folder}/{folder2}\")\n",
    "\n",
    "        for file in directory3 :\n",
    "\n",
    "            if '.out' in file :\n",
    "                subprocess.run(f\"rm {path}{folder}/{folder2}/{file}\", shell= True)\n",
    "\n"
   ]
  },
  {
   "cell_type": "code",
   "execution_count": 13,
   "id": "3c81c640-e39d-476d-aaf5-c5c924f52e1b",
   "metadata": {
    "tags": []
   },
   "outputs": [],
   "source": [
    "#removal of previous files \n",
    "#modified dataset\n",
    "\n",
    "path = f'{datapath}negatives/'\n",
    "directory1 = os.listdir(path)\n",
    "\n",
    "\n",
    "for folder in directory1:\n",
    "    current_folder = folder\n",
    "    directory3 = os.listdir(f\"{path}{folder}\")\n",
    "\n",
    "    for file in directory3 :\n",
    "\n",
    "        if '.miclip' in file :\n",
    "            subprocess.run(f\"rm {path}{folder}/{file}\", shell= True)\n",
    "\n"
   ]
  },
  {
   "cell_type": "markdown",
   "id": "052e5a1a-8d46-4b42-981d-82d81ae5598f",
   "metadata": {},
   "source": [
    "# m6A sites filtering"
   ]
  },
  {
   "cell_type": "code",
   "execution_count": 16,
   "id": "268c60bc",
   "metadata": {
    "tags": []
   },
   "outputs": [],
   "source": [
    "#NEW NEGATIVES\n",
    "#m6A sites filtering for new set of negatives \n",
    "\n",
    "\n",
    "path = f'{datapath}negatives/'\n",
    "directory1 = os.listdir(path)\n",
    "\n",
    "for folder in directory1: \n",
    "    current_folder = folder\n",
    "    directory2 = os.listdir(path + '/' + folder)\n",
    "\n",
    "    for file in directory2 :\n",
    "\n",
    "        if '.bed.fa' not in file :\n",
    "            subprocess.run(f\"bedtools intersect -wb \\\n",
    "                                    -a {datapath}miCLIP.filt.out.bed \\\n",
    "                                    -b {path}{folder}/{file} \\\n",
    "                                     > {path}{folder}/{file}.miclip.filt.bed.out\", shell= True)\n",
    "\n",
    "\n"
   ]
  },
  {
   "cell_type": "code",
   "execution_count": 22,
   "id": "8b1abd1f",
   "metadata": {
    "tags": []
   },
   "outputs": [],
   "source": [
    "#CV DATASET\n",
    "#m6A sites filtering for pos, neg-1, neg-2 and folds --> for one hot encoding\n",
    "\n",
    "\n",
    "path = f'{datapath}processed/ENCODE-Sofia/'\n",
    "directory1 = os.listdir(path)\n",
    "\n",
    "for folder in directory1:\n",
    "    current_folder = folder\n",
    "    directory2 = os.listdir(f\"{path}{folder}\")\n",
    "\n",
    "    for folder2 in directory2 :\n",
    "        directory3 = os.listdir(f\"{path}{folder}/{folder2}\")\n",
    "\n",
    "        for file in directory3 :\n",
    "\n",
    "            if '.bed' in file :\n",
    "                subprocess.run(f\"bedtools intersect -wb \\\n",
    "                                        -a {datapath}miCLIP.filt.out.bed \\\n",
    "                                        -b {path}/{folder}/{folder2}/{file} \\\n",
    "                                        > {path}/{folder}/{folder2}/{file}.miclip.filt.bed.out\", shell= True)\n",
    "\n",
    "\n"
   ]
  },
  {
   "cell_type": "markdown",
   "id": "670115e7-c66a-457e-943c-6ce040f7d023",
   "metadata": {},
   "source": [
    "# DATA AUGMENTATION"
   ]
  },
  {
   "cell_type": "markdown",
   "id": "8b79e174-1ca2-4302-866d-d67ecf626c81",
   "metadata": {},
   "source": [
    "# just CV dataset"
   ]
  },
  {
   "cell_type": "code",
   "execution_count": 23,
   "id": "a1e551a3",
   "metadata": {
    "tags": []
   },
   "outputs": [],
   "source": [
    "#first retrieving the RPB binding site from .bed\n",
    "path = f'{datapath}processed/ENCODE-Sofia/'\n",
    "directory1 = os.listdir(path)\n",
    "\n",
    "\n",
    "for folder in directory1:  \n",
    "    current_folder = folder\n",
    "    directory2 = os.listdir(f\"{path}{folder}\")\n",
    "\n",
    "    for folder2 in directory2 :\n",
    "        directory3 = os.listdir(f\"{path}{folder}/{folder2}\")\n",
    "\n",
    "        for file in directory3 :\n",
    "            #this is just for positives, since negative 1 don't have to contain any RBP site  \n",
    "            if ('.bed' in file ) and  ('out' not in file) :\n",
    "                subprocess.run(f\"slopBed -i {path}{folder}/{folder2}/{file} \\\n",
    "                                    -g {datapath}hg38.genome -l -200 -r -200 \\\n",
    "                                    > {path}{folder}/{folder2}/{file}.out\", shell= True)\n",
    "\n",
    "\n"
   ]
  },
  {
   "cell_type": "code",
   "execution_count": 27,
   "id": "4da9ba85",
   "metadata": {
    "tags": []
   },
   "outputs": [],
   "source": [
    "#now I'm going to slop the coordinates randomly \n",
    "\n",
    "path = f'{datapath}processed/ENCODE-Sofia/'\n",
    "directory1 = os.listdir(path)\n",
    "\n",
    "\n",
    "for folder in directory1:   \n",
    "    current_folder = folder\n",
    "    directory2 = os.listdir(f\"{path}{folder}\")\n",
    "\n",
    "    for folder2 in directory2 :\n",
    "        directory3 = os.listdir(f\"{path}{folder}/{folder2}\")\n",
    "\n",
    "        for file in directory3 :\n",
    "        #considering the fact that negative 1 do not have to contain any RBP binding site \n",
    "            if ('.bed.out' in file ) and  ('slop' not in file) and ('miclip' not in file):\n",
    "                l,r = enc.random_l_r(399,2) #-l and -r should be randomized and their sum should be 400. \n",
    "                subprocess.run(f\"slopBed -i {path}{folder}/{folder2}/{file} \\\n",
    "                                        -g {datapath}hg38.genome -l {l} -r {r} \\\n",
    "                                        > {path}{folder}/{folder2}/{file}.slop.out\", shell= True)\n",
    "\n",
    "\n",
    "\n",
    "            if ('.bed.out' in file ) and ( 'negative' in file ) and  ('slop' not in file) and ('miclip' not in file):\n",
    "                for i in [0,1,2]: \n",
    "                    l,r = enc.random_l_r(399,2)            \n",
    "                    subprocess.run(f\"slopBed -i {path}{folder}/{folder2}/{file} \\\n",
    "                                            -g {datapath}hg38.genome -l {l} -r {r} \\\n",
    "                                            > {path}{folder}/{folder2}/{file}.slop.out{i}\", shell= True)\n",
    "                    subprocess.run(f'cat {path}{folder}/{folder2}/{file}.slop.out{i} \\\n",
    "                                        >> {path}{folder}/{folder2}/{file}.slop.out', shell = True)  #here merge the files into {path}/{folder}/{folder2}/{file}.slop.out\n",
    "                    subprocess.run(f'rm {path}{folder}/{folder2}/{file}.slop.out{i}', shell = True)\n",
    "                    "
   ]
  },
  {
   "cell_type": "code",
   "execution_count": 28,
   "id": "e9e4eeef",
   "metadata": {
    "tags": []
   },
   "outputs": [],
   "source": [
    "#now I have the slopped sequences, I'll check if the m6A site is included -- the file is very similar to miclip.filt.bed.out , the code is same\n",
    "#later to filter out out.slop.out.fasta file \n",
    "\n",
    "path = f'{datapath}processed/ENCODE-Sofia/'\n",
    "directory1 = os.listdir(path)\n",
    "\n",
    "for folder in directory1:\n",
    "    current_folder = folder\n",
    "    directory2 = os.listdir(f\"{path}{folder}\")\n",
    "\n",
    "    for folder2 in directory2 :\n",
    "        directory3 = os.listdir(f\"{path}{folder}/{folder2}\")\n",
    "\n",
    "        for file in directory3 :\n",
    "\n",
    "            if ('.out.slop.out' in file) and ('fasta' not in file) and ('miclip' not in file) :\n",
    "                subprocess.run(f\"bedtools intersect -wb \\\n",
    "                                        -a {datapath}miCLIP.filt.out.bed \\\n",
    "                                        -b {path}{folder}/{folder2}/{file} \\\n",
    "                                       > {path}{folder}/{folder2}/{file}.miclip.filt.bed.out\", shell= True)\n",
    "\n",
    "\n"
   ]
  },
  {
   "cell_type": "code",
   "execution_count": 34,
   "id": "b620b2b0",
   "metadata": {
    "tags": []
   },
   "outputs": [],
   "source": [
    "#now I have to convert the new sequences ( out.slop.out)  into fasta\n",
    "\n",
    "path = f'{datapath}processed/ENCODE-Sofia/'\n",
    "directory1 = os.listdir(path)\n",
    "\n",
    "\n",
    "for folder in directory1:\n",
    "    current_folder = folder\n",
    "    directory2 = os.listdir(f\"{path}{folder}\")\n",
    "\n",
    "    for folder2 in directory2 :\n",
    "        directory3 = os.listdir(f\"{path}{folder}/{folder2}\")\n",
    "\n",
    "        for file in directory3 :\n",
    "\n",
    "            if ('out.slop.out' in file) and ('.miclip.filt.bed' not in file) and ('fasta' not in file) :\n",
    "                subprocess.run(f\"bedtools getfasta -fi {datapath}GRCh38.primary_assembly.genome.fa \\\n",
    "                                            -bed {path}{folder}/{folder2}/{file} -fo \\\n",
    "                                            > {path}{folder}/{folder2}/{file}.fasta\", shell= True)\n",
    "\n",
    "                   \n"
   ]
  }
 ],
 "metadata": {
  "kernelspec": {
   "display_name": "Python 3 (ipykernel)",
   "language": "python",
   "name": "python3"
  },
  "language_info": {
   "codemirror_mode": {
    "name": "ipython",
    "version": 3
   },
   "file_extension": ".py",
   "mimetype": "text/x-python",
   "name": "python",
   "nbconvert_exporter": "python",
   "pygments_lexer": "ipython3",
   "version": "3.10.8"
  }
 },
 "nbformat": 4,
 "nbformat_minor": 5
}
