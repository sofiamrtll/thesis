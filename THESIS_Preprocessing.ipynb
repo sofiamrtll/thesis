{
 "cells": [
  {
   "cell_type": "markdown",
   "metadata": {},
   "source": [
    "# THESIS - Preprocessing \n"
   ]
  },
  {
   "cell_type": "markdown",
   "metadata": {},
   "source": [
    "Four datasets are going to be used : \n",
    "\n",
    "- RNA-seq for HEK293 cells (Sun et al) --> HEK  \n",
    "- RNA-seq for HepG2 (Wold, ENCODE) --> Hep \n",
    "- ENCODE eCLIP for protein-RNA interactions (Wold, ENCODE)\n",
    "- miCLIP for m6A modifications (HEK293 cells, Linder et al)\n",
    "\n",
    "Firstly, RNA-seq data is going to be filtered and combined in order to obtain a dataset which contains genes that are expressed in both HEK293 and HepG2 cell lines. \n"
   ]
  },
  {
   "cell_type": "markdown",
   "metadata": {},
   "source": [
    "During the preprocessing, dataframes are utilized and for this purpose, the pandas library is particularly effective. "
   ]
  },
  {
   "cell_type": "code",
   "execution_count": 1,
   "metadata": {
    "tags": []
   },
   "outputs": [],
   "source": [
    "import sys\n",
    "sys.path.append('/home/ubuntu/') #to be added to all notebooks"
   ]
  },
  {
   "cell_type": "code",
   "execution_count": 3,
   "metadata": {
    "tags": []
   },
   "outputs": [
    {
     "data": {
      "text/plain": [
       "'/home/ubuntu/scripts'"
      ]
     },
     "execution_count": 3,
     "metadata": {},
     "output_type": "execute_result"
    }
   ],
   "source": [
    "os.getcwd()"
   ]
  },
  {
   "cell_type": "code",
   "execution_count": 37,
   "metadata": {
    "tags": []
   },
   "outputs": [
    {
     "data": {
      "text/plain": [
       "<module 'src.filtering' from '/home/ubuntu/src/filtering.py'>"
      ]
     },
     "execution_count": 37,
     "metadata": {},
     "output_type": "execute_result"
    }
   ],
   "source": [
    "import os\n",
    "os.chdir('/home/ubuntu/')\n",
    "\n",
    "import importlib\n",
    "import src\n",
    "importlib.reload(src.filtering)"
   ]
  },
  {
   "cell_type": "code",
   "execution_count": 32,
   "metadata": {
    "tags": []
   },
   "outputs": [],
   "source": [
    "#imports\n",
    "import pandas as pd \n",
    "import numpy as np \n",
    "from pybedtools import BedTool\n",
    "import pybedtools\n",
    "#import pybiomart\n",
    "#import scanpy as sc\n",
    "import os , sys\n",
    "import time\n",
    "import numpy as np\n",
    "import matplotlib.pyplot as plt\n",
    "import seaborn as sns\n",
    "import src.filtering as flt\n",
    "\n",
    "#src.filtering."
   ]
  },
  {
   "cell_type": "code",
   "execution_count": 38,
   "metadata": {
    "tags": []
   },
   "outputs": [
    {
     "name": "stdout",
     "output_type": "stream",
     "text": [
      "['__doc__', '__file__', '__loader__', '__name__', '__package__', '__path__', '__spec__', 'filtering']\n"
     ]
    }
   ],
   "source": [
    "print(dir(src))"
   ]
  },
  {
   "cell_type": "markdown",
   "metadata": {},
   "source": [
    "# 1. The dataset RNA-seq for HEK293 cells (Sun et al)\n",
    "The dataset RNA-seq for HEK293 cells (Sun et al) is uploaded and the dataframe dfHek is produced. \n",
    "It is noticeable from the function len() that the number of elements contained is equal to 57905. \n",
    "It is necessary to eliminate the transcripts that are not expressed: the amount of elements after the stripping(?) is equal to 32396.   \n",
    "Notice that the two RNA-seq files have different genome versions, it is necesssary to lift one or the other, in order for them to be in the same version. This is going to be achieved by an R script and the use of the package useMart(): maybe copy the script here. \n",
    "I have decided to lift HEK293 to the version hg38/GRCh38 and I am going to use the lifted version for the comparison. \n"
   ]
  },
  {
   "cell_type": "code",
   "execution_count": 12,
   "metadata": {
    "tags": []
   },
   "outputs": [],
   "source": [
    "datapath = \"/mnt/data/\""
   ]
  },
  {
   "cell_type": "code",
   "execution_count": 13,
   "metadata": {
    "tags": []
   },
   "outputs": [],
   "source": [
    "dfHEK = pd.read_excel(f\"{datapath}HEK293.xlsx\")"
   ]
  },
  {
   "cell_type": "code",
   "execution_count": 14,
   "metadata": {
    "tags": []
   },
   "outputs": [
    {
     "data": {
      "text/plain": [
       "gene_id                                                 ENSG00000005955\n",
       "length                                                            45542\n",
       "HEK293NK-SEQ1                                                      3534\n",
       "HEK293NK-SEQ1_RPKM                                                 6.65\n",
       "HEK293NK-SEQ2                                                      3664\n",
       "HEK293NK-SEQ2_RPKM                                                 6.54\n",
       "HEK293NK-SEQ3                                                      4111\n",
       "HEK293NK-SEQ3_RPKM                                                 6.94\n",
       "HEK293-SEQ1                                                        3181\n",
       "HEK293-SEQ1_RPKM                                                   6.56\n",
       "HEK293-SEQ2                                                        3078\n",
       "HEK293-SEQ2_RPKM                                                    6.3\n",
       "HEK293-SEQ3                                                        3267\n",
       "HEK293-SEQ3_RPKM                                                    6.1\n",
       "GeneSymbol                                                       GGNBP2\n",
       "KO                                                               K01557\n",
       "GO                    cellular_component:nucleus(GO:0005634);cellula...\n",
       "Name: 22859, dtype: object"
      ]
     },
     "execution_count": 14,
     "metadata": {},
     "output_type": "execute_result"
    }
   ],
   "source": [
    "#check if the gene_id actually changed correctly: at position 22859 --> 'ENSG00000005955'\n",
    "dfHEK.loc[22859]"
   ]
  },
  {
   "cell_type": "code",
   "execution_count": 15,
   "metadata": {
    "tags": []
   },
   "outputs": [
    {
     "data": {
      "text/plain": [
       "57905"
      ]
     },
     "execution_count": 15,
     "metadata": {},
     "output_type": "execute_result"
    }
   ],
   "source": [
    "len(dfHEK)"
   ]
  },
  {
   "cell_type": "code",
   "execution_count": 16,
   "metadata": {
    "tags": []
   },
   "outputs": [
    {
     "data": {
      "text/plain": [
       "32396"
      ]
     },
     "execution_count": 16,
     "metadata": {},
     "output_type": "execute_result"
    }
   ],
   "source": [
    "#dropping transcripts without expression.\n",
    "dfHEK.columns = dfHEK.columns.str.replace('-', '_')\n",
    "dfHEK = dfHEK[(dfHEK.HEK293NK_SEQ1 != 0.00) | (dfHEK.HEK293NK_SEQ2 != 0.00)]\n",
    "len(dfHEK)"
   ]
  },
  {
   "cell_type": "code",
   "execution_count": 17,
   "metadata": {
    "tags": []
   },
   "outputs": [],
   "source": [
    "#R-scripts must be processed before this point"
   ]
  },
  {
   "cell_type": "code",
   "execution_count": 18,
   "metadata": {
    "tags": []
   },
   "outputs": [],
   "source": [
    "#producing a dictionary from the file 'inconsistenciesENSEMBL_noNaN', which was created using the R script \n",
    "dfVersion = pd.read_excel(f\"{datapath}inconsistenciesENSEMBL_noNaN.xlsx\", usecols = \"B, C\")\n",
    "\n",
    "dictionary = pd.Series(dfVersion['ensembl_gene_id.y'].values,index=dfVersion['ensembl_gene_id.x']).to_dict()\n",
    "\n",
    "#Problem: the dictionary has duplicates: for example ENSG00000257341 is linked both to 'ENSG00000257341' and 'ENSG00000213145'--> the fuction replace is \n",
    "#using the same ENSG00000257341, ignoring the other. "
   ]
  },
  {
   "cell_type": "code",
   "execution_count": 19,
   "metadata": {
    "tags": []
   },
   "outputs": [],
   "source": [
    "#just keep the lifted ids.--> will be just protein coding genes since we are using ccds as unique key.   \n",
    "#dfVersion = pd.read_excel(\"incostintenciesENSEMBL.xlsx\")\n",
    "dfHEK = dfHEK.replace({\"gene_id\": dictionary})"
   ]
  },
  {
   "cell_type": "code",
   "execution_count": 20,
   "metadata": {
    "tags": []
   },
   "outputs": [
    {
     "data": {
      "text/plain": [
       "gene_id                                                 ENSG00000278311\n",
       "length                                                            45542\n",
       "HEK293NK_SEQ1                                                      3534\n",
       "HEK293NK_SEQ1_RPKM                                                 6.65\n",
       "HEK293NK_SEQ2                                                      3664\n",
       "HEK293NK_SEQ2_RPKM                                                 6.54\n",
       "HEK293NK_SEQ3                                                      4111\n",
       "HEK293NK_SEQ3_RPKM                                                 6.94\n",
       "HEK293_SEQ1                                                        3181\n",
       "HEK293_SEQ1_RPKM                                                   6.56\n",
       "HEK293_SEQ2                                                        3078\n",
       "HEK293_SEQ2_RPKM                                                    6.3\n",
       "HEK293_SEQ3                                                        3267\n",
       "HEK293_SEQ3_RPKM                                                    6.1\n",
       "GeneSymbol                                                       GGNBP2\n",
       "KO                                                               K01557\n",
       "GO                    cellular_component:nucleus(GO:0005634);cellula...\n",
       "Name: 22859, dtype: object"
      ]
     },
     "execution_count": 20,
     "metadata": {},
     "output_type": "execute_result"
    }
   ],
   "source": [
    "#check if the gene_id actually changed correctly: at position 22859 --> 'ENSG00000278311' --> it's right \n",
    "dfHEK.loc[22859]"
   ]
  },
  {
   "cell_type": "code",
   "execution_count": 21,
   "metadata": {
    "tags": []
   },
   "outputs": [
    {
     "data": {
      "text/html": [
       "<div>\n",
       "<style scoped>\n",
       "    .dataframe tbody tr th:only-of-type {\n",
       "        vertical-align: middle;\n",
       "    }\n",
       "\n",
       "    .dataframe tbody tr th {\n",
       "        vertical-align: top;\n",
       "    }\n",
       "\n",
       "    .dataframe thead th {\n",
       "        text-align: right;\n",
       "    }\n",
       "</style>\n",
       "<table border=\"1\" class=\"dataframe\">\n",
       "  <thead>\n",
       "    <tr style=\"text-align: right;\">\n",
       "      <th></th>\n",
       "      <th>gene_id</th>\n",
       "      <th>length</th>\n",
       "      <th>HEK293NK_SEQ1</th>\n",
       "      <th>HEK293NK_SEQ1_RPKM</th>\n",
       "      <th>HEK293NK_SEQ2</th>\n",
       "      <th>HEK293NK_SEQ2_RPKM</th>\n",
       "      <th>HEK293NK_SEQ3</th>\n",
       "      <th>HEK293NK_SEQ3_RPKM</th>\n",
       "      <th>HEK293_SEQ1</th>\n",
       "      <th>HEK293_SEQ1_RPKM</th>\n",
       "      <th>HEK293_SEQ2</th>\n",
       "      <th>HEK293_SEQ2_RPKM</th>\n",
       "      <th>HEK293_SEQ3</th>\n",
       "      <th>HEK293_SEQ3_RPKM</th>\n",
       "      <th>GeneSymbol</th>\n",
       "      <th>KO</th>\n",
       "      <th>GO</th>\n",
       "    </tr>\n",
       "  </thead>\n",
       "  <tbody>\n",
       "    <tr>\n",
       "      <th>1</th>\n",
       "      <td>ENSG00000227232</td>\n",
       "      <td>15444</td>\n",
       "      <td>705</td>\n",
       "      <td>4.77</td>\n",
       "      <td>812</td>\n",
       "      <td>5.21</td>\n",
       "      <td>1121</td>\n",
       "      <td>6.80</td>\n",
       "      <td>732</td>\n",
       "      <td>5.43</td>\n",
       "      <td>690</td>\n",
       "      <td>5.07</td>\n",
       "      <td>804</td>\n",
       "      <td>5.39</td>\n",
       "      <td>WASH7P</td>\n",
       "      <td>K18461</td>\n",
       "      <td>_</td>\n",
       "    </tr>\n",
       "    <tr>\n",
       "      <th>7</th>\n",
       "      <td>ENSG00000238009</td>\n",
       "      <td>44272</td>\n",
       "      <td>1</td>\n",
       "      <td>0.01</td>\n",
       "      <td>2</td>\n",
       "      <td>0.01</td>\n",
       "      <td>0</td>\n",
       "      <td>0.00</td>\n",
       "      <td>1</td>\n",
       "      <td>0.01</td>\n",
       "      <td>3</td>\n",
       "      <td>0.02</td>\n",
       "      <td>1</td>\n",
       "      <td>0.01</td>\n",
       "      <td>RP11-34P13.7</td>\n",
       "      <td>_</td>\n",
       "      <td>_</td>\n",
       "    </tr>\n",
       "    <tr>\n",
       "      <th>9</th>\n",
       "      <td>ENSG00000233750</td>\n",
       "      <td>3812</td>\n",
       "      <td>1</td>\n",
       "      <td>0.01</td>\n",
       "      <td>0</td>\n",
       "      <td>0.00</td>\n",
       "      <td>0</td>\n",
       "      <td>0.00</td>\n",
       "      <td>0</td>\n",
       "      <td>0.00</td>\n",
       "      <td>0</td>\n",
       "      <td>0.00</td>\n",
       "      <td>1</td>\n",
       "      <td>0.01</td>\n",
       "      <td>CICP27</td>\n",
       "      <td>K12581</td>\n",
       "      <td>_</td>\n",
       "    </tr>\n",
       "    <tr>\n",
       "      <th>10</th>\n",
       "      <td>ENSG00000237683</td>\n",
       "      <td>4479</td>\n",
       "      <td>4</td>\n",
       "      <td>0.04</td>\n",
       "      <td>10</td>\n",
       "      <td>0.09</td>\n",
       "      <td>7</td>\n",
       "      <td>0.06</td>\n",
       "      <td>9</td>\n",
       "      <td>0.09</td>\n",
       "      <td>12</td>\n",
       "      <td>0.12</td>\n",
       "      <td>11</td>\n",
       "      <td>0.10</td>\n",
       "      <td>AL627309.1</td>\n",
       "      <td>_</td>\n",
       "      <td>_</td>\n",
       "    </tr>\n",
       "    <tr>\n",
       "      <th>14</th>\n",
       "      <td>ENSG00000241860</td>\n",
       "      <td>32389</td>\n",
       "      <td>13</td>\n",
       "      <td>0.05</td>\n",
       "      <td>4</td>\n",
       "      <td>0.01</td>\n",
       "      <td>2</td>\n",
       "      <td>0.01</td>\n",
       "      <td>14</td>\n",
       "      <td>0.06</td>\n",
       "      <td>6</td>\n",
       "      <td>0.02</td>\n",
       "      <td>2</td>\n",
       "      <td>0.01</td>\n",
       "      <td>RP11-34P13.13</td>\n",
       "      <td>_</td>\n",
       "      <td>_</td>\n",
       "    </tr>\n",
       "    <tr>\n",
       "      <th>...</th>\n",
       "      <td>...</td>\n",
       "      <td>...</td>\n",
       "      <td>...</td>\n",
       "      <td>...</td>\n",
       "      <td>...</td>\n",
       "      <td>...</td>\n",
       "      <td>...</td>\n",
       "      <td>...</td>\n",
       "      <td>...</td>\n",
       "      <td>...</td>\n",
       "      <td>...</td>\n",
       "      <td>...</td>\n",
       "      <td>...</td>\n",
       "      <td>...</td>\n",
       "      <td>...</td>\n",
       "      <td>...</td>\n",
       "      <td>...</td>\n",
       "    </tr>\n",
       "    <tr>\n",
       "      <th>57433</th>\n",
       "      <td>ENSG00000231341</td>\n",
       "      <td>855</td>\n",
       "      <td>2</td>\n",
       "      <td>0.06</td>\n",
       "      <td>1</td>\n",
       "      <td>0.03</td>\n",
       "      <td>2</td>\n",
       "      <td>0.05</td>\n",
       "      <td>0</td>\n",
       "      <td>0.00</td>\n",
       "      <td>1</td>\n",
       "      <td>0.03</td>\n",
       "      <td>1</td>\n",
       "      <td>0.03</td>\n",
       "      <td>VDAC1P6</td>\n",
       "      <td>K05862</td>\n",
       "      <td>_</td>\n",
       "    </tr>\n",
       "    <tr>\n",
       "      <th>57434</th>\n",
       "      <td>ENSG00000235001</td>\n",
       "      <td>1220</td>\n",
       "      <td>19</td>\n",
       "      <td>0.19</td>\n",
       "      <td>7</td>\n",
       "      <td>0.07</td>\n",
       "      <td>12</td>\n",
       "      <td>0.11</td>\n",
       "      <td>8</td>\n",
       "      <td>0.09</td>\n",
       "      <td>9</td>\n",
       "      <td>0.10</td>\n",
       "      <td>8</td>\n",
       "      <td>0.08</td>\n",
       "      <td>EIF4A1P2</td>\n",
       "      <td>K03257</td>\n",
       "      <td>_</td>\n",
       "    </tr>\n",
       "    <tr>\n",
       "      <th>57589</th>\n",
       "      <td>ENSG00000215414</td>\n",
       "      <td>741</td>\n",
       "      <td>17</td>\n",
       "      <td>0.29</td>\n",
       "      <td>9</td>\n",
       "      <td>0.14</td>\n",
       "      <td>17</td>\n",
       "      <td>0.26</td>\n",
       "      <td>8</td>\n",
       "      <td>0.15</td>\n",
       "      <td>10</td>\n",
       "      <td>0.18</td>\n",
       "      <td>10</td>\n",
       "      <td>0.17</td>\n",
       "      <td>PSMA6P1</td>\n",
       "      <td>K02730</td>\n",
       "      <td>_</td>\n",
       "    </tr>\n",
       "    <tr>\n",
       "      <th>57691</th>\n",
       "      <td>ENSG00000185275</td>\n",
       "      <td>243</td>\n",
       "      <td>636</td>\n",
       "      <td>64.62</td>\n",
       "      <td>682</td>\n",
       "      <td>65.72</td>\n",
       "      <td>317</td>\n",
       "      <td>28.92</td>\n",
       "      <td>361</td>\n",
       "      <td>40.24</td>\n",
       "      <td>394</td>\n",
       "      <td>43.54</td>\n",
       "      <td>355</td>\n",
       "      <td>35.78</td>\n",
       "      <td>CD24P4</td>\n",
       "      <td>K06469</td>\n",
       "      <td>_</td>\n",
       "    </tr>\n",
       "    <tr>\n",
       "      <th>57858</th>\n",
       "      <td>ENSG00000197092</td>\n",
       "      <td>6308</td>\n",
       "      <td>1</td>\n",
       "      <td>0.02</td>\n",
       "      <td>0</td>\n",
       "      <td>0.00</td>\n",
       "      <td>0</td>\n",
       "      <td>0.00</td>\n",
       "      <td>0</td>\n",
       "      <td>0.00</td>\n",
       "      <td>0</td>\n",
       "      <td>0.00</td>\n",
       "      <td>0</td>\n",
       "      <td>0.00</td>\n",
       "      <td>GOLGA6L16P</td>\n",
       "      <td>K10595</td>\n",
       "      <td>_</td>\n",
       "    </tr>\n",
       "  </tbody>\n",
       "</table>\n",
       "<p>32396 rows × 17 columns</p>\n",
       "</div>"
      ],
      "text/plain": [
       "               gene_id  length  HEK293NK_SEQ1  HEK293NK_SEQ1_RPKM   \n",
       "1      ENSG00000227232   15444            705                4.77  \\\n",
       "7      ENSG00000238009   44272              1                0.01   \n",
       "9      ENSG00000233750    3812              1                0.01   \n",
       "10     ENSG00000237683    4479              4                0.04   \n",
       "14     ENSG00000241860   32389             13                0.05   \n",
       "...                ...     ...            ...                 ...   \n",
       "57433  ENSG00000231341     855              2                0.06   \n",
       "57434  ENSG00000235001    1220             19                0.19   \n",
       "57589  ENSG00000215414     741             17                0.29   \n",
       "57691  ENSG00000185275     243            636               64.62   \n",
       "57858  ENSG00000197092    6308              1                0.02   \n",
       "\n",
       "       HEK293NK_SEQ2  HEK293NK_SEQ2_RPKM  HEK293NK_SEQ3  HEK293NK_SEQ3_RPKM   \n",
       "1                812                5.21           1121                6.80  \\\n",
       "7                  2                0.01              0                0.00   \n",
       "9                  0                0.00              0                0.00   \n",
       "10                10                0.09              7                0.06   \n",
       "14                 4                0.01              2                0.01   \n",
       "...              ...                 ...            ...                 ...   \n",
       "57433              1                0.03              2                0.05   \n",
       "57434              7                0.07             12                0.11   \n",
       "57589              9                0.14             17                0.26   \n",
       "57691            682               65.72            317               28.92   \n",
       "57858              0                0.00              0                0.00   \n",
       "\n",
       "       HEK293_SEQ1  HEK293_SEQ1_RPKM  HEK293_SEQ2  HEK293_SEQ2_RPKM   \n",
       "1              732              5.43          690              5.07  \\\n",
       "7                1              0.01            3              0.02   \n",
       "9                0              0.00            0              0.00   \n",
       "10               9              0.09           12              0.12   \n",
       "14              14              0.06            6              0.02   \n",
       "...            ...               ...          ...               ...   \n",
       "57433            0              0.00            1              0.03   \n",
       "57434            8              0.09            9              0.10   \n",
       "57589            8              0.15           10              0.18   \n",
       "57691          361             40.24          394             43.54   \n",
       "57858            0              0.00            0              0.00   \n",
       "\n",
       "       HEK293_SEQ3  HEK293_SEQ3_RPKM     GeneSymbol      KO GO  \n",
       "1              804              5.39         WASH7P  K18461  _  \n",
       "7                1              0.01   RP11-34P13.7       _  _  \n",
       "9                1              0.01         CICP27  K12581  _  \n",
       "10              11              0.10     AL627309.1       _  _  \n",
       "14               2              0.01  RP11-34P13.13       _  _  \n",
       "...            ...               ...            ...     ... ..  \n",
       "57433            1              0.03        VDAC1P6  K05862  _  \n",
       "57434            8              0.08       EIF4A1P2  K03257  _  \n",
       "57589           10              0.17        PSMA6P1  K02730  _  \n",
       "57691          355             35.78         CD24P4  K06469  _  \n",
       "57858            0              0.00     GOLGA6L16P  K10595  _  \n",
       "\n",
       "[32396 rows x 17 columns]"
      ]
     },
     "execution_count": 21,
     "metadata": {},
     "output_type": "execute_result"
    }
   ],
   "source": [
    "#dataframe without unexpressed genes and with genome version hg38 \n",
    "dfHEK\n"
   ]
  },
  {
   "cell_type": "markdown",
   "metadata": {},
   "source": [
    "'''tried to imput in the R script just the expressed genes but the problem persists: \n",
    "the actual length of the gene_id column in HEK293 is 57 905 (32396 now )but \n",
    "once the merge function is applied in the script, only 29 285 elements are kept. \n",
    "NB: out37 and out38 are containing 29 107 and 28 126 CCDS respectively, \n",
    "which means that not all of the gene_ids contained in the file HEK293 have a corresponding CCDS in Mart37 or 38. \n",
    "I have checked for duplicates in HEK293 and there are just 2. \n",
    "The problem must be related to the number of CCDS.\n",
    "'The Consensus CDS (CCDS) project is a collaborative effort to identify a core set of human and mouse protein CODING REGIONS \n",
    "that are consistently annotated and of high quality. \n",
    "The long term goal is to support convergence towards a standard set of gene annotations.[https://www.ncbi.nlm.nih.gov/projects/CCDS/CcdsBrowse.cgi]''''\n",
    "\n"
   ]
  },
  {
   "cell_type": "markdown",
   "metadata": {},
   "source": [
    "# 2. The dataset RNA-seq for HepG2 (Wold, ENCODE)\n",
    "The dataset RNA-seq for HepG2 (Wold, ENCODE) is uploaded and the dataframe dfHep is produced. The dataset is processed analogously, removing non-expressed transcripts. In this case the original number of values is 207507, whereas the elements after the elimination correspond to 96044 gene identifiers. (?)  \n",
    "PS: SEEMS LIKE gene_ids ARE NOT ONLY IN THE FORMAT ENSEMBL, IS THIS A PROBLEM? --> no\n"
   ]
  },
  {
   "cell_type": "code",
   "execution_count": 22,
   "metadata": {
    "tags": []
   },
   "outputs": [
    {
     "name": "stdout",
     "output_type": "stream",
     "text": [
      "207507\n"
     ]
    },
    {
     "data": {
      "text/html": [
       "<div>\n",
       "<style scoped>\n",
       "    .dataframe tbody tr th:only-of-type {\n",
       "        vertical-align: middle;\n",
       "    }\n",
       "\n",
       "    .dataframe tbody tr th {\n",
       "        vertical-align: top;\n",
       "    }\n",
       "\n",
       "    .dataframe thead th {\n",
       "        text-align: right;\n",
       "    }\n",
       "</style>\n",
       "<table border=\"1\" class=\"dataframe\">\n",
       "  <thead>\n",
       "    <tr style=\"text-align: right;\">\n",
       "      <th></th>\n",
       "      <th>transcript_id</th>\n",
       "      <th>gene_id</th>\n",
       "      <th>length</th>\n",
       "      <th>effective_length</th>\n",
       "      <th>expected_count</th>\n",
       "      <th>TPM</th>\n",
       "      <th>FPKM</th>\n",
       "      <th>IsoPct</th>\n",
       "      <th>posterior_mean_count</th>\n",
       "      <th>posterior_standard_deviation_of_count</th>\n",
       "      <th>pme_TPM</th>\n",
       "      <th>pme_FPKM</th>\n",
       "      <th>IsoPct_from_pme_TPM</th>\n",
       "      <th>TPM_ci_lower_bound</th>\n",
       "      <th>TPM_ci_upper_bound</th>\n",
       "      <th>TPM_coefficient_of_quartile_variation</th>\n",
       "      <th>FPKM_ci_lower_bound</th>\n",
       "      <th>FPKM_ci_upper_bound</th>\n",
       "      <th>FPKM_coefficient_of_quartile_variation</th>\n",
       "    </tr>\n",
       "  </thead>\n",
       "  <tbody>\n",
       "    <tr>\n",
       "      <th>0</th>\n",
       "      <td>10904</td>\n",
       "      <td>10904</td>\n",
       "      <td>93</td>\n",
       "      <td>0</td>\n",
       "      <td>0.0</td>\n",
       "      <td>0.00</td>\n",
       "      <td>0.00</td>\n",
       "      <td>0.0</td>\n",
       "      <td>0.0</td>\n",
       "      <td>0.0</td>\n",
       "      <td>0.00</td>\n",
       "      <td>0.00</td>\n",
       "      <td>0.0</td>\n",
       "      <td>0.000000</td>\n",
       "      <td>0.000000</td>\n",
       "      <td>0.000000</td>\n",
       "      <td>0.000000</td>\n",
       "      <td>0.000000</td>\n",
       "      <td>0.000000</td>\n",
       "    </tr>\n",
       "    <tr>\n",
       "      <th>1</th>\n",
       "      <td>12954</td>\n",
       "      <td>12954</td>\n",
       "      <td>94</td>\n",
       "      <td>0</td>\n",
       "      <td>0.0</td>\n",
       "      <td>0.00</td>\n",
       "      <td>0.00</td>\n",
       "      <td>0.0</td>\n",
       "      <td>0.0</td>\n",
       "      <td>0.0</td>\n",
       "      <td>0.00</td>\n",
       "      <td>0.00</td>\n",
       "      <td>0.0</td>\n",
       "      <td>0.000000</td>\n",
       "      <td>0.000000</td>\n",
       "      <td>0.000000</td>\n",
       "      <td>0.000000</td>\n",
       "      <td>0.000000</td>\n",
       "      <td>0.000000</td>\n",
       "    </tr>\n",
       "    <tr>\n",
       "      <th>2</th>\n",
       "      <td>12956</td>\n",
       "      <td>12956</td>\n",
       "      <td>72</td>\n",
       "      <td>0</td>\n",
       "      <td>0.0</td>\n",
       "      <td>0.00</td>\n",
       "      <td>0.00</td>\n",
       "      <td>0.0</td>\n",
       "      <td>0.0</td>\n",
       "      <td>0.0</td>\n",
       "      <td>0.00</td>\n",
       "      <td>0.00</td>\n",
       "      <td>0.0</td>\n",
       "      <td>0.000000</td>\n",
       "      <td>0.000000</td>\n",
       "      <td>0.000000</td>\n",
       "      <td>0.000000</td>\n",
       "      <td>0.000000</td>\n",
       "      <td>0.000000</td>\n",
       "    </tr>\n",
       "    <tr>\n",
       "      <th>3</th>\n",
       "      <td>12958</td>\n",
       "      <td>12958</td>\n",
       "      <td>82</td>\n",
       "      <td>0</td>\n",
       "      <td>0.0</td>\n",
       "      <td>0.00</td>\n",
       "      <td>0.00</td>\n",
       "      <td>0.0</td>\n",
       "      <td>0.0</td>\n",
       "      <td>0.0</td>\n",
       "      <td>0.00</td>\n",
       "      <td>0.00</td>\n",
       "      <td>0.0</td>\n",
       "      <td>0.000000</td>\n",
       "      <td>0.000000</td>\n",
       "      <td>0.000000</td>\n",
       "      <td>0.000000</td>\n",
       "      <td>0.000000</td>\n",
       "      <td>0.000000</td>\n",
       "    </tr>\n",
       "    <tr>\n",
       "      <th>4</th>\n",
       "      <td>12960</td>\n",
       "      <td>12960</td>\n",
       "      <td>73</td>\n",
       "      <td>0</td>\n",
       "      <td>0.0</td>\n",
       "      <td>0.00</td>\n",
       "      <td>0.00</td>\n",
       "      <td>0.0</td>\n",
       "      <td>0.0</td>\n",
       "      <td>0.0</td>\n",
       "      <td>0.00</td>\n",
       "      <td>0.00</td>\n",
       "      <td>0.0</td>\n",
       "      <td>0.000000</td>\n",
       "      <td>0.000000</td>\n",
       "      <td>0.000000</td>\n",
       "      <td>0.000000</td>\n",
       "      <td>0.000000</td>\n",
       "      <td>0.000000</td>\n",
       "    </tr>\n",
       "    <tr>\n",
       "      <th>...</th>\n",
       "      <td>...</td>\n",
       "      <td>...</td>\n",
       "      <td>...</td>\n",
       "      <td>...</td>\n",
       "      <td>...</td>\n",
       "      <td>...</td>\n",
       "      <td>...</td>\n",
       "      <td>...</td>\n",
       "      <td>...</td>\n",
       "      <td>...</td>\n",
       "      <td>...</td>\n",
       "      <td>...</td>\n",
       "      <td>...</td>\n",
       "      <td>...</td>\n",
       "      <td>...</td>\n",
       "      <td>...</td>\n",
       "      <td>...</td>\n",
       "      <td>...</td>\n",
       "      <td>...</td>\n",
       "    </tr>\n",
       "    <tr>\n",
       "      <th>207502</th>\n",
       "      <td>tSpikein_ERCC-00165</td>\n",
       "      <td>gSpikein_ERCC-00165</td>\n",
       "      <td>872</td>\n",
       "      <td>773</td>\n",
       "      <td>182.0</td>\n",
       "      <td>4.79</td>\n",
       "      <td>5.10</td>\n",
       "      <td>100.0</td>\n",
       "      <td>182.0</td>\n",
       "      <td>0.0</td>\n",
       "      <td>4.70</td>\n",
       "      <td>5.11</td>\n",
       "      <td>100.0</td>\n",
       "      <td>4.027980</td>\n",
       "      <td>5.379590</td>\n",
       "      <td>0.049978</td>\n",
       "      <td>4.379740</td>\n",
       "      <td>5.849960</td>\n",
       "      <td>0.049976</td>\n",
       "    </tr>\n",
       "    <tr>\n",
       "      <th>207503</th>\n",
       "      <td>tSpikein_ERCC-00168</td>\n",
       "      <td>gSpikein_ERCC-00168</td>\n",
       "      <td>1024</td>\n",
       "      <td>925</td>\n",
       "      <td>1.0</td>\n",
       "      <td>0.02</td>\n",
       "      <td>0.02</td>\n",
       "      <td>100.0</td>\n",
       "      <td>1.0</td>\n",
       "      <td>0.0</td>\n",
       "      <td>0.04</td>\n",
       "      <td>0.05</td>\n",
       "      <td>100.0</td>\n",
       "      <td>0.001247</td>\n",
       "      <td>0.102962</td>\n",
       "      <td>0.475355</td>\n",
       "      <td>0.001355</td>\n",
       "      <td>0.111972</td>\n",
       "      <td>0.475281</td>\n",
       "    </tr>\n",
       "    <tr>\n",
       "      <th>207504</th>\n",
       "      <td>tSpikein_ERCC-00170</td>\n",
       "      <td>gSpikein_ERCC-00170</td>\n",
       "      <td>1023</td>\n",
       "      <td>924</td>\n",
       "      <td>68.0</td>\n",
       "      <td>1.50</td>\n",
       "      <td>1.60</td>\n",
       "      <td>100.0</td>\n",
       "      <td>68.0</td>\n",
       "      <td>0.0</td>\n",
       "      <td>1.48</td>\n",
       "      <td>1.61</td>\n",
       "      <td>100.0</td>\n",
       "      <td>1.146680</td>\n",
       "      <td>1.843870</td>\n",
       "      <td>0.080920</td>\n",
       "      <td>1.243590</td>\n",
       "      <td>2.001790</td>\n",
       "      <td>0.080810</td>\n",
       "    </tr>\n",
       "    <tr>\n",
       "      <th>207505</th>\n",
       "      <td>tSpikein_ERCC-00171</td>\n",
       "      <td>gSpikein_ERCC-00171</td>\n",
       "      <td>505</td>\n",
       "      <td>406</td>\n",
       "      <td>7125.0</td>\n",
       "      <td>357.14</td>\n",
       "      <td>380.37</td>\n",
       "      <td>100.0</td>\n",
       "      <td>7125.0</td>\n",
       "      <td>0.0</td>\n",
       "      <td>348.37</td>\n",
       "      <td>378.75</td>\n",
       "      <td>100.0</td>\n",
       "      <td>340.237000</td>\n",
       "      <td>356.454000</td>\n",
       "      <td>0.007965</td>\n",
       "      <td>370.223000</td>\n",
       "      <td>387.840000</td>\n",
       "      <td>0.007956</td>\n",
       "    </tr>\n",
       "    <tr>\n",
       "      <th>207506</th>\n",
       "      <td>tSpikein_phiX174</td>\n",
       "      <td>gSpikein_phiX174</td>\n",
       "      <td>5386</td>\n",
       "      <td>5287</td>\n",
       "      <td>1.0</td>\n",
       "      <td>0.00</td>\n",
       "      <td>0.00</td>\n",
       "      <td>100.0</td>\n",
       "      <td>1.0</td>\n",
       "      <td>0.0</td>\n",
       "      <td>0.01</td>\n",
       "      <td>0.01</td>\n",
       "      <td>100.0</td>\n",
       "      <td>0.000219</td>\n",
       "      <td>0.018031</td>\n",
       "      <td>0.477274</td>\n",
       "      <td>0.000229</td>\n",
       "      <td>0.019598</td>\n",
       "      <td>0.477199</td>\n",
       "    </tr>\n",
       "  </tbody>\n",
       "</table>\n",
       "<p>207507 rows × 19 columns</p>\n",
       "</div>"
      ],
      "text/plain": [
       "              transcript_id              gene_id  length  effective_length   \n",
       "0                     10904                10904      93                 0  \\\n",
       "1                     12954                12954      94                 0   \n",
       "2                     12956                12956      72                 0   \n",
       "3                     12958                12958      82                 0   \n",
       "4                     12960                12960      73                 0   \n",
       "...                     ...                  ...     ...               ...   \n",
       "207502  tSpikein_ERCC-00165  gSpikein_ERCC-00165     872               773   \n",
       "207503  tSpikein_ERCC-00168  gSpikein_ERCC-00168    1024               925   \n",
       "207504  tSpikein_ERCC-00170  gSpikein_ERCC-00170    1023               924   \n",
       "207505  tSpikein_ERCC-00171  gSpikein_ERCC-00171     505               406   \n",
       "207506     tSpikein_phiX174     gSpikein_phiX174    5386              5287   \n",
       "\n",
       "        expected_count     TPM    FPKM  IsoPct  posterior_mean_count   \n",
       "0                  0.0    0.00    0.00     0.0                   0.0  \\\n",
       "1                  0.0    0.00    0.00     0.0                   0.0   \n",
       "2                  0.0    0.00    0.00     0.0                   0.0   \n",
       "3                  0.0    0.00    0.00     0.0                   0.0   \n",
       "4                  0.0    0.00    0.00     0.0                   0.0   \n",
       "...                ...     ...     ...     ...                   ...   \n",
       "207502           182.0    4.79    5.10   100.0                 182.0   \n",
       "207503             1.0    0.02    0.02   100.0                   1.0   \n",
       "207504            68.0    1.50    1.60   100.0                  68.0   \n",
       "207505          7125.0  357.14  380.37   100.0                7125.0   \n",
       "207506             1.0    0.00    0.00   100.0                   1.0   \n",
       "\n",
       "        posterior_standard_deviation_of_count  pme_TPM  pme_FPKM   \n",
       "0                                         0.0     0.00      0.00  \\\n",
       "1                                         0.0     0.00      0.00   \n",
       "2                                         0.0     0.00      0.00   \n",
       "3                                         0.0     0.00      0.00   \n",
       "4                                         0.0     0.00      0.00   \n",
       "...                                       ...      ...       ...   \n",
       "207502                                    0.0     4.70      5.11   \n",
       "207503                                    0.0     0.04      0.05   \n",
       "207504                                    0.0     1.48      1.61   \n",
       "207505                                    0.0   348.37    378.75   \n",
       "207506                                    0.0     0.01      0.01   \n",
       "\n",
       "        IsoPct_from_pme_TPM  TPM_ci_lower_bound  TPM_ci_upper_bound   \n",
       "0                       0.0            0.000000            0.000000  \\\n",
       "1                       0.0            0.000000            0.000000   \n",
       "2                       0.0            0.000000            0.000000   \n",
       "3                       0.0            0.000000            0.000000   \n",
       "4                       0.0            0.000000            0.000000   \n",
       "...                     ...                 ...                 ...   \n",
       "207502                100.0            4.027980            5.379590   \n",
       "207503                100.0            0.001247            0.102962   \n",
       "207504                100.0            1.146680            1.843870   \n",
       "207505                100.0          340.237000          356.454000   \n",
       "207506                100.0            0.000219            0.018031   \n",
       "\n",
       "        TPM_coefficient_of_quartile_variation  FPKM_ci_lower_bound   \n",
       "0                                    0.000000             0.000000  \\\n",
       "1                                    0.000000             0.000000   \n",
       "2                                    0.000000             0.000000   \n",
       "3                                    0.000000             0.000000   \n",
       "4                                    0.000000             0.000000   \n",
       "...                                       ...                  ...   \n",
       "207502                               0.049978             4.379740   \n",
       "207503                               0.475355             0.001355   \n",
       "207504                               0.080920             1.243590   \n",
       "207505                               0.007965           370.223000   \n",
       "207506                               0.477274             0.000229   \n",
       "\n",
       "        FPKM_ci_upper_bound  FPKM_coefficient_of_quartile_variation  \n",
       "0                  0.000000                                0.000000  \n",
       "1                  0.000000                                0.000000  \n",
       "2                  0.000000                                0.000000  \n",
       "3                  0.000000                                0.000000  \n",
       "4                  0.000000                                0.000000  \n",
       "...                     ...                                     ...  \n",
       "207502             5.849960                                0.049976  \n",
       "207503             0.111972                                0.475281  \n",
       "207504             2.001790                                0.080810  \n",
       "207505           387.840000                                0.007956  \n",
       "207506             0.019598                                0.477199  \n",
       "\n",
       "[207507 rows x 19 columns]"
      ]
     },
     "execution_count": 22,
     "metadata": {},
     "output_type": "execute_result"
    }
   ],
   "source": [
    "dfHep = pd.read_excel(f\"{datapath}HepG2.xlsx\")\n",
    "print(len(dfHep))\n",
    "dfHep"
   ]
  },
  {
   "cell_type": "code",
   "execution_count": 23,
   "metadata": {
    "tags": []
   },
   "outputs": [
    {
     "data": {
      "text/plain": [
       "96044"
      ]
     },
     "execution_count": 23,
     "metadata": {},
     "output_type": "execute_result"
    }
   ],
   "source": [
    "#dropping all transcripts that are not expressed \n",
    "dfHep = dfHep[dfHep.TPM != 0.00]\n",
    "len(dfHep)\n",
    "#check the shape of the set"
   ]
  },
  {
   "cell_type": "markdown",
   "metadata": {},
   "source": [
    "# 3. Identify an intersection of genes expressed in HEK293 and HepG2 cell lines \n",
    "The objective is to consider the RNA-seq datasets comparing the genes that are expressed in both cell lines. \n",
    "For this reason, it is crucial to observe the gene_ids formats in the two examples and ensure their compatibility. \n",
    "In this very case, the identifiers contained in the dataset HepG2 are complemented with the model's version, which is not specified in HEK293: it is essential to level out these conceptual differences..   "
   ]
  },
  {
   "cell_type": "code",
   "execution_count": 24,
   "metadata": {
    "tags": []
   },
   "outputs": [
    {
     "name": "stderr",
     "output_type": "stream",
     "text": [
      "/tmp/ipykernel_406771/1669813914.py:2: SettingWithCopyWarning: \n",
      "A value is trying to be set on a copy of a slice from a DataFrame.\n",
      "Try using .loc[row_indexer,col_indexer] = value instead\n",
      "\n",
      "See the caveats in the documentation: https://pandas.pydata.org/pandas-docs/stable/user_guide/indexing.html#returning-a-view-versus-a-copy\n",
      "  dfHep['gene_id_new'] = dfHep['gene_id']\n",
      "/tmp/ipykernel_406771/1669813914.py:5: SettingWithCopyWarning: \n",
      "A value is trying to be set on a copy of a slice from a DataFrame.\n",
      "Try using .loc[row_indexer,col_indexer] = value instead\n",
      "\n",
      "See the caveats in the documentation: https://pandas.pydata.org/pandas-docs/stable/user_guide/indexing.html#returning-a-view-versus-a-copy\n",
      "  dfHep['gene_id_new']= dfHep.gene_id_new.str.split('.').str[0]\n"
     ]
    }
   ],
   "source": [
    "#duplicating gene_id to manipulate it\n",
    "dfHep['gene_id_new'] = dfHep['gene_id']\n",
    "\n",
    "#for the comparison, since in dfHep there are more detailed gene_ids containing also the version of the model, I have decided to remove the last part of the id. \n",
    "dfHep['gene_id_new']= dfHep.gene_id_new.str.split('.').str[0]"
   ]
  },
  {
   "cell_type": "markdown",
   "metadata": {},
   "source": [
    "The two sets are prepared to be intersected : the final intersection comprises of 20875 [14474] --> 20953 elements.  "
   ]
  },
  {
   "cell_type": "code",
   "execution_count": 25,
   "metadata": {
    "tags": []
   },
   "outputs": [
    {
     "data": {
      "text/plain": [
       "20954"
      ]
     },
     "execution_count": 25,
     "metadata": {},
     "output_type": "execute_result"
    }
   ],
   "source": [
    "#intersecting the two columns so that in set3 there are just the ids in common \n",
    "listHEK = dfHEK['gene_id'].to_list() \n",
    "listHep = dfHep['gene_id_new'].to_list()\n",
    "set_common_genes = set(listHEK).intersection(set(listHep))\n",
    "len(set_common_genes)"
   ]
  },
  {
   "cell_type": "markdown",
   "metadata": {},
   "source": [
    "# 4. CLIP data "
   ]
  },
  {
   "cell_type": "markdown",
   "metadata": {},
   "source": [
    "At this point it is possible to upload the CLIP files, in this case eCLIP and miCLIP files. The aim is to just keep the genes that are contained in the set of common expressed genes from the Ref_Seq: for this aim, functions are going to be implemented,they should be as general as possible.  \n",
    "To note: in the eCLIP file, there are no ENSEMBL ids, just the locus --> it is needed to compare them to get the info. "
   ]
  },
  {
   "cell_type": "markdown",
   "metadata": {},
   "source": [
    "# Functions"
   ]
  },
  {
   "cell_type": "code",
   "execution_count": 62,
   "metadata": {
    "tags": []
   },
   "outputs": [],
   "source": [
    "_start_time = time.time()\n",
    "#change a bit this function or cite \n",
    "def tic():\n",
    "    global _start_time \n",
    "    _start_time = time.time()\n",
    "\n",
    "def tac():\n",
    "    t_sec = round(time.time() - _start_time)\n",
    "    (t_min, t_sec) = divmod(t_sec,60)\n",
    "    (t_hour,t_min) = divmod(t_min,60) \n",
    "    print('Time passed: {}hour:{}min:{}sec'.format(t_hour,t_min,t_sec))"
   ]
  },
  {
   "cell_type": "code",
   "execution_count": 51,
   "metadata": {
    "tags": []
   },
   "outputs": [],
   "source": [
    "#the annotations contain more than just one ensembl gene id per locus, this function explodes the field in which the ids are \n",
    "#stored so that they are more easily accessible for compare_with_common_genes\n",
    "def explode_annotations(ann) :\n",
    "    annots = pd.Series(ann.split(';'))\n",
    "    annots = annots.str.split('|', expand = True)\n",
    "    annots.columns = ['gene_id', 'gene_name', 'gene_type']\n",
    "    annots.gene_id= annots.gene_id.str.split('.').str[0]\n",
    "    return annots"
   ]
  },
  {
   "cell_type": "code",
   "execution_count": 52,
   "metadata": {
    "tags": []
   },
   "outputs": [],
   "source": [
    "#takes a long time --> converted to a set instead of a dataframe so that it's faster. \n",
    "#this function compares the names stored in a .bed file row with the set of common genes previously produced by intersection. \n",
    "def compare_with_common_genes(feature, genes_to_compare): \n",
    "    df = explode_annotations(feature) \n",
    "    intersection = set(df.gene_id).intersection(genes_to_compare) \n",
    "    if len(intersection) > 0 : \n",
    "        return True\n",
    "    return False\n",
    "    "
   ]
  },
  {
   "cell_type": "code",
   "execution_count": 108,
   "metadata": {
    "tags": []
   },
   "outputs": [],
   "source": [
    "def filter_CLIP(input_bed, output_bed):\n",
    "    eCLIP = BedTool(input_bed)\n",
    "    df_eCLIP = eCLIP.to_dataframe(disable_auto_names=True, header= None)\n",
    "    df_eCLIP['gene'] = df_eCLIP[9]\n",
    "    df_eCLIP['in intersection'] =  df_eCLIP.gene.map(lambda x: compare_with_common_genes(x, genes_to_compare=set_common_genes))\n",
    "    df_eclip_ok = df_eCLIP[df_eCLIP['in intersection'] == True]\n",
    "    df_eclip_ok = df_eclip_ok.drop(columns = ['gene', 'in intersection'])\n",
    "    df_eclip_ok.to_csv(output_bed, sep='\\t', header=None, index=False)\n",
    "    return df_eclip_ok, len(df_eCLIP) , len(df_eclip_ok)\n",
    "#I need to save the name of the RBP, the len of the first df and the len of the modified df. "
   ]
  },
  {
   "cell_type": "code",
   "execution_count": 104,
   "metadata": {
    "tags": []
   },
   "outputs": [],
   "source": [
    "def plot_original_modified(plot, cell_line) : \n",
    "    labels = plot['RBP'].str.split('_').str[0]#removed the cell line because I'm going to do two plots\n",
    "    bar1 = plot['original length']\n",
    "    bar2 = plot['modified length']\n",
    "    percentage = plot['percentage']\n",
    "\n",
    "    x = np.arange(len(labels))  # the label locations\n",
    "    width = 0.35  # the width of the bars\n",
    "\n",
    "    fig, ax = plt.subplots(figsize=(5, 15))\n",
    "    rects1 = ax.barh(x - width/2, bar1, width, color='#FA8072', label='Unfiltered set')\n",
    "    rects2 = ax.barh(x + width/2, bar2, width, color='#FFA500', label='Filtered set')\n",
    "\n",
    "    # Add some text for labels, title and custom x-axis tick labels, etc.\n",
    "    ax.set_xlabel('#genes')\n",
    "    ax.set_title(cell_line) #here introduce a new plot in the same figure to divide cell lines\n",
    "    ax.set_yticks(x, labels)\n",
    "    ax.legend()\n",
    "\n",
    "    ax.bar_label(rects1,labels = percentage, padding=3)\n",
    "    #ax.bar_label(rects2, labels = None ,padding=3)\n",
    "\n",
    "    ax.spines[['top', 'right']].set_visible(False)\n",
    "    fig.suptitle('Comparison between unfiltered and filtered set sizes', fontsize=16)\n",
    "    fig.tight_layout()\n",
    "    \n",
    "    return fig, ax"
   ]
  },
  {
   "cell_type": "markdown",
   "metadata": {},
   "source": [
    "Once the functions are implemented, the files are going to be processed and the common ids extracted. The miCLIP file is processed first. "
   ]
  },
  {
   "cell_type": "code",
   "execution_count": 30,
   "metadata": {
    "tags": []
   },
   "outputs": [],
   "source": [
    "\n",
    "#filter miCLIP \n",
    "df_miclip_ok, mi_original_len, mi_modified_len = flt.filter_CLIP(f\"{datapath}miCLIP.bed\", set_common_genes, f'{datapath}miCLIP.filt.out.bed')"
   ]
  },
  {
   "cell_type": "markdown",
   "metadata": {},
   "source": [
    "#starting to work on the fuction that is going to compare set_common_genes and the ids found in the CLIP files. \n",
    "#feature[9] example --> 'ENSG00000107521.20|HPS1|mRNA;ENSG00000264610.1|MIR4685|miRNA'\n",
    "for features in clipfile: \n",
    "    feature[9].to_df --> split with read_bindingsites_4fields(path: str) -> pd.DataFrame: --> df['gene_id', 'name', 'type']\n",
    "    if df.gene_id.isin(set_common_genes) : \n",
    "        list.append(feature) "
   ]
  },
  {
   "cell_type": "markdown",
   "metadata": {},
   "source": [
    "After processing the miCLIP files, the eCLIP files are to be manipulated. For eCLIP, the data is more consistent and collected in a directory, divided by protein (?).      "
   ]
  },
  {
   "cell_type": "code",
   "execution_count": 36,
   "metadata": {
    "tags": []
   },
   "outputs": [],
   "source": [
    "path = f'{datapath}ENCODE/processed/'#later to be changed to access the files in 'processed'\n",
    "directory1 = os.listdir(path)\n",
    "plot_ds = pd.DataFrame([])\n",
    "\n",
    "#tic()\n",
    "\n",
    "for folder in directory1:\n",
    "    #print(folder)\n",
    "    directory2 = os.listdir(path + folder)\n",
    "    \n",
    "    for file in directory2 :\n",
    "        if 'peaks.crosslink.anno.bed' in file :\n",
    "            a, b, c = flt.filter_CLIP(f\"{path}{folder}/{file}\", set_common_genes, f\"{path}{folder}/peaks.crosslink.anno.filt.bed\")\n",
    "            \n",
    "            plot_df = pd.DataFrame({'original length':  [b],#preparing the dataset for the plots\n",
    "                                    'modified length': [c],\n",
    "                                    'RBP': [folder]})\n",
    "            plot_ds = pd.concat([plot_ds , plot_df])\n",
    "#tac()\n",
    "\n"
   ]
  },
  {
   "cell_type": "code",
   "execution_count": 105,
   "metadata": {
    "tags": []
   },
   "outputs": [],
   "source": [
    "resultspath= '/home/ubuntu/results/'"
   ]
  },
  {
   "cell_type": "markdown",
   "metadata": {},
   "source": [
    "# Plots"
   ]
  },
  {
   "cell_type": "code",
   "execution_count": 33,
   "metadata": {
    "tags": []
   },
   "outputs": [
    {
     "ename": "NameError",
     "evalue": "name 'plot_ds' is not defined",
     "output_type": "error",
     "traceback": [
      "\u001b[0;31m---------------------------------------------------------------------------\u001b[0m",
      "\u001b[0;31mNameError\u001b[0m                                 Traceback (most recent call last)",
      "Cell \u001b[0;32mIn[33], line 4\u001b[0m\n\u001b[1;32m      1\u001b[0m \u001b[38;5;66;03m#preparing the plots with the comparison between filtered and unfiltered datasets \u001b[39;00m\n\u001b[1;32m      2\u001b[0m \u001b[38;5;66;03m#this could easily become a function\u001b[39;00m\n\u001b[0;32m----> 4\u001b[0m plot_ds[\u001b[38;5;124m'\u001b[39m\u001b[38;5;124mpercentage\u001b[39m\u001b[38;5;124m'\u001b[39m] \u001b[38;5;241m=\u001b[39m \u001b[38;5;241m100\u001b[39m\u001b[38;5;241m-\u001b[39m ((\u001b[43mplot_ds\u001b[49m[\u001b[38;5;124m'\u001b[39m\u001b[38;5;124mmodified length\u001b[39m\u001b[38;5;124m'\u001b[39m]\u001b[38;5;241m/\u001b[39mplot_ds[\u001b[38;5;124m'\u001b[39m\u001b[38;5;124moriginal length\u001b[39m\u001b[38;5;124m'\u001b[39m] )\u001b[38;5;241m*\u001b[39m \u001b[38;5;241m100\u001b[39m )\n\u001b[1;32m      5\u001b[0m plot_ds[\u001b[38;5;124m'\u001b[39m\u001b[38;5;124mpercentage\u001b[39m\u001b[38;5;124m'\u001b[39m] \u001b[38;5;241m=\u001b[39m plot_ds[\u001b[38;5;124m'\u001b[39m\u001b[38;5;124mpercentage\u001b[39m\u001b[38;5;124m'\u001b[39m]\u001b[38;5;241m.\u001b[39mmap(\u001b[38;5;28;01mlambda\u001b[39;00m x : \u001b[38;5;28mfloat\u001b[39m(\u001b[38;5;124m\"\u001b[39m\u001b[38;5;132;01m{:.4f}\u001b[39;00m\u001b[38;5;124m\"\u001b[39m\u001b[38;5;241m.\u001b[39mformat(x)))\n\u001b[1;32m      6\u001b[0m plot_ds[\u001b[38;5;124m'\u001b[39m\u001b[38;5;124mpercentage\u001b[39m\u001b[38;5;124m'\u001b[39m] \u001b[38;5;241m=\u001b[39m plot_ds[\u001b[38;5;124m'\u001b[39m\u001b[38;5;124mpercentage\u001b[39m\u001b[38;5;124m'\u001b[39m]\u001b[38;5;241m.\u001b[39mmap(\u001b[38;5;28;01mlambda\u001b[39;00m x : \u001b[38;5;28mstr\u001b[39m(x) \u001b[38;5;241m+\u001b[39m \u001b[38;5;124m'\u001b[39m\u001b[38;5;124m%\u001b[39m\u001b[38;5;124m'\u001b[39m) \n",
      "\u001b[0;31mNameError\u001b[0m: name 'plot_ds' is not defined"
     ]
    }
   ],
   "source": [
    "#preparing the plots with the comparison between filtered and unfiltered datasets \n",
    "#this could easily become a function\n",
    " \n",
    "plot_ds['percentage'] = 100- ((plot_ds['modified length']/plot_ds['original length'] )* 100 )\n",
    "plot_ds['percentage'] = plot_ds['percentage'].map(lambda x : float(\"{:.4f}\".format(x)))\n",
    "plot_ds['percentage'] = plot_ds['percentage'].map(lambda x : str(x) + '%') \n",
    "\n",
    "plot_ds_Hep = plot_ds[plot_ds.RBP.map(lambda x : \"HepG2\" in x)]\n",
    "plot_ds_K562 = plot_ds[plot_ds.RBP.map(lambda x : \"K562\" in x)]\n",
    "\n",
    "#K562\n",
    "figK,axK = flt.plot_original_modified(plot_ds_K562, 'K562')  \n",
    "plt.savefig(f'{resultspath}Comparison_filt_unfilt_dataset_K562.png', bbox_inches='tight')\n",
    "\n",
    "#Hep\n",
    "fig, ax = flt.plot_original_modified(plot_ds_Hep, 'HepG2')\n",
    "plt.savefig(f'{resultspath}Comparison_filt_unfilt_dataset_HepG2.png', bbox_inches='tight')\n",
    "\n",
    "plt.show()\n"
   ]
  },
  {
   "cell_type": "code",
   "execution_count": 123,
   "metadata": {
    "tags": []
   },
   "outputs": [
    {
     "data": {
      "text/html": [
       "<div>\n",
       "<style scoped>\n",
       "    .dataframe tbody tr th:only-of-type {\n",
       "        vertical-align: middle;\n",
       "    }\n",
       "\n",
       "    .dataframe tbody tr th {\n",
       "        vertical-align: top;\n",
       "    }\n",
       "\n",
       "    .dataframe thead th {\n",
       "        text-align: right;\n",
       "    }\n",
       "</style>\n",
       "<table border=\"1\" class=\"dataframe\">\n",
       "  <thead>\n",
       "    <tr style=\"text-align: right;\">\n",
       "      <th></th>\n",
       "      <th>#genes</th>\n",
       "      <th>miCLIP dataset</th>\n",
       "    </tr>\n",
       "  </thead>\n",
       "  <tbody>\n",
       "    <tr>\n",
       "      <th>0</th>\n",
       "      <td>9278</td>\n",
       "      <td>original</td>\n",
       "    </tr>\n",
       "    <tr>\n",
       "      <th>1</th>\n",
       "      <td>9087</td>\n",
       "      <td>filtered</td>\n",
       "    </tr>\n",
       "  </tbody>\n",
       "</table>\n",
       "</div>"
      ],
      "text/plain": [
       "   #genes miCLIP dataset\n",
       "0    9278       original\n",
       "1    9087       filtered"
      ]
     },
     "execution_count": 123,
     "metadata": {},
     "output_type": "execute_result"
    }
   ],
   "source": [
    "d = {'#genes':[mi_original_len, mi_modified_len],'miCLIP dataset':['original','filtered']}\n",
    "df_plot_2 = pd.DataFrame(data=d)\n",
    "df_plot_2"
   ]
  },
  {
   "cell_type": "code",
   "execution_count": 134,
   "metadata": {
    "tags": []
   },
   "outputs": [
    {
     "data": {
      "image/png": "[encoded data removed]",
      "text/plain": [
       "<Figure size 640x480 with 1 Axes>"
      ]
     },
     "metadata": {},
     "output_type": "display_data"
    }
   ],
   "source": [
    "ax = sns.barplot(\n",
    "    data=df_plot_2, x=\"#genes\", y=\"miCLIP dataset\",\n",
    "    errorbar=(\"pi\", 50), capsize=.4, errcolor=\".5\",\n",
    "    linewidth=3, edgecolor=\".5\", facecolor=(0, 0, 0, 0),\n",
    ")\n",
    "ax.bar_label(ax.containers[0])\n",
    "#ax.text(0,0,ax.containers[0],color='green', ha='center')\n",
    "fig = ax.get_figure()\n",
    "fig.savefig(\"/home/ubuntu/results/Comparison_filt_unfilt_miclip.png\") "
   ]
  },
  {
   "cell_type": "code",
   "execution_count": null,
   "metadata": {},
   "outputs": [],
   "source": []
  }
 ],
 "metadata": {
  "kernelspec": {
   "display_name": "Python 3 (ipykernel)",
   "language": "python",
   "name": "python3"
  },
  "language_info": {
   "codemirror_mode": {
    "name": "ipython",
    "version": 3
   },
   "file_extension": ".py",
   "mimetype": "text/x-python",
   "name": "python",
   "nbconvert_exporter": "python",
   "pygments_lexer": "ipython3",
   "version": "3.10.8"
  }
 },
 "nbformat": 4,
 "nbformat_minor": 4
}
