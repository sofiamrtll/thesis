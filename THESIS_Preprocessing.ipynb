{
 "cells": [
  {
   "cell_type": "markdown",
   "metadata": {},
   "source": [
    "# THESIS - Preprocessing \n"
   ]
  },
  {
   "cell_type": "markdown",
   "metadata": {},
   "source": [
    "Four datasets are going to be used : \n",
    "\n",
    "- RNA-seq for HEK293 cells (Sun et al) --> HEK  \n",
    "- RNA-seq for HepG2 (Wold, ENCODE) --> Hep \n",
    "- ENCODE eCLIP for protein-RNA interactions (Wold, ENCODE)\n",
    "- miCLIP for m6A modifications (HEK293 cells, Linder et al)\n",
    "\n",
    "Firstly, RNA-seq data is going to be filtered and combined in order to obtain a dataset which contains genes that are expressed in both HEK293 and HepG2 cell lines. \n"
   ]
  },
  {
   "cell_type": "markdown",
   "metadata": {},
   "source": [
    "During the preprocessing, dataframes are utilized and for this purpose, the pandas library is particularly effective. "
   ]
  },
  {
   "cell_type": "code",
   "execution_count": 27,
   "metadata": {},
   "outputs": [],
   "source": [
    "import pandas as pd \n",
    "import numpy as np \n",
    "from pybedtools import BedTool\n",
    "import pybedtools\n",
    "#import pybiomart\n",
    "import scanpy as sc\n",
    "import os , sys"
   ]
  },
  {
   "cell_type": "markdown",
   "metadata": {},
   "source": [
    "# 1. The dataset RNA-seq for HEK293 cells (Sun et al)\n",
    "The dataset RNA-seq for HEK293 cells (Sun et al) is uploaded and the dataframe dfHek is produced. \n",
    "It is noticeable from the function len() that the number of elements contained is equal to 57905. \n",
    "It is necessary to eliminate the transcripts that are not expressed: the amount of elements after the stripping(?) is equal to 32396.   \n",
    "Notice that the two RNA-seq files have different genome versions, it is necesssary to lift one or the other, in order for them to be in the same version. This is going to be achieved by an R script and the use of the package useMart(): maybe copy the script here. \n",
    "I have decided to lift HEK293 to the version hg38/GRCh38 and I am going to use the lifted version for the comparison. \n"
   ]
  },
  {
   "cell_type": "code",
   "execution_count": 2,
   "metadata": {},
   "outputs": [],
   "source": [
    "dfHEK = pd.read_excel(\"HEK293.xlsx\")"
   ]
  },
  {
   "cell_type": "code",
   "execution_count": 4,
   "metadata": {},
   "outputs": [
    {
     "data": {
      "text/plain": [
       "gene_id                                                 ENSG00000005955\n",
       "length                                                            45542\n",
       "HEK293NK-SEQ1                                                      3534\n",
       "HEK293NK-SEQ1_RPKM                                                 6.65\n",
       "HEK293NK-SEQ2                                                      3664\n",
       "HEK293NK-SEQ2_RPKM                                                 6.54\n",
       "HEK293NK-SEQ3                                                      4111\n",
       "HEK293NK-SEQ3_RPKM                                                 6.94\n",
       "HEK293-SEQ1                                                        3181\n",
       "HEK293-SEQ1_RPKM                                                   6.56\n",
       "HEK293-SEQ2                                                        3078\n",
       "HEK293-SEQ2_RPKM                                                    6.3\n",
       "HEK293-SEQ3                                                        3267\n",
       "HEK293-SEQ3_RPKM                                                    6.1\n",
       "GeneSymbol                                                       GGNBP2\n",
       "KO                                                               K01557\n",
       "GO                    cellular_component:nucleus(GO:0005634);cellula...\n",
       "Name: 22859, dtype: object"
      ]
     },
     "execution_count": 4,
     "metadata": {},
     "output_type": "execute_result"
    }
   ],
   "source": [
    "#check if the gene_id actually changed correctly: at position 22859 --> 'ENSG00000005955'\n",
    "dfHEK.loc[22859]"
   ]
  },
  {
   "cell_type": "code",
   "execution_count": 5,
   "metadata": {},
   "outputs": [
    {
     "data": {
      "text/plain": [
       "57905"
      ]
     },
     "execution_count": 5,
     "metadata": {},
     "output_type": "execute_result"
    }
   ],
   "source": [
    "len(dfHEK)"
   ]
  },
  {
   "cell_type": "code",
   "execution_count": 3,
   "metadata": {},
   "outputs": [
    {
     "data": {
      "text/plain": [
       "32396"
      ]
     },
     "execution_count": 3,
     "metadata": {},
     "output_type": "execute_result"
    }
   ],
   "source": [
    "#dropping transcripts without expression.\n",
    "dfHEK.columns = dfHEK.columns.str.replace('-', '_')\n",
    "dfHEK = dfHEK[(dfHEK.HEK293NK_SEQ1 != 0.00) | (dfHEK.HEK293NK_SEQ2 != 0.00)]\n",
    "len(dfHEK)"
   ]
  },
  {
   "cell_type": "code",
   "execution_count": 4,
   "metadata": {},
   "outputs": [],
   "source": [
    "dfVersion = pd.read_excel(\"inconsistenciesENSEMBL_noNaN.xlsx\", usecols = \"B, C\")\n",
    "\n",
    "dictionary = pd.Series(dfVersion['ensembl_gene_id.y'].values,index=dfVersion['ensembl_gene_id.x']).to_dict()\n",
    "\n",
    "#Problem: the dictionary has duplicates: for example ENSG00000257341 is linked both to 'ENSG00000257341' and 'ENSG00000213145'--> the fuction replace is \n",
    "#using the same ENSG00000257341, ignoring the other. "
   ]
  },
  {
   "cell_type": "code",
   "execution_count": 5,
   "metadata": {},
   "outputs": [],
   "source": [
    "#just keep the lifted ids.--> will be just protein coding genes since we are using ccds as unique key.   \n",
    "#dfVersion = pd.read_excel(\"incostintenciesENSEMBL.xlsx\")\n",
    "dfHEK = dfHEK.replace({\"gene_id\": dictionary})"
   ]
  },
  {
   "cell_type": "code",
   "execution_count": 9,
   "metadata": {},
   "outputs": [
    {
     "data": {
      "text/plain": [
       "gene_id                                                 ENSG00000278311\n",
       "length                                                            45542\n",
       "HEK293NK_SEQ1                                                      3534\n",
       "HEK293NK_SEQ1_RPKM                                                 6.65\n",
       "HEK293NK_SEQ2                                                      3664\n",
       "HEK293NK_SEQ2_RPKM                                                 6.54\n",
       "HEK293NK_SEQ3                                                      4111\n",
       "HEK293NK_SEQ3_RPKM                                                 6.94\n",
       "HEK293_SEQ1                                                        3181\n",
       "HEK293_SEQ1_RPKM                                                   6.56\n",
       "HEK293_SEQ2                                                        3078\n",
       "HEK293_SEQ2_RPKM                                                    6.3\n",
       "HEK293_SEQ3                                                        3267\n",
       "HEK293_SEQ3_RPKM                                                    6.1\n",
       "GeneSymbol                                                       GGNBP2\n",
       "KO                                                               K01557\n",
       "GO                    cellular_component:nucleus(GO:0005634);cellula...\n",
       "Name: 22859, dtype: object"
      ]
     },
     "execution_count": 9,
     "metadata": {},
     "output_type": "execute_result"
    }
   ],
   "source": [
    "#check if the gene_id actually changed correctly: at position 22859 --> 'ENSG00000278311' --> it's right \n",
    "dfHEK.loc[22859]"
   ]
  },
  {
   "cell_type": "code",
   "execution_count": 10,
   "metadata": {},
   "outputs": [
    {
     "data": {
      "text/html": [
       "<div>\n",
       "<style scoped>\n",
       "    .dataframe tbody tr th:only-of-type {\n",
       "        vertical-align: middle;\n",
       "    }\n",
       "\n",
       "    .dataframe tbody tr th {\n",
       "        vertical-align: top;\n",
       "    }\n",
       "\n",
       "    .dataframe thead th {\n",
       "        text-align: right;\n",
       "    }\n",
       "</style>\n",
       "<table border=\"1\" class=\"dataframe\">\n",
       "  <thead>\n",
       "    <tr style=\"text-align: right;\">\n",
       "      <th></th>\n",
       "      <th>gene_id</th>\n",
       "      <th>length</th>\n",
       "      <th>HEK293NK_SEQ1</th>\n",
       "      <th>HEK293NK_SEQ1_RPKM</th>\n",
       "      <th>HEK293NK_SEQ2</th>\n",
       "      <th>HEK293NK_SEQ2_RPKM</th>\n",
       "      <th>HEK293NK_SEQ3</th>\n",
       "      <th>HEK293NK_SEQ3_RPKM</th>\n",
       "      <th>HEK293_SEQ1</th>\n",
       "      <th>HEK293_SEQ1_RPKM</th>\n",
       "      <th>HEK293_SEQ2</th>\n",
       "      <th>HEK293_SEQ2_RPKM</th>\n",
       "      <th>HEK293_SEQ3</th>\n",
       "      <th>HEK293_SEQ3_RPKM</th>\n",
       "      <th>GeneSymbol</th>\n",
       "      <th>KO</th>\n",
       "      <th>GO</th>\n",
       "    </tr>\n",
       "  </thead>\n",
       "  <tbody>\n",
       "    <tr>\n",
       "      <th>1</th>\n",
       "      <td>ENSG00000227232</td>\n",
       "      <td>15444</td>\n",
       "      <td>705</td>\n",
       "      <td>4.77</td>\n",
       "      <td>812</td>\n",
       "      <td>5.21</td>\n",
       "      <td>1121</td>\n",
       "      <td>6.80</td>\n",
       "      <td>732</td>\n",
       "      <td>5.43</td>\n",
       "      <td>690</td>\n",
       "      <td>5.07</td>\n",
       "      <td>804</td>\n",
       "      <td>5.39</td>\n",
       "      <td>WASH7P</td>\n",
       "      <td>K18461</td>\n",
       "      <td>_</td>\n",
       "    </tr>\n",
       "    <tr>\n",
       "      <th>7</th>\n",
       "      <td>ENSG00000238009</td>\n",
       "      <td>44272</td>\n",
       "      <td>1</td>\n",
       "      <td>0.01</td>\n",
       "      <td>2</td>\n",
       "      <td>0.01</td>\n",
       "      <td>0</td>\n",
       "      <td>0.00</td>\n",
       "      <td>1</td>\n",
       "      <td>0.01</td>\n",
       "      <td>3</td>\n",
       "      <td>0.02</td>\n",
       "      <td>1</td>\n",
       "      <td>0.01</td>\n",
       "      <td>RP11-34P13.7</td>\n",
       "      <td>_</td>\n",
       "      <td>_</td>\n",
       "    </tr>\n",
       "    <tr>\n",
       "      <th>9</th>\n",
       "      <td>ENSG00000233750</td>\n",
       "      <td>3812</td>\n",
       "      <td>1</td>\n",
       "      <td>0.01</td>\n",
       "      <td>0</td>\n",
       "      <td>0.00</td>\n",
       "      <td>0</td>\n",
       "      <td>0.00</td>\n",
       "      <td>0</td>\n",
       "      <td>0.00</td>\n",
       "      <td>0</td>\n",
       "      <td>0.00</td>\n",
       "      <td>1</td>\n",
       "      <td>0.01</td>\n",
       "      <td>CICP27</td>\n",
       "      <td>K12581</td>\n",
       "      <td>_</td>\n",
       "    </tr>\n",
       "    <tr>\n",
       "      <th>10</th>\n",
       "      <td>ENSG00000237683</td>\n",
       "      <td>4479</td>\n",
       "      <td>4</td>\n",
       "      <td>0.04</td>\n",
       "      <td>10</td>\n",
       "      <td>0.09</td>\n",
       "      <td>7</td>\n",
       "      <td>0.06</td>\n",
       "      <td>9</td>\n",
       "      <td>0.09</td>\n",
       "      <td>12</td>\n",
       "      <td>0.12</td>\n",
       "      <td>11</td>\n",
       "      <td>0.10</td>\n",
       "      <td>AL627309.1</td>\n",
       "      <td>_</td>\n",
       "      <td>_</td>\n",
       "    </tr>\n",
       "    <tr>\n",
       "      <th>14</th>\n",
       "      <td>ENSG00000241860</td>\n",
       "      <td>32389</td>\n",
       "      <td>13</td>\n",
       "      <td>0.05</td>\n",
       "      <td>4</td>\n",
       "      <td>0.01</td>\n",
       "      <td>2</td>\n",
       "      <td>0.01</td>\n",
       "      <td>14</td>\n",
       "      <td>0.06</td>\n",
       "      <td>6</td>\n",
       "      <td>0.02</td>\n",
       "      <td>2</td>\n",
       "      <td>0.01</td>\n",
       "      <td>RP11-34P13.13</td>\n",
       "      <td>_</td>\n",
       "      <td>_</td>\n",
       "    </tr>\n",
       "    <tr>\n",
       "      <th>...</th>\n",
       "      <td>...</td>\n",
       "      <td>...</td>\n",
       "      <td>...</td>\n",
       "      <td>...</td>\n",
       "      <td>...</td>\n",
       "      <td>...</td>\n",
       "      <td>...</td>\n",
       "      <td>...</td>\n",
       "      <td>...</td>\n",
       "      <td>...</td>\n",
       "      <td>...</td>\n",
       "      <td>...</td>\n",
       "      <td>...</td>\n",
       "      <td>...</td>\n",
       "      <td>...</td>\n",
       "      <td>...</td>\n",
       "      <td>...</td>\n",
       "    </tr>\n",
       "    <tr>\n",
       "      <th>57433</th>\n",
       "      <td>ENSG00000231341</td>\n",
       "      <td>855</td>\n",
       "      <td>2</td>\n",
       "      <td>0.06</td>\n",
       "      <td>1</td>\n",
       "      <td>0.03</td>\n",
       "      <td>2</td>\n",
       "      <td>0.05</td>\n",
       "      <td>0</td>\n",
       "      <td>0.00</td>\n",
       "      <td>1</td>\n",
       "      <td>0.03</td>\n",
       "      <td>1</td>\n",
       "      <td>0.03</td>\n",
       "      <td>VDAC1P6</td>\n",
       "      <td>K05862</td>\n",
       "      <td>_</td>\n",
       "    </tr>\n",
       "    <tr>\n",
       "      <th>57434</th>\n",
       "      <td>ENSG00000235001</td>\n",
       "      <td>1220</td>\n",
       "      <td>19</td>\n",
       "      <td>0.19</td>\n",
       "      <td>7</td>\n",
       "      <td>0.07</td>\n",
       "      <td>12</td>\n",
       "      <td>0.11</td>\n",
       "      <td>8</td>\n",
       "      <td>0.09</td>\n",
       "      <td>9</td>\n",
       "      <td>0.10</td>\n",
       "      <td>8</td>\n",
       "      <td>0.08</td>\n",
       "      <td>EIF4A1P2</td>\n",
       "      <td>K03257</td>\n",
       "      <td>_</td>\n",
       "    </tr>\n",
       "    <tr>\n",
       "      <th>57589</th>\n",
       "      <td>ENSG00000215414</td>\n",
       "      <td>741</td>\n",
       "      <td>17</td>\n",
       "      <td>0.29</td>\n",
       "      <td>9</td>\n",
       "      <td>0.14</td>\n",
       "      <td>17</td>\n",
       "      <td>0.26</td>\n",
       "      <td>8</td>\n",
       "      <td>0.15</td>\n",
       "      <td>10</td>\n",
       "      <td>0.18</td>\n",
       "      <td>10</td>\n",
       "      <td>0.17</td>\n",
       "      <td>PSMA6P1</td>\n",
       "      <td>K02730</td>\n",
       "      <td>_</td>\n",
       "    </tr>\n",
       "    <tr>\n",
       "      <th>57691</th>\n",
       "      <td>ENSG00000185275</td>\n",
       "      <td>243</td>\n",
       "      <td>636</td>\n",
       "      <td>64.62</td>\n",
       "      <td>682</td>\n",
       "      <td>65.72</td>\n",
       "      <td>317</td>\n",
       "      <td>28.92</td>\n",
       "      <td>361</td>\n",
       "      <td>40.24</td>\n",
       "      <td>394</td>\n",
       "      <td>43.54</td>\n",
       "      <td>355</td>\n",
       "      <td>35.78</td>\n",
       "      <td>CD24P4</td>\n",
       "      <td>K06469</td>\n",
       "      <td>_</td>\n",
       "    </tr>\n",
       "    <tr>\n",
       "      <th>57858</th>\n",
       "      <td>ENSG00000197092</td>\n",
       "      <td>6308</td>\n",
       "      <td>1</td>\n",
       "      <td>0.02</td>\n",
       "      <td>0</td>\n",
       "      <td>0.00</td>\n",
       "      <td>0</td>\n",
       "      <td>0.00</td>\n",
       "      <td>0</td>\n",
       "      <td>0.00</td>\n",
       "      <td>0</td>\n",
       "      <td>0.00</td>\n",
       "      <td>0</td>\n",
       "      <td>0.00</td>\n",
       "      <td>GOLGA6L16P</td>\n",
       "      <td>K10595</td>\n",
       "      <td>_</td>\n",
       "    </tr>\n",
       "  </tbody>\n",
       "</table>\n",
       "<p>32396 rows × 17 columns</p>\n",
       "</div>"
      ],
      "text/plain": [
       "               gene_id  length  HEK293NK_SEQ1  HEK293NK_SEQ1_RPKM  \\\n",
       "1      ENSG00000227232   15444            705                4.77   \n",
       "7      ENSG00000238009   44272              1                0.01   \n",
       "9      ENSG00000233750    3812              1                0.01   \n",
       "10     ENSG00000237683    4479              4                0.04   \n",
       "14     ENSG00000241860   32389             13                0.05   \n",
       "...                ...     ...            ...                 ...   \n",
       "57433  ENSG00000231341     855              2                0.06   \n",
       "57434  ENSG00000235001    1220             19                0.19   \n",
       "57589  ENSG00000215414     741             17                0.29   \n",
       "57691  ENSG00000185275     243            636               64.62   \n",
       "57858  ENSG00000197092    6308              1                0.02   \n",
       "\n",
       "       HEK293NK_SEQ2  HEK293NK_SEQ2_RPKM  HEK293NK_SEQ3  HEK293NK_SEQ3_RPKM  \\\n",
       "1                812                5.21           1121                6.80   \n",
       "7                  2                0.01              0                0.00   \n",
       "9                  0                0.00              0                0.00   \n",
       "10                10                0.09              7                0.06   \n",
       "14                 4                0.01              2                0.01   \n",
       "...              ...                 ...            ...                 ...   \n",
       "57433              1                0.03              2                0.05   \n",
       "57434              7                0.07             12                0.11   \n",
       "57589              9                0.14             17                0.26   \n",
       "57691            682               65.72            317               28.92   \n",
       "57858              0                0.00              0                0.00   \n",
       "\n",
       "       HEK293_SEQ1  HEK293_SEQ1_RPKM  HEK293_SEQ2  HEK293_SEQ2_RPKM  \\\n",
       "1              732              5.43          690              5.07   \n",
       "7                1              0.01            3              0.02   \n",
       "9                0              0.00            0              0.00   \n",
       "10               9              0.09           12              0.12   \n",
       "14              14              0.06            6              0.02   \n",
       "...            ...               ...          ...               ...   \n",
       "57433            0              0.00            1              0.03   \n",
       "57434            8              0.09            9              0.10   \n",
       "57589            8              0.15           10              0.18   \n",
       "57691          361             40.24          394             43.54   \n",
       "57858            0              0.00            0              0.00   \n",
       "\n",
       "       HEK293_SEQ3  HEK293_SEQ3_RPKM     GeneSymbol      KO GO  \n",
       "1              804              5.39         WASH7P  K18461  _  \n",
       "7                1              0.01   RP11-34P13.7       _  _  \n",
       "9                1              0.01         CICP27  K12581  _  \n",
       "10              11              0.10     AL627309.1       _  _  \n",
       "14               2              0.01  RP11-34P13.13       _  _  \n",
       "...            ...               ...            ...     ... ..  \n",
       "57433            1              0.03        VDAC1P6  K05862  _  \n",
       "57434            8              0.08       EIF4A1P2  K03257  _  \n",
       "57589           10              0.17        PSMA6P1  K02730  _  \n",
       "57691          355             35.78         CD24P4  K06469  _  \n",
       "57858            0              0.00     GOLGA6L16P  K10595  _  \n",
       "\n",
       "[32396 rows x 17 columns]"
      ]
     },
     "execution_count": 10,
     "metadata": {},
     "output_type": "execute_result"
    }
   ],
   "source": [
    "#dataframe without unexpressed genes and with genome version hg38 \n",
    "dfHEK\n"
   ]
  },
  {
   "cell_type": "markdown",
   "metadata": {},
   "source": [
    "'''tried to imput in the R script just the expressed genes but the problem persists: \n",
    "the actual length of the gene_id column in HEK293 is 57 905 (32396 now )but \n",
    "once the merge function is applied in the script, only 29 285 elements are kept. \n",
    "NB: out37 and out38 are containing 29 107 and 28 126 CCDS respectively, \n",
    "which means that not all of the gene_ids contained in the file HEK293 have a corresponding CCDS in Mart37 or 38. \n",
    "I have checked for duplicates in HEK293 and there are just 2. \n",
    "The problem must be related to the number of CCDS.\n",
    "'The Consensus CDS (CCDS) project is a collaborative effort to identify a core set of human and mouse protein CODING REGIONS \n",
    "that are consistently annotated and of high quality. \n",
    "The long term goal is to support convergence towards a standard set of gene annotations.[https://www.ncbi.nlm.nih.gov/projects/CCDS/CcdsBrowse.cgi]''''\n",
    "\n"
   ]
  },
  {
   "cell_type": "markdown",
   "metadata": {},
   "source": [
    "# 2. The dataset RNA-seq for HepG2 (Wold, ENCODE)\n",
    "The dataset RNA-seq for HepG2 (Wold, ENCODE) is uploaded and the dataframe dfHep is produced. The dataset is processed analogously, removing non-expressed transcripts. In this case the original number of values is 207507, whereas the elements after the elimination correspond to 96044 gene identifiers. (?)  \n",
    "PS: SEEMS LIKE gene_ids ARE NOT ONLY IN THE FORMAT ENSEMBL, IS THIS A PROBLEM? --> no\n"
   ]
  },
  {
   "cell_type": "code",
   "execution_count": 6,
   "metadata": {},
   "outputs": [
    {
     "name": "stdout",
     "output_type": "stream",
     "text": [
      "207507\n"
     ]
    },
    {
     "data": {
      "text/html": [
       "<div>\n",
       "<style scoped>\n",
       "    .dataframe tbody tr th:only-of-type {\n",
       "        vertical-align: middle;\n",
       "    }\n",
       "\n",
       "    .dataframe tbody tr th {\n",
       "        vertical-align: top;\n",
       "    }\n",
       "\n",
       "    .dataframe thead th {\n",
       "        text-align: right;\n",
       "    }\n",
       "</style>\n",
       "<table border=\"1\" class=\"dataframe\">\n",
       "  <thead>\n",
       "    <tr style=\"text-align: right;\">\n",
       "      <th></th>\n",
       "      <th>transcript_id</th>\n",
       "      <th>gene_id</th>\n",
       "      <th>length</th>\n",
       "      <th>effective_length</th>\n",
       "      <th>expected_count</th>\n",
       "      <th>TPM</th>\n",
       "      <th>FPKM</th>\n",
       "      <th>IsoPct</th>\n",
       "      <th>posterior_mean_count</th>\n",
       "      <th>posterior_standard_deviation_of_count</th>\n",
       "      <th>pme_TPM</th>\n",
       "      <th>pme_FPKM</th>\n",
       "      <th>IsoPct_from_pme_TPM</th>\n",
       "      <th>TPM_ci_lower_bound</th>\n",
       "      <th>TPM_ci_upper_bound</th>\n",
       "      <th>TPM_coefficient_of_quartile_variation</th>\n",
       "      <th>FPKM_ci_lower_bound</th>\n",
       "      <th>FPKM_ci_upper_bound</th>\n",
       "      <th>FPKM_coefficient_of_quartile_variation</th>\n",
       "    </tr>\n",
       "  </thead>\n",
       "  <tbody>\n",
       "    <tr>\n",
       "      <th>0</th>\n",
       "      <td>10904</td>\n",
       "      <td>10904</td>\n",
       "      <td>93</td>\n",
       "      <td>0</td>\n",
       "      <td>0.0</td>\n",
       "      <td>0.00</td>\n",
       "      <td>0.00</td>\n",
       "      <td>0.0</td>\n",
       "      <td>0.0</td>\n",
       "      <td>0.0</td>\n",
       "      <td>0.00</td>\n",
       "      <td>0.00</td>\n",
       "      <td>0.0</td>\n",
       "      <td>0.000000</td>\n",
       "      <td>0.000000</td>\n",
       "      <td>0.000000</td>\n",
       "      <td>0.000000</td>\n",
       "      <td>0.000000</td>\n",
       "      <td>0.000000</td>\n",
       "    </tr>\n",
       "    <tr>\n",
       "      <th>1</th>\n",
       "      <td>12954</td>\n",
       "      <td>12954</td>\n",
       "      <td>94</td>\n",
       "      <td>0</td>\n",
       "      <td>0.0</td>\n",
       "      <td>0.00</td>\n",
       "      <td>0.00</td>\n",
       "      <td>0.0</td>\n",
       "      <td>0.0</td>\n",
       "      <td>0.0</td>\n",
       "      <td>0.00</td>\n",
       "      <td>0.00</td>\n",
       "      <td>0.0</td>\n",
       "      <td>0.000000</td>\n",
       "      <td>0.000000</td>\n",
       "      <td>0.000000</td>\n",
       "      <td>0.000000</td>\n",
       "      <td>0.000000</td>\n",
       "      <td>0.000000</td>\n",
       "    </tr>\n",
       "    <tr>\n",
       "      <th>2</th>\n",
       "      <td>12956</td>\n",
       "      <td>12956</td>\n",
       "      <td>72</td>\n",
       "      <td>0</td>\n",
       "      <td>0.0</td>\n",
       "      <td>0.00</td>\n",
       "      <td>0.00</td>\n",
       "      <td>0.0</td>\n",
       "      <td>0.0</td>\n",
       "      <td>0.0</td>\n",
       "      <td>0.00</td>\n",
       "      <td>0.00</td>\n",
       "      <td>0.0</td>\n",
       "      <td>0.000000</td>\n",
       "      <td>0.000000</td>\n",
       "      <td>0.000000</td>\n",
       "      <td>0.000000</td>\n",
       "      <td>0.000000</td>\n",
       "      <td>0.000000</td>\n",
       "    </tr>\n",
       "    <tr>\n",
       "      <th>3</th>\n",
       "      <td>12958</td>\n",
       "      <td>12958</td>\n",
       "      <td>82</td>\n",
       "      <td>0</td>\n",
       "      <td>0.0</td>\n",
       "      <td>0.00</td>\n",
       "      <td>0.00</td>\n",
       "      <td>0.0</td>\n",
       "      <td>0.0</td>\n",
       "      <td>0.0</td>\n",
       "      <td>0.00</td>\n",
       "      <td>0.00</td>\n",
       "      <td>0.0</td>\n",
       "      <td>0.000000</td>\n",
       "      <td>0.000000</td>\n",
       "      <td>0.000000</td>\n",
       "      <td>0.000000</td>\n",
       "      <td>0.000000</td>\n",
       "      <td>0.000000</td>\n",
       "    </tr>\n",
       "    <tr>\n",
       "      <th>4</th>\n",
       "      <td>12960</td>\n",
       "      <td>12960</td>\n",
       "      <td>73</td>\n",
       "      <td>0</td>\n",
       "      <td>0.0</td>\n",
       "      <td>0.00</td>\n",
       "      <td>0.00</td>\n",
       "      <td>0.0</td>\n",
       "      <td>0.0</td>\n",
       "      <td>0.0</td>\n",
       "      <td>0.00</td>\n",
       "      <td>0.00</td>\n",
       "      <td>0.0</td>\n",
       "      <td>0.000000</td>\n",
       "      <td>0.000000</td>\n",
       "      <td>0.000000</td>\n",
       "      <td>0.000000</td>\n",
       "      <td>0.000000</td>\n",
       "      <td>0.000000</td>\n",
       "    </tr>\n",
       "    <tr>\n",
       "      <th>...</th>\n",
       "      <td>...</td>\n",
       "      <td>...</td>\n",
       "      <td>...</td>\n",
       "      <td>...</td>\n",
       "      <td>...</td>\n",
       "      <td>...</td>\n",
       "      <td>...</td>\n",
       "      <td>...</td>\n",
       "      <td>...</td>\n",
       "      <td>...</td>\n",
       "      <td>...</td>\n",
       "      <td>...</td>\n",
       "      <td>...</td>\n",
       "      <td>...</td>\n",
       "      <td>...</td>\n",
       "      <td>...</td>\n",
       "      <td>...</td>\n",
       "      <td>...</td>\n",
       "      <td>...</td>\n",
       "    </tr>\n",
       "    <tr>\n",
       "      <th>207502</th>\n",
       "      <td>tSpikein_ERCC-00165</td>\n",
       "      <td>gSpikein_ERCC-00165</td>\n",
       "      <td>872</td>\n",
       "      <td>773</td>\n",
       "      <td>182.0</td>\n",
       "      <td>4.79</td>\n",
       "      <td>5.10</td>\n",
       "      <td>100.0</td>\n",
       "      <td>182.0</td>\n",
       "      <td>0.0</td>\n",
       "      <td>4.70</td>\n",
       "      <td>5.11</td>\n",
       "      <td>100.0</td>\n",
       "      <td>4.027980</td>\n",
       "      <td>5.379590</td>\n",
       "      <td>0.049978</td>\n",
       "      <td>4.379740</td>\n",
       "      <td>5.849960</td>\n",
       "      <td>0.049976</td>\n",
       "    </tr>\n",
       "    <tr>\n",
       "      <th>207503</th>\n",
       "      <td>tSpikein_ERCC-00168</td>\n",
       "      <td>gSpikein_ERCC-00168</td>\n",
       "      <td>1024</td>\n",
       "      <td>925</td>\n",
       "      <td>1.0</td>\n",
       "      <td>0.02</td>\n",
       "      <td>0.02</td>\n",
       "      <td>100.0</td>\n",
       "      <td>1.0</td>\n",
       "      <td>0.0</td>\n",
       "      <td>0.04</td>\n",
       "      <td>0.05</td>\n",
       "      <td>100.0</td>\n",
       "      <td>0.001247</td>\n",
       "      <td>0.102962</td>\n",
       "      <td>0.475355</td>\n",
       "      <td>0.001355</td>\n",
       "      <td>0.111972</td>\n",
       "      <td>0.475281</td>\n",
       "    </tr>\n",
       "    <tr>\n",
       "      <th>207504</th>\n",
       "      <td>tSpikein_ERCC-00170</td>\n",
       "      <td>gSpikein_ERCC-00170</td>\n",
       "      <td>1023</td>\n",
       "      <td>924</td>\n",
       "      <td>68.0</td>\n",
       "      <td>1.50</td>\n",
       "      <td>1.60</td>\n",
       "      <td>100.0</td>\n",
       "      <td>68.0</td>\n",
       "      <td>0.0</td>\n",
       "      <td>1.48</td>\n",
       "      <td>1.61</td>\n",
       "      <td>100.0</td>\n",
       "      <td>1.146680</td>\n",
       "      <td>1.843870</td>\n",
       "      <td>0.080920</td>\n",
       "      <td>1.243590</td>\n",
       "      <td>2.001790</td>\n",
       "      <td>0.080810</td>\n",
       "    </tr>\n",
       "    <tr>\n",
       "      <th>207505</th>\n",
       "      <td>tSpikein_ERCC-00171</td>\n",
       "      <td>gSpikein_ERCC-00171</td>\n",
       "      <td>505</td>\n",
       "      <td>406</td>\n",
       "      <td>7125.0</td>\n",
       "      <td>357.14</td>\n",
       "      <td>380.37</td>\n",
       "      <td>100.0</td>\n",
       "      <td>7125.0</td>\n",
       "      <td>0.0</td>\n",
       "      <td>348.37</td>\n",
       "      <td>378.75</td>\n",
       "      <td>100.0</td>\n",
       "      <td>340.237000</td>\n",
       "      <td>356.454000</td>\n",
       "      <td>0.007965</td>\n",
       "      <td>370.223000</td>\n",
       "      <td>387.840000</td>\n",
       "      <td>0.007956</td>\n",
       "    </tr>\n",
       "    <tr>\n",
       "      <th>207506</th>\n",
       "      <td>tSpikein_phiX174</td>\n",
       "      <td>gSpikein_phiX174</td>\n",
       "      <td>5386</td>\n",
       "      <td>5287</td>\n",
       "      <td>1.0</td>\n",
       "      <td>0.00</td>\n",
       "      <td>0.00</td>\n",
       "      <td>100.0</td>\n",
       "      <td>1.0</td>\n",
       "      <td>0.0</td>\n",
       "      <td>0.01</td>\n",
       "      <td>0.01</td>\n",
       "      <td>100.0</td>\n",
       "      <td>0.000219</td>\n",
       "      <td>0.018031</td>\n",
       "      <td>0.477274</td>\n",
       "      <td>0.000229</td>\n",
       "      <td>0.019598</td>\n",
       "      <td>0.477199</td>\n",
       "    </tr>\n",
       "  </tbody>\n",
       "</table>\n",
       "<p>207507 rows × 19 columns</p>\n",
       "</div>"
      ],
      "text/plain": [
       "              transcript_id              gene_id  length  effective_length  \\\n",
       "0                     10904                10904      93                 0   \n",
       "1                     12954                12954      94                 0   \n",
       "2                     12956                12956      72                 0   \n",
       "3                     12958                12958      82                 0   \n",
       "4                     12960                12960      73                 0   \n",
       "...                     ...                  ...     ...               ...   \n",
       "207502  tSpikein_ERCC-00165  gSpikein_ERCC-00165     872               773   \n",
       "207503  tSpikein_ERCC-00168  gSpikein_ERCC-00168    1024               925   \n",
       "207504  tSpikein_ERCC-00170  gSpikein_ERCC-00170    1023               924   \n",
       "207505  tSpikein_ERCC-00171  gSpikein_ERCC-00171     505               406   \n",
       "207506     tSpikein_phiX174     gSpikein_phiX174    5386              5287   \n",
       "\n",
       "        expected_count     TPM    FPKM  IsoPct  posterior_mean_count  \\\n",
       "0                  0.0    0.00    0.00     0.0                   0.0   \n",
       "1                  0.0    0.00    0.00     0.0                   0.0   \n",
       "2                  0.0    0.00    0.00     0.0                   0.0   \n",
       "3                  0.0    0.00    0.00     0.0                   0.0   \n",
       "4                  0.0    0.00    0.00     0.0                   0.0   \n",
       "...                ...     ...     ...     ...                   ...   \n",
       "207502           182.0    4.79    5.10   100.0                 182.0   \n",
       "207503             1.0    0.02    0.02   100.0                   1.0   \n",
       "207504            68.0    1.50    1.60   100.0                  68.0   \n",
       "207505          7125.0  357.14  380.37   100.0                7125.0   \n",
       "207506             1.0    0.00    0.00   100.0                   1.0   \n",
       "\n",
       "        posterior_standard_deviation_of_count  pme_TPM  pme_FPKM  \\\n",
       "0                                         0.0     0.00      0.00   \n",
       "1                                         0.0     0.00      0.00   \n",
       "2                                         0.0     0.00      0.00   \n",
       "3                                         0.0     0.00      0.00   \n",
       "4                                         0.0     0.00      0.00   \n",
       "...                                       ...      ...       ...   \n",
       "207502                                    0.0     4.70      5.11   \n",
       "207503                                    0.0     0.04      0.05   \n",
       "207504                                    0.0     1.48      1.61   \n",
       "207505                                    0.0   348.37    378.75   \n",
       "207506                                    0.0     0.01      0.01   \n",
       "\n",
       "        IsoPct_from_pme_TPM  TPM_ci_lower_bound  TPM_ci_upper_bound  \\\n",
       "0                       0.0            0.000000            0.000000   \n",
       "1                       0.0            0.000000            0.000000   \n",
       "2                       0.0            0.000000            0.000000   \n",
       "3                       0.0            0.000000            0.000000   \n",
       "4                       0.0            0.000000            0.000000   \n",
       "...                     ...                 ...                 ...   \n",
       "207502                100.0            4.027980            5.379590   \n",
       "207503                100.0            0.001247            0.102962   \n",
       "207504                100.0            1.146680            1.843870   \n",
       "207505                100.0          340.237000          356.454000   \n",
       "207506                100.0            0.000219            0.018031   \n",
       "\n",
       "        TPM_coefficient_of_quartile_variation  FPKM_ci_lower_bound  \\\n",
       "0                                    0.000000             0.000000   \n",
       "1                                    0.000000             0.000000   \n",
       "2                                    0.000000             0.000000   \n",
       "3                                    0.000000             0.000000   \n",
       "4                                    0.000000             0.000000   \n",
       "...                                       ...                  ...   \n",
       "207502                               0.049978             4.379740   \n",
       "207503                               0.475355             0.001355   \n",
       "207504                               0.080920             1.243590   \n",
       "207505                               0.007965           370.223000   \n",
       "207506                               0.477274             0.000229   \n",
       "\n",
       "        FPKM_ci_upper_bound  FPKM_coefficient_of_quartile_variation  \n",
       "0                  0.000000                                0.000000  \n",
       "1                  0.000000                                0.000000  \n",
       "2                  0.000000                                0.000000  \n",
       "3                  0.000000                                0.000000  \n",
       "4                  0.000000                                0.000000  \n",
       "...                     ...                                     ...  \n",
       "207502             5.849960                                0.049976  \n",
       "207503             0.111972                                0.475281  \n",
       "207504             2.001790                                0.080810  \n",
       "207505           387.840000                                0.007956  \n",
       "207506             0.019598                                0.477199  \n",
       "\n",
       "[207507 rows x 19 columns]"
      ]
     },
     "execution_count": 6,
     "metadata": {},
     "output_type": "execute_result"
    }
   ],
   "source": [
    "dfHep = pd.read_excel(\"HepG2.xlsx\")\n",
    "print(len(dfHep))\n",
    "dfHep"
   ]
  },
  {
   "cell_type": "code",
   "execution_count": 7,
   "metadata": {},
   "outputs": [
    {
     "data": {
      "text/plain": [
       "96044"
      ]
     },
     "execution_count": 7,
     "metadata": {},
     "output_type": "execute_result"
    }
   ],
   "source": [
    "#dropping all transcripts that are not expressed \n",
    "dfHep = dfHep[dfHep.TPM != 0.00]\n",
    "len(dfHep)\n",
    "#check the shape of the set"
   ]
  },
  {
   "cell_type": "markdown",
   "metadata": {},
   "source": [
    "# 3. Identify an intersection of genes expressed in HEK293 and HepG2 cell lines \n",
    "The objective is to consider the RNA-seq datasets comparing the genes that are expressed in both cell lines. \n",
    "For this reason, it is crucial to observe the gene_ids formats in the two examples and ensure their compatibility. \n",
    "In this very case, the identifiers contained in the dataset HepG2 are complemented with the model's version, which is not specified in HEK293: it is essential to level out these conceptual differences..   "
   ]
  },
  {
   "cell_type": "code",
   "execution_count": 8,
   "metadata": {},
   "outputs": [
    {
     "name": "stderr",
     "output_type": "stream",
     "text": [
      "/tmp/ipykernel_89151/1669813914.py:2: SettingWithCopyWarning: \n",
      "A value is trying to be set on a copy of a slice from a DataFrame.\n",
      "Try using .loc[row_indexer,col_indexer] = value instead\n",
      "\n",
      "See the caveats in the documentation: https://pandas.pydata.org/pandas-docs/stable/user_guide/indexing.html#returning-a-view-versus-a-copy\n",
      "  dfHep['gene_id_new'] = dfHep['gene_id']\n",
      "/tmp/ipykernel_89151/1669813914.py:5: SettingWithCopyWarning: \n",
      "A value is trying to be set on a copy of a slice from a DataFrame.\n",
      "Try using .loc[row_indexer,col_indexer] = value instead\n",
      "\n",
      "See the caveats in the documentation: https://pandas.pydata.org/pandas-docs/stable/user_guide/indexing.html#returning-a-view-versus-a-copy\n",
      "  dfHep['gene_id_new']= dfHep.gene_id_new.str.split('.').str[0]\n"
     ]
    }
   ],
   "source": [
    "#duplicating gene_id to manipulate it\n",
    "dfHep['gene_id_new'] = dfHep['gene_id']\n",
    "\n",
    "#for the comparison, since in dfHep there are more detailed gene_ids containing also the version of the model, I have decided to remove the last part of the id. \n",
    "dfHep['gene_id_new']= dfHep.gene_id_new.str.split('.').str[0]"
   ]
  },
  {
   "cell_type": "markdown",
   "metadata": {},
   "source": [
    "The two sets are prepared to be intersected : the final intersection comprises of 20875 [14474] --> 20953 elements.  "
   ]
  },
  {
   "cell_type": "code",
   "execution_count": 9,
   "metadata": {},
   "outputs": [
    {
     "data": {
      "text/plain": [
       "20954"
      ]
     },
     "execution_count": 9,
     "metadata": {},
     "output_type": "execute_result"
    }
   ],
   "source": [
    "#intersecting the two columns so that in set3 there are just the ids in common \n",
    "listHEK = dfHEK['gene_id'].to_list() \n",
    "listHep = dfHep['gene_id_new'].to_list()\n",
    "set_common_genes = set(listHEK).intersection(set(listHep))\n",
    "len(set_common_genes)"
   ]
  },
  {
   "cell_type": "markdown",
   "metadata": {},
   "source": [
    "# 4. CLIP data "
   ]
  },
  {
   "cell_type": "markdown",
   "metadata": {},
   "source": [
    "At this point it is possible to upload the CLIP files, in this case eCLIP and miCLIP files. The aim is to just keep the genes that are contained in the set of common expressed genes from the Ref_Seq: for this aim, functions are going to be implemented,they should be as general as possible.  \n",
    "To note: in the eCLIP file, there are no ENSEMBL ids, just the locus --> it is needed to compare them to get the info. "
   ]
  },
  {
   "cell_type": "code",
   "execution_count": 47,
   "metadata": {},
   "outputs": [],
   "source": [
    "#the annotations contain more than just one ensembl gene id per locus, this function explodes the field in which the ids are \n",
    "#stored so that they are more easily accessible for compare_with_common_genes\n",
    "def explode_annotations(ann) :\n",
    "    annots = pd.Series(ann.split(';'))\n",
    "    annots = annots.str.split('|', expand = True)\n",
    "    annots.columns = ['gene_id', 'gene_name', 'gene_type']\n",
    "    annots.gene_id= annots.gene_id.str.split('.').str[0]\n",
    "    return annots"
   ]
  },
  {
   "cell_type": "code",
   "execution_count": 48,
   "metadata": {},
   "outputs": [],
   "source": [
    "#takes a long time --> converted to a set instead of a dataframe so that it's faster. \n",
    "#this function compares the names stored in a .bed file row with the set of common genes previously produced by intersection. \n",
    "def compare_with_common_genes(feature, genes_to_compare): \n",
    "    df = explode_annotations(feature) \n",
    "    intersection = set(df.gene_id).intersection(genes_to_compare) \n",
    "    if len(intersection) > 0 : \n",
    "        return True\n",
    "    return False\n",
    "    "
   ]
  },
  {
   "cell_type": "markdown",
   "metadata": {},
   "source": [
    "Once the functions are implemented, the files are going to be processed and the common ids extracted. The miCLIP file is processed first. "
   ]
  },
  {
   "cell_type": "code",
   "execution_count": 49,
   "metadata": {},
   "outputs": [
    {
     "name": "stdout",
     "output_type": "stream",
     "text": [
      "chr10\t98416554\t98416555\tB045_1-4_chr10_r_c635[k=4][m=2]_AGACT\t1\t-\tchr10\t98416198\t98446935\tENSG00000107521.20|HPS1|mRNA;ENSG00000264610.1|MIR4685|miRNA\t.\t-\t1\n",
      " chr10\t99330834\t99330835\tB045_1-4_chr10_f_c695[k=4][m=2]_GGACT\t1\t+\tchr10\t99329356\t99394330\tENSG00000119946.12|CNNM1|mRNA\t.\t+\t1\n",
      " chr10\t99611239\t99611240\tB045_1-4_chr10_r_c643[k=4][m=2]_GAACG\t1\t-\tchr10\t99610522\t99620609\tENSG00000155287.11|SLC25A28|mRNA\t.\t-\t1\n",
      " chr10\t99743263\t99743264\tB045_1-4_chr10_f_c698[k=4][m=2]_TGACA\t1\t+\tchr10\t99659509\t99756134\tENSG00000198018.7|ENTPD7|mRNA;ENSG00000119929.13|CUTC|mRNA\t.\t+\t1\n",
      " chr10\t99755703\t99755704\tB045_1-4_chr10_f_c699[k=11][m=2]_GGACT\t1\t+\tchr10\t99659509\t99756134\tENSG00000198018.7|ENTPD7|mRNA;ENSG00000119929.13|CUTC|mRNA\t.\t+\t1\n",
      " chr10\t99755836\t99755837\tB045_1-4_chr10_f_c701[k=8][m=2]_GGACA\t1\t+\tchr10\t99659509\t99756134\tENSG00000198018.7|ENTPD7|mRNA;ENSG00000119929.13|CUTC|mRNA\t.\t+\t1\n",
      " chr10\t99876942\t99876943\tB045_1-4_chr10_r_c647[k=6][m=2]_GGACC\t1\t-\tchr10\t99875577\t100009947\tENSG00000107554.17|DNMBP|mRNA\t.\t-\t1\n",
      " chr10\t100189371\t100189372\tB045_1-4_chr10_r_c654[k=6][m=2]_GTACT\t1\t-\tchr10\t100188300\t100229596\tENSG00000213341.11|CHUK|mRNA\t.\t-\t1\n",
      " chr10\t100275257\t100275258\tB045_1-4_chr10_r_c657[k=10][m=2]_TCACA\t1\t-\tchr10\t100273280\t100286680\tENSG00000196072.12|BLOC1S2|mRNA\t.\t-\t1\n",
      " chr10\t100348144\t100348145\tB045_1-4_chr10_f_c704[k=4][m=2]_AGACG\t1\t+\tchr10\t100347233\t100364826\tENSG00000099194.6|SCD|mRNA\t.\t+\t1\n",
      " "
     ]
    }
   ],
   "source": [
    "miCLIP = BedTool(\"miCLIP.bed\")\n",
    "\n",
    "df_miCLIP = miCLIP.to_dataframe(disable_auto_names=True, header= None)\n",
    "\n",
    "\n",
    "miCLIP.head()"
   ]
  },
  {
   "cell_type": "code",
   "execution_count": 50,
   "metadata": {},
   "outputs": [
    {
     "data": {
      "text/html": [
       "<div>\n",
       "<style scoped>\n",
       "    .dataframe tbody tr th:only-of-type {\n",
       "        vertical-align: middle;\n",
       "    }\n",
       "\n",
       "    .dataframe tbody tr th {\n",
       "        vertical-align: top;\n",
       "    }\n",
       "\n",
       "    .dataframe thead th {\n",
       "        text-align: right;\n",
       "    }\n",
       "</style>\n",
       "<table border=\"1\" class=\"dataframe\">\n",
       "  <thead>\n",
       "    <tr style=\"text-align: right;\">\n",
       "      <th></th>\n",
       "      <th>gene_id</th>\n",
       "      <th>gene_name</th>\n",
       "      <th>gene_type</th>\n",
       "    </tr>\n",
       "  </thead>\n",
       "  <tbody>\n",
       "    <tr>\n",
       "      <th>0</th>\n",
       "      <td>ENSG00000107521</td>\n",
       "      <td>HPS1</td>\n",
       "      <td>mRNA</td>\n",
       "    </tr>\n",
       "    <tr>\n",
       "      <th>1</th>\n",
       "      <td>ENSG00000264610</td>\n",
       "      <td>MIR4685</td>\n",
       "      <td>miRNA</td>\n",
       "    </tr>\n",
       "  </tbody>\n",
       "</table>\n",
       "</div>"
      ],
      "text/plain": [
       "           gene_id gene_name gene_type\n",
       "0  ENSG00000107521      HPS1      mRNA\n",
       "1  ENSG00000264610   MIR4685     miRNA"
      ]
     },
     "execution_count": 50,
     "metadata": {},
     "output_type": "execute_result"
    }
   ],
   "source": [
    "#checking the output of explode_annotations\n",
    "explode_annotations(df_miCLIP[9][0])"
   ]
  },
  {
   "cell_type": "code",
   "execution_count": 52,
   "metadata": {},
   "outputs": [],
   "source": [
    "#here the fuction is applied to all of the rows of the dataframe, filling a new column 'in intersection', to make it easy to then filter the df\n",
    "df_miCLIP['gene'] = df_miCLIP[9]\n",
    "df_miCLIP['in intersection'] =  df_miCLIP.gene.map(lambda x: compare_with_common_genes(x, genes_to_compare=set_common_genes))\n",
    "df_miclip_ok = df_miCLIP[df_miCLIP['in intersection'] == True]\n"
   ]
  },
  {
   "cell_type": "code",
   "execution_count": 53,
   "metadata": {},
   "outputs": [
    {
     "data": {
      "text/plain": [
       "9278"
      ]
     },
     "execution_count": 53,
     "metadata": {},
     "output_type": "execute_result"
    }
   ],
   "source": [
    "len(df_miCLIP)"
   ]
  },
  {
   "cell_type": "code",
   "execution_count": 54,
   "metadata": {},
   "outputs": [
    {
     "data": {
      "text/plain": [
       "9087"
      ]
     },
     "execution_count": 54,
     "metadata": {},
     "output_type": "execute_result"
    }
   ],
   "source": [
    "len(df_miclip_ok)"
   ]
  },
  {
   "cell_type": "markdown",
   "metadata": {},
   "source": [
    "#starting to work on the fuction that is going to compare set_common_genes and the ids found in the CLIP files. \n",
    "#feature[9] example --> 'ENSG00000107521.20|HPS1|mRNA;ENSG00000264610.1|MIR4685|miRNA'\n",
    "for features in clipfile: \n",
    "    feature[9].to_df --> split with read_bindingsites_4fields(path: str) -> pd.DataFrame: --> df['gene_id', 'name', 'type']\n",
    "    if df.gene_id.isin(set_common_genes) : \n",
    "        list.append(feature) "
   ]
  },
  {
   "cell_type": "markdown",
   "metadata": {},
   "source": [
    "After processing the miCLIP files, the eCLIP files are to be manipulated. For eCLIP, the data is more consistent and collected in a directory, divided by protein (?).      "
   ]
  },
  {
   "cell_type": "code",
   "execution_count": 55,
   "metadata": {},
   "outputs": [
    {
     "name": "stdout",
     "output_type": "stream",
     "text": [
      "peaks.crosslink.bed\n",
      "peaks.crosslink.anno.bed\n",
      "peaks.bed\n"
     ]
    }
   ],
   "source": [
    "#accessing all of the files in a directory \n",
    "path = 'processed/HNRNPC_HepG2'#later to be changed to access the files in 'processed'\n",
    "directory = os.listdir(path)\n",
    "for file in directory :\n",
    "    print(file)\n",
    "    if 'peaks.crosslink.anno.bed' in file : #there's where the gene ids are, do we need the rest of the files? \n",
    "        #here we can add the fuction to compare the genes. --> probably needs to be modified.--> nope it should work anyway  \n",
    "        eCLIP = BedTool(path +'/'+ file)\n",
    "        df_eCLIP = eCLIP.to_dataframe(disable_auto_names=True, header= None)\n",
    "        df_eCLIP['gene'] = df_eCLIP[9]\n",
    "        df_eCLIP['in intersection'] =  df_eCLIP.gene.map(lambda x: compare_with_common_genes(x, genes_to_compare=set_common_genes))\n",
    "        df_eclip_ok = df_miCLIP[df_miCLIP['in intersection'] == True] #I should save these df_eclip_ok, in which way should I do it?\n",
    "        #maybe I can do another dataframe containing all og the OK rows but it would be very large if I search in all of the directory \n",
    "        "
   ]
  },
  {
   "cell_type": "code",
   "execution_count": 57,
   "metadata": {},
   "outputs": [
    {
     "data": {
      "text/plain": [
       "19965"
      ]
     },
     "execution_count": 57,
     "metadata": {},
     "output_type": "execute_result"
    }
   ],
   "source": [
    "len(df_eCLIP)"
   ]
  },
  {
   "cell_type": "code",
   "execution_count": 56,
   "metadata": {},
   "outputs": [
    {
     "data": {
      "text/plain": [
       "9087"
      ]
     },
     "execution_count": 56,
     "metadata": {},
     "output_type": "execute_result"
    }
   ],
   "source": [
    "len(df_eclip_ok)"
   ]
  },
  {
   "cell_type": "code",
   "execution_count": null,
   "metadata": {},
   "outputs": [],
   "source": []
  },
  {
   "cell_type": "code",
   "execution_count": null,
   "metadata": {},
   "outputs": [],
   "source": []
  },
  {
   "cell_type": "code",
   "execution_count": 7,
   "metadata": {},
   "outputs": [
    {
     "data": {
      "text/html": [
       "<div>\n",
       "<style scoped>\n",
       "    .dataframe tbody tr th:only-of-type {\n",
       "        vertical-align: middle;\n",
       "    }\n",
       "\n",
       "    .dataframe tbody tr th {\n",
       "        vertical-align: top;\n",
       "    }\n",
       "\n",
       "    .dataframe thead th {\n",
       "        text-align: right;\n",
       "    }\n",
       "</style>\n",
       "<table border=\"1\" class=\"dataframe\">\n",
       "  <thead>\n",
       "    <tr style=\"text-align: right;\">\n",
       "      <th></th>\n",
       "      <th>0</th>\n",
       "      <th>1</th>\n",
       "      <th>2</th>\n",
       "      <th>3</th>\n",
       "      <th>4</th>\n",
       "      <th>5</th>\n",
       "      <th>6</th>\n",
       "      <th>7</th>\n",
       "      <th>8</th>\n",
       "    </tr>\n",
       "  </thead>\n",
       "  <tbody>\n",
       "    <tr>\n",
       "      <th>0</th>\n",
       "      <td>chr10</td>\n",
       "      <td>100176311</td>\n",
       "      <td>100176312</td>\n",
       "      <td>B045_1-4_chr10_r_c635[k=4][m=2]_AGACT</td>\n",
       "      <td>2</td>\n",
       "      <td>-</td>\n",
       "      <td>AGACT</td>\n",
       "      <td>4</td>\n",
       "      <td>0.500000</td>\n",
       "    </tr>\n",
       "    <tr>\n",
       "      <th>1</th>\n",
       "      <td>chr10</td>\n",
       "      <td>101090591</td>\n",
       "      <td>101090592</td>\n",
       "      <td>B045_1-4_chr10_f_c695[k=4][m=2]_GGACT</td>\n",
       "      <td>2</td>\n",
       "      <td>+</td>\n",
       "      <td>GGACT</td>\n",
       "      <td>4</td>\n",
       "      <td>0.500000</td>\n",
       "    </tr>\n",
       "    <tr>\n",
       "      <th>2</th>\n",
       "      <td>chr10</td>\n",
       "      <td>101370996</td>\n",
       "      <td>101370997</td>\n",
       "      <td>B045_1-4_chr10_r_c643[k=4][m=2]_GAACG</td>\n",
       "      <td>2</td>\n",
       "      <td>-</td>\n",
       "      <td>GAACG</td>\n",
       "      <td>4</td>\n",
       "      <td>0.500000</td>\n",
       "    </tr>\n",
       "    <tr>\n",
       "      <th>3</th>\n",
       "      <td>chr10</td>\n",
       "      <td>101503020</td>\n",
       "      <td>101503021</td>\n",
       "      <td>B045_1-4_chr10_f_c698[k=4][m=2]_TGACA</td>\n",
       "      <td>2</td>\n",
       "      <td>+</td>\n",
       "      <td>TGACA</td>\n",
       "      <td>4</td>\n",
       "      <td>0.500000</td>\n",
       "    </tr>\n",
       "    <tr>\n",
       "      <th>4</th>\n",
       "      <td>chr10</td>\n",
       "      <td>101515460</td>\n",
       "      <td>101515461</td>\n",
       "      <td>B045_1-4_chr10_f_c699[k=11][m=2]_GGACT</td>\n",
       "      <td>2</td>\n",
       "      <td>+</td>\n",
       "      <td>GGACT</td>\n",
       "      <td>11</td>\n",
       "      <td>0.181818</td>\n",
       "    </tr>\n",
       "  </tbody>\n",
       "</table>\n",
       "</div>"
      ],
      "text/plain": [
       "       0          1          2                                       3  4  5  \\\n",
       "0  chr10  100176311  100176312   B045_1-4_chr10_r_c635[k=4][m=2]_AGACT  2  -   \n",
       "1  chr10  101090591  101090592   B045_1-4_chr10_f_c695[k=4][m=2]_GGACT  2  +   \n",
       "2  chr10  101370996  101370997   B045_1-4_chr10_r_c643[k=4][m=2]_GAACG  2  -   \n",
       "3  chr10  101503020  101503021   B045_1-4_chr10_f_c698[k=4][m=2]_TGACA  2  +   \n",
       "4  chr10  101515460  101515461  B045_1-4_chr10_f_c699[k=11][m=2]_GGACT  2  +   \n",
       "\n",
       "       6   7         8  \n",
       "0  AGACT   4  0.500000  \n",
       "1  GGACT   4  0.500000  \n",
       "2  GAACG   4  0.500000  \n",
       "3  TGACA   4  0.500000  \n",
       "4  GGACT  11  0.181818  "
      ]
     },
     "execution_count": 7,
     "metadata": {},
     "output_type": "execute_result"
    }
   ],
   "source": [
    "#apparently, there are no gene ids in this file, right?? - yes, just the range of positions \n",
    "df2 = pd.read_csv(\"C:/Users/sofia/Desktop/THESIS/PROJECT/GSE63753_hek293.abcam.CIMS.m6A.9536.bed.txt\", sep='\\t', header = None)\n",
    "df2.head()"
   ]
  },
  {
   "cell_type": "code",
   "execution_count": null,
   "metadata": {},
   "outputs": [],
   "source": []
  }
 ],
 "metadata": {
  "kernelspec": {
   "display_name": "Python (my-thesis-env)",
   "language": "python",
   "name": "myenv"
  },
  "language_info": {
   "codemirror_mode": {
    "name": "ipython",
    "version": 3
   },
   "file_extension": ".py",
   "mimetype": "text/x-python",
   "name": "python",
   "nbconvert_exporter": "python",
   "pygments_lexer": "ipython3",
   "version": "3.10.8"
  }
 },
 "nbformat": 4,
 "nbformat_minor": 4
}
